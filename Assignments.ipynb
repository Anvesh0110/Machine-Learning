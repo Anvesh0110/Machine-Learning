{
  "nbformat": 4,
  "nbformat_minor": 0,
  "metadata": {
    "colab": {
      "name": "AnveshJain_101903442.ipynb",
      "provenance": [],
      "collapsed_sections": []
    },
    "kernelspec": {
      "name": "python3",
      "display_name": "Python 3"
    },
    "language_info": {
      "name": "python"
    }
  },
  "cells": [
    {
      "cell_type": "markdown",
      "metadata": {
        "id": "MxbWbjsCqsSD"
      },
      "source": [
        "# Assignment 1 - Python Basics"
      ]
    },
    {
      "cell_type": "markdown",
      "metadata": {
        "id": "Q9As76ejvNve"
      },
      "source": [
        "Q1. Split this string\n",
        "s = \"Hi there Class!\"\n",
        "into a list. "
      ]
    },
    {
      "cell_type": "code",
      "metadata": {
        "colab": {
          "base_uri": "https://localhost:8080/"
        },
        "id": "pCii0pAEvPsY",
        "outputId": "9b5e7b61-f3be-4290-a0e1-02f1f5cf5385"
      },
      "source": [
        "s = \"Hi there Class!\"\n",
        "li = list(s.split(\" \"))\n",
        "print(li)"
      ],
      "execution_count": null,
      "outputs": [
        {
          "output_type": "stream",
          "text": [
            "['Hi', 'there', 'Class!']\n"
          ],
          "name": "stdout"
        }
      ]
    },
    {
      "cell_type": "markdown",
      "metadata": {
        "id": "FYIAv3vGww1A"
      },
      "source": [
        "Q2. Given the variables\n",
        "planet = \"Earth\"\n",
        "diameter = 12742\n",
        "\n",
        "Use .format() to print the following string:\n",
        "The diameter of Earth is 12742 kilometers.\n"
      ]
    },
    {
      "cell_type": "code",
      "metadata": {
        "colab": {
          "base_uri": "https://localhost:8080/"
        },
        "id": "wvk-gaAOwy5a",
        "outputId": "abe04d20-b8cc-4c9a-cd93-40432504ca9b"
      },
      "source": [
        "planet = \"Earth\"\n",
        "diameter = 12742\n",
        "sent = 'The diameter of {} is {} kilometers.'.format(planet,diameter)\n",
        "print(sent)"
      ],
      "execution_count": null,
      "outputs": [
        {
          "output_type": "stream",
          "text": [
            "The diameter of Earth is 12742 kilometers.\n"
          ],
          "name": "stdout"
        }
      ]
    },
    {
      "cell_type": "markdown",
      "metadata": {
        "id": "qg_ahnxZz47B"
      },
      "source": [
        "Q3. Given this nested list, use indexing to grab the word \"hello\"\n",
        "\n",
        "lst = [1,2,[3,4],[5,[100,200,['hello']],23,11],1,7]"
      ]
    },
    {
      "cell_type": "code",
      "metadata": {
        "colab": {
          "base_uri": "https://localhost:8080/"
        },
        "id": "q132XjRhz80b",
        "outputId": "82b44691-d712-46a7-9ca3-6272b8a2a88c"
      },
      "source": [
        "lst = [1,2,[3,4],[5,[100,200,['hello']],23,11],1,7]\n",
        "grab = lst [3] [1] [2] [0]\n",
        "print(grab)"
      ],
      "execution_count": null,
      "outputs": [
        {
          "output_type": "stream",
          "text": [
            "hello\n"
          ],
          "name": "stdout"
        }
      ]
    },
    {
      "cell_type": "markdown",
      "metadata": {
        "id": "V7eDImmN2zPC"
      },
      "source": [
        "Q4. Given this nested dictionary grab the word \"hello\".\n",
        "\n",
        "d = {'k1':[1,2,3,{'tricky':['oh','man','inception',{'target':[1,2,3,'hello']}]}]}\n"
      ]
    },
    {
      "cell_type": "code",
      "metadata": {
        "colab": {
          "base_uri": "https://localhost:8080/"
        },
        "id": "NOSVIueE3Emx",
        "outputId": "4865b59e-e413-4790-c9b0-5781e849ef2e"
      },
      "source": [
        "d = {'k1':[1,2,3,{'tricky':['oh','man','inception',{'target':[1,2,3,'hello']}]}]}\n",
        "grab = d['k1'][3]['tricky'][3]['target'][3]\n",
        "print(grab)"
      ],
      "execution_count": null,
      "outputs": [
        {
          "output_type": "stream",
          "text": [
            "hello\n"
          ],
          "name": "stdout"
        }
      ]
    },
    {
      "cell_type": "markdown",
      "metadata": {
        "id": "zjB5MB-r5MUz"
      },
      "source": [
        "Q5. Create a function that grabs the email website domain from a string in the form:\n",
        "\n",
        "user@domain.com"
      ]
    },
    {
      "cell_type": "code",
      "metadata": {
        "colab": {
          "base_uri": "https://localhost:8080/",
          "height": 35
        },
        "id": "mKD-o0U75EUi",
        "outputId": "6157b96a-0bea-4bae-90a7-265cf20e6b8e"
      },
      "source": [
        "def func(email):\n",
        "    return email.split('@')[-1]\n",
        "\n",
        "func('user@domain.com')"
      ],
      "execution_count": null,
      "outputs": [
        {
          "output_type": "execute_result",
          "data": {
            "application/vnd.google.colaboratory.intrinsic+json": {
              "type": "string"
            },
            "text/plain": [
              "'domain.com'"
            ]
          },
          "metadata": {},
          "execution_count": 8
        }
      ]
    },
    {
      "cell_type": "markdown",
      "metadata": {
        "id": "ei9QXxhR9KO1"
      },
      "source": [
        "Q6. Create a basic function that returns True if the word 'dog' is contained in the input string. "
      ]
    },
    {
      "cell_type": "code",
      "metadata": {
        "colab": {
          "base_uri": "https://localhost:8080/"
        },
        "id": "Je-SSRcu9ViE",
        "outputId": "49884c23-f387-4350-9d94-85aaaf814399"
      },
      "source": [
        "def find(string):\n",
        "  return 'dog' in string.split(\" \")\n",
        "\n",
        "string = \"Who let the dog out?\"\n",
        "find(string)\n"
      ],
      "execution_count": null,
      "outputs": [
        {
          "output_type": "execute_result",
          "data": {
            "text/plain": [
              "True"
            ]
          },
          "metadata": {
            "tags": []
          },
          "execution_count": 14
        }
      ]
    },
    {
      "cell_type": "markdown",
      "metadata": {
        "id": "UJqUtaUY-FzE"
      },
      "source": [
        "Q7. Create a function that counts the number of times the word \"dog\" occurs in a string."
      ]
    },
    {
      "cell_type": "code",
      "metadata": {
        "id": "a5FR2VWe-UK2",
        "colab": {
          "base_uri": "https://localhost:8080/"
        },
        "outputId": "4d07e52a-cc0b-4b05-81fa-5964cdd7df37"
      },
      "source": [
        "def count(st):\n",
        "    c = 0\n",
        "    for word in st.lower().split():\n",
        "        if word == 'dog':\n",
        "            c += 1\n",
        "    return c\n",
        "count('Who let the dog out? The dog was not tamed.')"
      ],
      "execution_count": null,
      "outputs": [
        {
          "output_type": "execute_result",
          "data": {
            "text/plain": [
              "2"
            ]
          },
          "metadata": {
            "tags": []
          },
          "execution_count": 2
        }
      ]
    },
    {
      "cell_type": "markdown",
      "metadata": {
        "id": "3ZMJMDdkx8GO"
      },
      "source": [
        "Q8. Use lambda expressions and the filter() function to filter out words from a list that don't start with the \n",
        "letter 's'. \n",
        "\n",
        "For example: seq = ['soup','dog','salad','cat','great']"
      ]
    },
    {
      "cell_type": "code",
      "metadata": {
        "colab": {
          "base_uri": "https://localhost:8080/"
        },
        "id": "gSJ8CnzEyFB9",
        "outputId": "9c6ee133-8efd-4c19-8d42-5be3b75b567c"
      },
      "source": [
        "seq = ['soup','dog','salad','cat','great']\n",
        "list(filter(lambda word: word[0]=='s',seq))"
      ],
      "execution_count": null,
      "outputs": [
        {
          "output_type": "execute_result",
          "data": {
            "text/plain": [
              "['soup', 'salad']"
            ]
          },
          "metadata": {},
          "execution_count": 10
        }
      ]
    },
    {
      "cell_type": "markdown",
      "metadata": {
        "id": "vNQVQGLRyznV"
      },
      "source": [
        "Q9. You are driving a little too fast, and a police officer stops you. Write a function to return one of 3 possible results: \"No Challan\", \"Small Challan\", or \"Heavy Challan\". If your speed is 60 or less, the result is \"No Challan\". If speed is between 61 and 80 inclusive, the result is \"Small Challan\". If speed is 81 or more, the result is \"Heavy Challan\". Unless it is your birthday (encoded as a Boolean value in the parameters of the function) -- on your birthday, your speed can be 5 higher in all cases.\n",
        "\n",
        "caught_speeding(81,True)\n",
        "\n",
        "caught_speeding(81,False)"
      ]
    },
    {
      "cell_type": "code",
      "metadata": {
        "id": "1kkaNImby51W"
      },
      "source": [
        "def caught_speeding(speed, is_birthday):\n",
        "    \n",
        "    if is_birthday:\n",
        "        speedf = speed - 5\n",
        "    else:\n",
        "        speedf = speed\n",
        "    \n",
        "    if speedf > 80:\n",
        "        return 'Heavy Challan'\n",
        "    elif speedf > 60:\n",
        "        return 'Small Challan'\n",
        "    else:\n",
        "        return 'No Challan'\n",
        "\n",
        "\n"
      ],
      "execution_count": null,
      "outputs": []
    },
    {
      "cell_type": "code",
      "metadata": {
        "colab": {
          "base_uri": "https://localhost:8080/",
          "height": 35
        },
        "id": "zoZMMdc30uJe",
        "outputId": "0dac74e0-f895-4ff8-b17e-888b5f439564"
      },
      "source": [
        "caught_speeding(81,False)"
      ],
      "execution_count": null,
      "outputs": [
        {
          "output_type": "execute_result",
          "data": {
            "application/vnd.google.colaboratory.intrinsic+json": {
              "type": "string"
            },
            "text/plain": [
              "'Heavy Challan'"
            ]
          },
          "metadata": {
            "tags": []
          },
          "execution_count": 8
        }
      ]
    },
    {
      "cell_type": "code",
      "metadata": {
        "colab": {
          "base_uri": "https://localhost:8080/",
          "height": 35
        },
        "id": "b50_QTzF0x-k",
        "outputId": "c99787f9-e707-426b-960d-89d868aca658"
      },
      "source": [
        "caught_speeding(81,True)"
      ],
      "execution_count": null,
      "outputs": [
        {
          "output_type": "execute_result",
          "data": {
            "application/vnd.google.colaboratory.intrinsic+json": {
              "type": "string"
            },
            "text/plain": [
              "'Small Challan'"
            ]
          },
          "metadata": {
            "tags": []
          },
          "execution_count": 10
        }
      ]
    },
    {
      "cell_type": "markdown",
      "metadata": {
        "id": "fw8GAlOM00Tr"
      },
      "source": [
        "Q10. Concatenate two lists index-wise\n",
        "\n",
        "list1 = [\"M\", \"na\", \"i\", \"She\"] \n",
        "\n",
        "list2 = [\"y\", \"me\", \"s\", \"lly\"]\n",
        "\n",
        "Expected Outcome: ['My', 'name', 'is', 'Shelly']\n"
      ]
    },
    {
      "cell_type": "code",
      "metadata": {
        "colab": {
          "base_uri": "https://localhost:8080/"
        },
        "id": "9nLAmN7a1XUo",
        "outputId": "ed6477c3-1ecf-40b3-8f99-2102ed58a37b"
      },
      "source": [
        "list1 = [\"M\", \"na\", \"i\", \"She\"]\n",
        "list2 = [\"y\", \"me\", \"s\", \"lly\"]\n",
        "list3 = [i+j for i,j in zip(list1,list2)]\n",
        "print(list3)"
      ],
      "execution_count": null,
      "outputs": [
        {
          "output_type": "stream",
          "text": [
            "['My', 'name', 'is', 'Shelly']\n"
          ],
          "name": "stdout"
        }
      ]
    },
    {
      "cell_type": "markdown",
      "metadata": {
        "id": "vsY-WyJl_Fq0"
      },
      "source": [
        "Q11. Concatenate two lists in the following order\n",
        "\n",
        "list1 = [\"Hello \", \"take \"]\n",
        "\n",
        "list2 = [\"Dear\", \"Sir\"]\n",
        "\n",
        "Expected Output: ['Hello Dear', 'Hello Sir', 'take Dear', 'take Sir']"
      ]
    },
    {
      "cell_type": "code",
      "metadata": {
        "colab": {
          "base_uri": "https://localhost:8080/"
        },
        "id": "rnxxxMoh_N0b",
        "outputId": "c286e2ee-d90f-4c50-b0eb-3a10f035fd30"
      },
      "source": [
        "list1 = [\"Hello \", \"take \"]\n",
        "list2 = [\"Dear\", \"Sir\"]\n",
        "listf=[]\n",
        "for i in list1:\n",
        "  for j in list2:\n",
        "    listf.append(i+j)\n",
        "print(listf)"
      ],
      "execution_count": null,
      "outputs": [
        {
          "output_type": "stream",
          "text": [
            "['Hello Dear', 'Hello Sir', 'take Dear', 'take Sir']\n"
          ],
          "name": "stdout"
        }
      ]
    },
    {
      "cell_type": "code",
      "metadata": {
        "id": "_KsAv_RJAWUI",
        "colab": {
          "base_uri": "https://localhost:8080/"
        },
        "outputId": "33aeed25-6983-480b-9c70-8490f555eac9"
      },
      "source": [
        "from google.colab import drive\n",
        "drive.mount('/content/drive')"
      ],
      "execution_count": null,
      "outputs": [
        {
          "output_type": "stream",
          "name": "stdout",
          "text": [
            "Drive already mounted at /content/drive; to attempt to forcibly remount, call drive.mount(\"/content/drive\", force_remount=True).\n"
          ]
        }
      ]
    },
    {
      "cell_type": "markdown",
      "metadata": {
        "id": "uLoldDY9_1w6"
      },
      "source": [
        "Q12. Add item 7000 after 6000 in the following Python List\n",
        "\n",
        "list1 = [10, 20, [300, 400, [5000, 6000], 500], 30, 40]"
      ]
    },
    {
      "cell_type": "code",
      "metadata": {
        "colab": {
          "base_uri": "https://localhost:8080/"
        },
        "id": "Zj7AWMdc_68L",
        "outputId": "dd4aab65-43b0-4e32-9d3b-17f5689d97bc"
      },
      "source": [
        "list1 = [10, 20, [300, 400, [5000, 6000], 500], 30, 40]\n",
        "list1[2][2].append(7000)\n",
        "print(list1)"
      ],
      "execution_count": null,
      "outputs": [
        {
          "output_type": "stream",
          "text": [
            "[10, 20, [300, 400, [5000, 6000, 7000], 500], 30, 40]\n"
          ],
          "name": "stdout"
        }
      ]
    },
    {
      "cell_type": "markdown",
      "metadata": {
        "id": "Utg9SyZ2ANkN"
      },
      "source": [
        "Q13. Given a Python list, remove all occurrence of 20 from the list\n",
        "\n",
        "list1 = [5, 20, 15, 20, 25, 50, 20]"
      ]
    },
    {
      "cell_type": "code",
      "metadata": {
        "colab": {
          "base_uri": "https://localhost:8080/"
        },
        "id": "NM0MlC7KARLU",
        "outputId": "0b7f0c18-2a23-482e-ff69-55cea94d139e"
      },
      "source": [
        "list1 = [5, 20, 15, 20, 25, 50, 20]\n",
        "while 20 in list1:\n",
        "  list1.remove(20)\n",
        "print(list1)"
      ],
      "execution_count": null,
      "outputs": [
        {
          "output_type": "stream",
          "text": [
            "[5, 15, 25, 50]\n"
          ],
          "name": "stdout"
        }
      ]
    },
    {
      "cell_type": "markdown",
      "metadata": {
        "id": "vUSU-SDkAopD"
      },
      "source": [
        "Q14. Check if a value 200 exists in a dictionary\n",
        "\n",
        "d1 = {'a': 100, 'b': 200, 'c': 300}"
      ]
    },
    {
      "cell_type": "code",
      "metadata": {
        "colab": {
          "base_uri": "https://localhost:8080/"
        },
        "id": "aKcrY1E3AsEE",
        "outputId": "bd5e28e1-2c1f-42ff-f013-7c23a220d4d3"
      },
      "source": [
        "d1 = {'a': 100, 'b': 200, 'c': 300}\n",
        "if 200 in d1.values():\n",
        "  print('True')\n",
        "else:\n",
        "  print('False')\n"
      ],
      "execution_count": null,
      "outputs": [
        {
          "output_type": "stream",
          "text": [
            "True\n"
          ],
          "name": "stdout"
        }
      ]
    },
    {
      "cell_type": "markdown",
      "metadata": {
        "id": "HTXjazKuBeXc"
      },
      "source": [
        "Q15. Find the sum of the series 2 +22 + 222 + 2222 + .. n term"
      ]
    },
    {
      "cell_type": "code",
      "metadata": {
        "colab": {
          "base_uri": "https://localhost:8080/"
        },
        "id": "y5ep6XBCBggS",
        "outputId": "f66839b3-81b9-41a3-e9e1-cfd9c0b84bfd"
      },
      "source": [
        "n=int(input(\"Enter the value of n \"))\n",
        "print((2/81)*(10*(pow(10,n)-1)-(9*n)))"
      ],
      "execution_count": null,
      "outputs": [
        {
          "output_type": "stream",
          "text": [
            "Enter the value of n 3\n",
            "246.0\n"
          ],
          "name": "stdout"
        }
      ]
    },
    {
      "cell_type": "markdown",
      "metadata": {
        "id": "eP15uuofrEU5"
      },
      "source": [
        "# Assignment 2 - NumPy"
      ]
    },
    {
      "cell_type": "markdown",
      "metadata": {
        "id": "u-eIbscmMau6"
      },
      "source": [
        "Q1. Create an array of 10 fives\n"
      ]
    },
    {
      "cell_type": "code",
      "metadata": {
        "colab": {
          "base_uri": "https://localhost:8080/"
        },
        "id": "jTPXVx8HMe-K",
        "outputId": "e176873b-1320-4125-99b6-ff06f5d591fb"
      },
      "source": [
        "import numpy as np\n",
        "arr = np.zeros(10)\n",
        "arr+5"
      ],
      "execution_count": null,
      "outputs": [
        {
          "output_type": "execute_result",
          "data": {
            "text/plain": [
              "array([5., 5., 5., 5., 5., 5., 5., 5., 5., 5.])"
            ]
          },
          "metadata": {
            "tags": []
          },
          "execution_count": 4
        }
      ]
    },
    {
      "cell_type": "markdown",
      "metadata": {
        "id": "Vnhu76GjUASk"
      },
      "source": [
        "Q2. Create an array of the integers from 10 to 50"
      ]
    },
    {
      "cell_type": "code",
      "metadata": {
        "colab": {
          "base_uri": "https://localhost:8080/"
        },
        "id": "zJT_yX3XUNUC",
        "outputId": "ba56496a-7967-445d-af7b-b7c896f832ec"
      },
      "source": [
        "import numpy as np\n",
        "arr = np.arange(10,51)\n",
        "arr"
      ],
      "execution_count": null,
      "outputs": [
        {
          "output_type": "execute_result",
          "data": {
            "text/plain": [
              "array([10, 11, 12, 13, 14, 15, 16, 17, 18, 19, 20, 21, 22, 23, 24, 25, 26,\n",
              "       27, 28, 29, 30, 31, 32, 33, 34, 35, 36, 37, 38, 39, 40, 41, 42, 43,\n",
              "       44, 45, 46, 47, 48, 49, 50])"
            ]
          },
          "metadata": {
            "tags": []
          },
          "execution_count": 6
        }
      ]
    },
    {
      "cell_type": "markdown",
      "metadata": {
        "id": "YWa-i0bZZEsx"
      },
      "source": [
        "Q3. Create an array of all the even integers from 10 to 50"
      ]
    },
    {
      "cell_type": "code",
      "metadata": {
        "colab": {
          "base_uri": "https://localhost:8080/"
        },
        "id": "LFVnKVn7ZG2q",
        "outputId": "03dfdc45-9726-4d15-8220-4e12ec59c4e0"
      },
      "source": [
        "import numpy as np\n",
        "arr = np.arange(10,51,2)\n",
        "arr"
      ],
      "execution_count": null,
      "outputs": [
        {
          "output_type": "execute_result",
          "data": {
            "text/plain": [
              "array([10, 12, 14, 16, 18, 20, 22, 24, 26, 28, 30, 32, 34, 36, 38, 40, 42,\n",
              "       44, 46, 48, 50])"
            ]
          },
          "metadata": {
            "tags": []
          },
          "execution_count": 7
        }
      ]
    },
    {
      "cell_type": "markdown",
      "metadata": {
        "id": "o4vYRXZ9ZWFq"
      },
      "source": [
        "Q4. Create a 3x3 matrix with values ranging from 0 to 8\n"
      ]
    },
    {
      "cell_type": "code",
      "metadata": {
        "colab": {
          "base_uri": "https://localhost:8080/"
        },
        "id": "uPy9_cT-ZYai",
        "outputId": "895fe65b-6d9e-4f81-ab5e-0858896a81ae"
      },
      "source": [
        "import numpy as np\n",
        "arr=np.arange(0,9)\n",
        "arr=arr.reshape(3,3)\n",
        "arr\n"
      ],
      "execution_count": null,
      "outputs": [
        {
          "output_type": "execute_result",
          "data": {
            "text/plain": [
              "array([[0, 1, 2],\n",
              "       [3, 4, 5],\n",
              "       [6, 7, 8]])"
            ]
          },
          "metadata": {
            "tags": []
          },
          "execution_count": 8
        }
      ]
    },
    {
      "cell_type": "markdown",
      "metadata": {
        "id": "YGaNAPU0ZzOT"
      },
      "source": [
        "Q5. Use NumPy to generate an array of 25 random numbers sampled from a standard normal distribution"
      ]
    },
    {
      "cell_type": "code",
      "metadata": {
        "colab": {
          "base_uri": "https://localhost:8080/"
        },
        "id": "oPsT2HmsZ6kV",
        "outputId": "6e27c3a4-78bf-4cf7-e0b7-e4b6148444d4"
      },
      "source": [
        "import numpy as np\n",
        "arr=np.random.normal(0,100,25)\n",
        "arr"
      ],
      "execution_count": null,
      "outputs": [
        {
          "output_type": "execute_result",
          "data": {
            "text/plain": [
              "array([  45.0167861 , -104.24086345,   53.95147507, -129.0391038 ,\n",
              "          4.21661994,  -39.19014228,    9.35203262,   62.50391191,\n",
              "        109.6894557 ,   20.52403173, -174.05706492, -108.58797644,\n",
              "        -99.76379886, -139.20296877,   79.60053846,   -2.0991832 ,\n",
              "        -84.60758517,   56.59653947,   -2.04808662, -148.93272725,\n",
              "        -22.11122047,  -49.61994622,   20.28317344,  -73.4656791 ,\n",
              "        -17.13894176])"
            ]
          },
          "metadata": {
            "tags": []
          },
          "execution_count": 9
        }
      ]
    },
    {
      "cell_type": "markdown",
      "metadata": {
        "id": "KSB6Bu2tbcCs"
      },
      "source": [
        "Q6. Create the following array:\n",
        "\n",
        "array([0. , 0.01, 0.02, 0.03, 0.04, 0.05, 0.06, 0.07, 0.08, 0.09, 0.1 ,\n",
        " 0.11, 0.12, 0.13, 0.14, 0.15, 0.16, 0.17, 0.18, 0.19, 0.2 , 0.21,\n",
        " 0.22, 0.23, 0.24, 0.25, 0.26, 0.27, 0.28, 0.29, 0.3 , 0.31, 0.32,\n",
        " 0.33, 0.34, 0.35, 0.36, 0.37, 0.38, 0.39, 0.4 , 0.41, 0.42, 0.43,\n",
        " 0.44, 0.45, 0.46, 0.47, 0.48, 0.49, 0.5 , 0.51, 0.52, 0.53, 0.54,\n",
        " 0.55, 0.56, 0.57, 0.58, 0.59, 0.6 , 0.61, 0.62, 0.63, 0.64, 0.65,\n",
        " 0.66, 0.67, 0.68, 0.69, 0.7 , 0.71, 0.72, 0.73, 0.74, 0.75, 0.76,\n",
        " 0.77, 0.78, 0.79, 0.8 , 0.81, 0.82, 0.83, 0.84, 0.85, 0.86, 0.87,\n",
        " 0.88, 0.89, 0.9 , 0.91, 0.92, 0.93, 0.94, 0.95, 0.96, 0.97, 0.98,\n",
        " 0.99, 1. ])"
      ]
    },
    {
      "cell_type": "code",
      "metadata": {
        "colab": {
          "base_uri": "https://localhost:8080/"
        },
        "id": "C94GKO3KbuUC",
        "outputId": "c03cdfd6-1b07-437a-a94a-53deca93786f"
      },
      "source": [
        "import numpy as np\n",
        "arr=np.arange(0,1.01,0.01)\n",
        "arr"
      ],
      "execution_count": null,
      "outputs": [
        {
          "output_type": "execute_result",
          "data": {
            "text/plain": [
              "array([0.  , 0.01, 0.02, 0.03, 0.04, 0.05, 0.06, 0.07, 0.08, 0.09, 0.1 ,\n",
              "       0.11, 0.12, 0.13, 0.14, 0.15, 0.16, 0.17, 0.18, 0.19, 0.2 , 0.21,\n",
              "       0.22, 0.23, 0.24, 0.25, 0.26, 0.27, 0.28, 0.29, 0.3 , 0.31, 0.32,\n",
              "       0.33, 0.34, 0.35, 0.36, 0.37, 0.38, 0.39, 0.4 , 0.41, 0.42, 0.43,\n",
              "       0.44, 0.45, 0.46, 0.47, 0.48, 0.49, 0.5 , 0.51, 0.52, 0.53, 0.54,\n",
              "       0.55, 0.56, 0.57, 0.58, 0.59, 0.6 , 0.61, 0.62, 0.63, 0.64, 0.65,\n",
              "       0.66, 0.67, 0.68, 0.69, 0.7 , 0.71, 0.72, 0.73, 0.74, 0.75, 0.76,\n",
              "       0.77, 0.78, 0.79, 0.8 , 0.81, 0.82, 0.83, 0.84, 0.85, 0.86, 0.87,\n",
              "       0.88, 0.89, 0.9 , 0.91, 0.92, 0.93, 0.94, 0.95, 0.96, 0.97, 0.98,\n",
              "       0.99, 1.  ])"
            ]
          },
          "metadata": {
            "tags": []
          },
          "execution_count": 10
        }
      ]
    },
    {
      "cell_type": "markdown",
      "metadata": {
        "id": "VWA4jz27cIFq"
      },
      "source": [
        "Q7. Create an array of 20 linearly spaced points between 0 and 1\n"
      ]
    },
    {
      "cell_type": "code",
      "metadata": {
        "colab": {
          "base_uri": "https://localhost:8080/"
        },
        "id": "otk7EsyecMP8",
        "outputId": "4d110e8f-d7d7-45f3-fd46-47a5948bc1fb"
      },
      "source": [
        "import numpy as np\n",
        "arr=np.linspace(0,1,20)\n",
        "arr"
      ],
      "execution_count": null,
      "outputs": [
        {
          "output_type": "execute_result",
          "data": {
            "text/plain": [
              "array([0.        , 0.05263158, 0.10526316, 0.15789474, 0.21052632,\n",
              "       0.26315789, 0.31578947, 0.36842105, 0.42105263, 0.47368421,\n",
              "       0.52631579, 0.57894737, 0.63157895, 0.68421053, 0.73684211,\n",
              "       0.78947368, 0.84210526, 0.89473684, 0.94736842, 1.        ])"
            ]
          },
          "metadata": {
            "tags": []
          },
          "execution_count": 11
        }
      ]
    },
    {
      "cell_type": "markdown",
      "metadata": {
        "id": "Jbx4jn3Tc8jK"
      },
      "source": [
        "Q8. Generate the following matrix :\n",
        "\n",
        "array([[ 1, 2, 3, 4, 5],\n",
        " [ 6, 7, 8, 9, 10],\n",
        " [11, 12, 13, 14, 15],\n",
        " [16, 17, 18, 19, 20],\n",
        " [21, 22, 23, 24, 25]])\n",
        "\n",
        "and extract the following using the indexing and slicing :\n",
        "\n",
        "array([[12, 13, 14, 15],\n",
        " [17, 18, 19, 20],\n",
        " [22, 23, 24, 25]])\n",
        "\n",
        "array([[ 2],\n",
        " [ 7],\n",
        " [12]])\n",
        "\n",
        "Get the sum of all the values in mat\n",
        "\n",
        "Get the sum of all the rows and columns in mat\n"
      ]
    },
    {
      "cell_type": "code",
      "metadata": {
        "colab": {
          "base_uri": "https://localhost:8080/"
        },
        "id": "Us6znPpcegMj",
        "outputId": "7640b3d1-06d2-4912-ef5b-128e9399f517"
      },
      "source": [
        "import numpy as np\n",
        "arr=np.arange(1,26)\n",
        "mat=arr.reshape(5,5)\n",
        "print(\"mat = \\n\",mat)\n",
        "print(\"\\n\")\n",
        "\n",
        "arr1=mat[2:,1:]\n",
        "print(\"arr1 = \\n\",arr1)\n",
        "print(\"\\n\")\n",
        "\n",
        "arr2=mat[0:3,1]\n",
        "print(\"arr2 = \\n\",arr2.reshape(3,1))\n",
        "print(\"\\n\")\n",
        "\n",
        "print(\"Sum of all values in matrix : \",np.sum(mat))\n",
        "print(\"\\n\")\n",
        "print(\"Sum of values along row : \",np.sum(mat,axis=1).reshape(5,1))\n",
        "print(\"\\n\")\n",
        "print(\"Sum of values along column : \",np.sum(mat,axis=0).reshape(1,5))"
      ],
      "execution_count": null,
      "outputs": [
        {
          "output_type": "stream",
          "text": [
            "mat = \n",
            " [[ 1  2  3  4  5]\n",
            " [ 6  7  8  9 10]\n",
            " [11 12 13 14 15]\n",
            " [16 17 18 19 20]\n",
            " [21 22 23 24 25]]\n",
            "\n",
            "\n",
            "arr1 = \n",
            " [[12 13 14 15]\n",
            " [17 18 19 20]\n",
            " [22 23 24 25]]\n",
            "\n",
            "\n",
            "arr2 = \n",
            " [[ 2]\n",
            " [ 7]\n",
            " [12]]\n",
            "\n",
            "\n",
            "Sum of all values in matrix :  325\n",
            "\n",
            "\n",
            "Sum of values along row :  [[ 15]\n",
            " [ 40]\n",
            " [ 65]\n",
            " [ 90]\n",
            " [115]]\n",
            "\n",
            "\n",
            "Sum of values along column :  [[55 60 65 70 75]]\n"
          ],
          "name": "stdout"
        }
      ]
    },
    {
      "cell_type": "markdown",
      "metadata": {
        "id": "8_smRaaaqmTt"
      },
      "source": [
        "# Assignment 3"
      ]
    },
    {
      "cell_type": "markdown",
      "metadata": {
        "id": "avffQF2xxYgo"
      },
      "source": [
        "***Part I: Based on Feature Selection, Cleaning, and Preprocessing to Construct an Input from Data Source***"
      ]
    },
    {
      "cell_type": "markdown",
      "metadata": {
        "id": "ekluGXD2u3qm"
      },
      "source": [
        "(A) Examine the values of each attribute and Select a set of attributes only that would affect to predict \n",
        "future bike buyers to create your input for data mining algorithms. Remove all the unnecessary \n",
        "attributes. (Select features just by analysis). "
      ]
    },
    {
      "cell_type": "code",
      "metadata": {
        "id": "eTNl8PKv4Oqv"
      },
      "source": [
        "import pandas as pd\n",
        "df1=pd.read_csv('/content/drive/MyDrive/ML/AWSales (1).csv')\n",
        "print(df1.columns)\n",
        "df1"
      ],
      "execution_count": null,
      "outputs": []
    },
    {
      "cell_type": "code",
      "metadata": {
        "id": "jmRJ8WPj64jf"
      },
      "source": [
        "import pandas as pd\n",
        "df2=pd.read_csv('/content/drive/MyDrive/ML/AWCustomers.csv (1).zip')\n",
        "print(df2.columns)\n",
        "df2"
      ],
      "execution_count": null,
      "outputs": []
    },
    {
      "cell_type": "markdown",
      "metadata": {
        "id": "yykMAxkPvJIb"
      },
      "source": [
        "(B) Create a new Data Frame with the selected attributes only. "
      ]
    },
    {
      "cell_type": "code",
      "metadata": {
        "id": "pSZ4t__KwF2a"
      },
      "source": [
        "df=df2.merge(df1)\n",
        "print(df.columns)\n",
        "df"
      ],
      "execution_count": null,
      "outputs": []
    },
    {
      "cell_type": "code",
      "metadata": {
        "id": "5adH3uiawa_n"
      },
      "source": [
        "df=df.iloc[:,[10,13,14,15,16,17,18,19,20,22,25]]\n",
        "df.head()"
      ],
      "execution_count": null,
      "outputs": []
    },
    {
      "cell_type": "code",
      "metadata": {
        "id": "b8ICh7-A4rqp"
      },
      "source": [
        "#convert birth-date into age as age would be better varible to decide whether it is legal to buy bike or not.\n",
        "for i,rows in df.iterrows():\n",
        "  age= 2021- int(df.loc[i,'BirthDate'][0:4])\n",
        "  df.at[i,'BirthDate']=age\n",
        "df.rename(columns={\"BirthDate\":\"Age\",\"CountryRegionName\":\"Country\"},inplace=True)\n",
        "df.nunique(axis=0)\n",
        "df.head()"
      ],
      "execution_count": null,
      "outputs": []
    },
    {
      "cell_type": "markdown",
      "metadata": {
        "id": "q3DUYi5wwe5E"
      },
      "source": [
        "(C) Determine a Data value type (Discrete, or Continuous, then Nominal, Ordinal, Interval, Ratio) of \n",
        "each attribute in your selection to identify preprocessing tasks to create input for your data mining. "
      ]
    },
    {
      "cell_type": "code",
      "metadata": {
        "id": "8_B8Qqi5wi-t"
      },
      "source": [
        "df.info()"
      ],
      "execution_count": null,
      "outputs": []
    },
    {
      "cell_type": "markdown",
      "metadata": {
        "id": "KFqolaLDxe3y"
      },
      "source": [
        "***Part II: Data Preprocessing and Transformation***"
      ]
    },
    {
      "cell_type": "code",
      "metadata": {
        "colab": {
          "base_uri": "https://localhost:8080/"
        },
        "id": "tis_K7TAxg7n",
        "outputId": "2e19c273-cacd-4689-be7d-f128cf993dbb"
      },
      "source": [
        "df.isnull().sum()"
      ],
      "execution_count": null,
      "outputs": [
        {
          "output_type": "execute_result",
          "data": {
            "text/plain": [
              "Country                 0\n",
              "Age                     0\n",
              "Education               0\n",
              "Occupation              0\n",
              "Gender                  0\n",
              "MaritalStatus           0\n",
              "HomeOwnerFlag           0\n",
              "NumberCarsOwned         0\n",
              "NumberChildrenAtHome    0\n",
              "YearlyIncome            0\n",
              "AvgMonthSpend           0\n",
              "dtype: int64"
            ]
          },
          "metadata": {},
          "execution_count": 55
        }
      ]
    },
    {
      "cell_type": "markdown",
      "metadata": {
        "id": "VWTkMWFI0P2S"
      },
      "source": [
        "As there are no null values thus we do not need to fill the gaps by interpolation or any process"
      ]
    },
    {
      "cell_type": "code",
      "metadata": {
        "colab": {
          "base_uri": "https://localhost:8080/",
          "height": 890
        },
        "id": "GStF277212Ld",
        "outputId": "59b8243e-d496-4a85-efe9-7e4983d110bb"
      },
      "source": [
        "from sklearn.preprocessing import StandardScaler\n",
        "#scaled_age=scalar.fit_transform(df[['Age']].values)\n",
        "df['Age']=scalar.fit_transform(df[['Age']].values)\n",
        "df['YearlyIncome']=scalar.fit_transform(df[['YearlyIncome']].values)\n",
        "df['AvgMonthSpend']=scalar.fit_transform(df[['AvgMonthSpend']].values)\n",
        "#df['Age']=scaled_age\n",
        "#df['YearlyIncome']=scaled_income\n",
        "#df['AvgMonthSpend']=scaled_spent\n",
        "df"
      ],
      "execution_count": null,
      "outputs": [
        {
          "output_type": "stream",
          "name": "stderr",
          "text": [
            "/usr/local/lib/python3.7/dist-packages/ipykernel_launcher.py:3: SettingWithCopyWarning: \n",
            "A value is trying to be set on a copy of a slice from a DataFrame.\n",
            "Try using .loc[row_indexer,col_indexer] = value instead\n",
            "\n",
            "See the caveats in the documentation: https://pandas.pydata.org/pandas-docs/stable/user_guide/indexing.html#returning-a-view-versus-a-copy\n",
            "  This is separate from the ipykernel package so we can avoid doing imports until\n",
            "/usr/local/lib/python3.7/dist-packages/ipykernel_launcher.py:4: SettingWithCopyWarning: \n",
            "A value is trying to be set on a copy of a slice from a DataFrame.\n",
            "Try using .loc[row_indexer,col_indexer] = value instead\n",
            "\n",
            "See the caveats in the documentation: https://pandas.pydata.org/pandas-docs/stable/user_guide/indexing.html#returning-a-view-versus-a-copy\n",
            "  after removing the cwd from sys.path.\n",
            "/usr/local/lib/python3.7/dist-packages/ipykernel_launcher.py:5: SettingWithCopyWarning: \n",
            "A value is trying to be set on a copy of a slice from a DataFrame.\n",
            "Try using .loc[row_indexer,col_indexer] = value instead\n",
            "\n",
            "See the caveats in the documentation: https://pandas.pydata.org/pandas-docs/stable/user_guide/indexing.html#returning-a-view-versus-a-copy\n",
            "  \"\"\"\n"
          ]
        },
        {
          "output_type": "execute_result",
          "data": {
            "text/html": [
              "<div>\n",
              "<style scoped>\n",
              "    .dataframe tbody tr th:only-of-type {\n",
              "        vertical-align: middle;\n",
              "    }\n",
              "\n",
              "    .dataframe tbody tr th {\n",
              "        vertical-align: top;\n",
              "    }\n",
              "\n",
              "    .dataframe thead th {\n",
              "        text-align: right;\n",
              "    }\n",
              "</style>\n",
              "<table border=\"1\" class=\"dataframe\">\n",
              "  <thead>\n",
              "    <tr style=\"text-align: right;\">\n",
              "      <th></th>\n",
              "      <th>Country</th>\n",
              "      <th>Age</th>\n",
              "      <th>Education</th>\n",
              "      <th>Occupation</th>\n",
              "      <th>Gender</th>\n",
              "      <th>MaritalStatus</th>\n",
              "      <th>HomeOwnerFlag</th>\n",
              "      <th>NumberCarsOwned</th>\n",
              "      <th>NumberChildrenAtHome</th>\n",
              "      <th>YearlyIncome</th>\n",
              "      <th>AvgMonthSpend</th>\n",
              "    </tr>\n",
              "  </thead>\n",
              "  <tbody>\n",
              "    <tr>\n",
              "      <th>0</th>\n",
              "      <td>Australia</td>\n",
              "      <td>-0.482516</td>\n",
              "      <td>Bachelors</td>\n",
              "      <td>Clerical</td>\n",
              "      <td>M</td>\n",
              "      <td>M</td>\n",
              "      <td>1</td>\n",
              "      <td>3</td>\n",
              "      <td>0</td>\n",
              "      <td>0.298555</td>\n",
              "      <td>-0.231774</td>\n",
              "    </tr>\n",
              "    <tr>\n",
              "      <th>1</th>\n",
              "      <td>Canada</td>\n",
              "      <td>0.851033</td>\n",
              "      <td>Partial College</td>\n",
              "      <td>Clerical</td>\n",
              "      <td>M</td>\n",
              "      <td>M</td>\n",
              "      <td>1</td>\n",
              "      <td>2</td>\n",
              "      <td>1</td>\n",
              "      <td>0.271180</td>\n",
              "      <td>0.390755</td>\n",
              "    </tr>\n",
              "    <tr>\n",
              "      <th>2</th>\n",
              "      <td>United States</td>\n",
              "      <td>-0.304710</td>\n",
              "      <td>Bachelors</td>\n",
              "      <td>Clerical</td>\n",
              "      <td>F</td>\n",
              "      <td>S</td>\n",
              "      <td>0</td>\n",
              "      <td>3</td>\n",
              "      <td>0</td>\n",
              "      <td>0.444261</td>\n",
              "      <td>0.672929</td>\n",
              "    </tr>\n",
              "    <tr>\n",
              "      <th>3</th>\n",
              "      <td>United Kingdom</td>\n",
              "      <td>0.406517</td>\n",
              "      <td>Partial College</td>\n",
              "      <td>Skilled Manual</td>\n",
              "      <td>M</td>\n",
              "      <td>M</td>\n",
              "      <td>1</td>\n",
              "      <td>2</td>\n",
              "      <td>1</td>\n",
              "      <td>-0.367401</td>\n",
              "      <td>1.501999</td>\n",
              "    </tr>\n",
              "    <tr>\n",
              "      <th>4</th>\n",
              "      <td>Germany</td>\n",
              "      <td>0.584324</td>\n",
              "      <td>Partial College</td>\n",
              "      <td>Skilled Manual</td>\n",
              "      <td>M</td>\n",
              "      <td>S</td>\n",
              "      <td>1</td>\n",
              "      <td>1</td>\n",
              "      <td>0</td>\n",
              "      <td>-0.682765</td>\n",
              "      <td>1.059828</td>\n",
              "    </tr>\n",
              "    <tr>\n",
              "      <th>...</th>\n",
              "      <td>...</td>\n",
              "      <td>...</td>\n",
              "      <td>...</td>\n",
              "      <td>...</td>\n",
              "      <td>...</td>\n",
              "      <td>...</td>\n",
              "      <td>...</td>\n",
              "      <td>...</td>\n",
              "      <td>...</td>\n",
              "      <td>...</td>\n",
              "      <td>...</td>\n",
              "    </tr>\n",
              "    <tr>\n",
              "      <th>18356</th>\n",
              "      <td>United States</td>\n",
              "      <td>-0.749226</td>\n",
              "      <td>Graduate Degree</td>\n",
              "      <td>Skilled Manual</td>\n",
              "      <td>F</td>\n",
              "      <td>M</td>\n",
              "      <td>0</td>\n",
              "      <td>1</td>\n",
              "      <td>0</td>\n",
              "      <td>-0.645321</td>\n",
              "      <td>-1.055025</td>\n",
              "    </tr>\n",
              "    <tr>\n",
              "      <th>18357</th>\n",
              "      <td>Australia</td>\n",
              "      <td>-0.927033</td>\n",
              "      <td>Bachelors</td>\n",
              "      <td>Skilled Manual</td>\n",
              "      <td>F</td>\n",
              "      <td>S</td>\n",
              "      <td>0</td>\n",
              "      <td>2</td>\n",
              "      <td>0</td>\n",
              "      <td>-0.383337</td>\n",
              "      <td>-0.447041</td>\n",
              "    </tr>\n",
              "    <tr>\n",
              "      <th>18358</th>\n",
              "      <td>United States</td>\n",
              "      <td>-0.126903</td>\n",
              "      <td>Partial College</td>\n",
              "      <td>Skilled Manual</td>\n",
              "      <td>F</td>\n",
              "      <td>S</td>\n",
              "      <td>0</td>\n",
              "      <td>2</td>\n",
              "      <td>0</td>\n",
              "      <td>-0.680973</td>\n",
              "      <td>-0.641945</td>\n",
              "    </tr>\n",
              "    <tr>\n",
              "      <th>18359</th>\n",
              "      <td>Canada</td>\n",
              "      <td>-1.193743</td>\n",
              "      <td>High School</td>\n",
              "      <td>Clerical</td>\n",
              "      <td>F</td>\n",
              "      <td>S</td>\n",
              "      <td>0</td>\n",
              "      <td>0</td>\n",
              "      <td>0</td>\n",
              "      <td>0.470006</td>\n",
              "      <td>-0.100868</td>\n",
              "    </tr>\n",
              "    <tr>\n",
              "      <th>18360</th>\n",
              "      <td>United States</td>\n",
              "      <td>-0.393613</td>\n",
              "      <td>Graduate Degree</td>\n",
              "      <td>Professional</td>\n",
              "      <td>F</td>\n",
              "      <td>M</td>\n",
              "      <td>1</td>\n",
              "      <td>2</td>\n",
              "      <td>0</td>\n",
              "      <td>2.088996</td>\n",
              "      <td>0.146398</td>\n",
              "    </tr>\n",
              "  </tbody>\n",
              "</table>\n",
              "<p>18361 rows × 11 columns</p>\n",
              "</div>"
            ],
            "text/plain": [
              "              Country       Age  ... YearlyIncome AvgMonthSpend\n",
              "0           Australia -0.482516  ...     0.298555     -0.231774\n",
              "1              Canada  0.851033  ...     0.271180      0.390755\n",
              "2       United States -0.304710  ...     0.444261      0.672929\n",
              "3      United Kingdom  0.406517  ...    -0.367401      1.501999\n",
              "4             Germany  0.584324  ...    -0.682765      1.059828\n",
              "...               ...       ...  ...          ...           ...\n",
              "18356   United States -0.749226  ...    -0.645321     -1.055025\n",
              "18357       Australia -0.927033  ...    -0.383337     -0.447041\n",
              "18358   United States -0.126903  ...    -0.680973     -0.641945\n",
              "18359          Canada -1.193743  ...     0.470006     -0.100868\n",
              "18360   United States -0.393613  ...     2.088996      0.146398\n",
              "\n",
              "[18361 rows x 11 columns]"
            ]
          },
          "metadata": {},
          "execution_count": 56
        }
      ]
    },
    {
      "cell_type": "markdown",
      "metadata": {
        "id": "2soJSo0L2n8h"
      },
      "source": [
        "(E) Binarization (One Hot Encoding) "
      ]
    },
    {
      "cell_type": "code",
      "metadata": {
        "colab": {
          "base_uri": "https://localhost:8080/",
          "height": 290
        },
        "id": "SKcnSEBH2tk9",
        "outputId": "75ef3997-25bf-4495-b1b6-08a10b3fd91e"
      },
      "source": [
        "#encoding the martialstatus and gender\n",
        "df['MaritalStatus'].unique()\n",
        "gender={'M':0,'F':1}\n",
        "marital={'M':1,'S':0}\n",
        "for i,row in df.iterrows():\n",
        "  entry1=df.loc[i,'Gender']\n",
        "  entry2=df.loc[i,'MaritalStatus']\n",
        "  df.at[i,'MaritalStatus']=marital[entry2]\n",
        "  df.at[i,'Gender']=gender[entry1]\n",
        "df.head()"
      ],
      "execution_count": null,
      "outputs": [
        {
          "output_type": "execute_result",
          "data": {
            "text/html": [
              "<div>\n",
              "<style scoped>\n",
              "    .dataframe tbody tr th:only-of-type {\n",
              "        vertical-align: middle;\n",
              "    }\n",
              "\n",
              "    .dataframe tbody tr th {\n",
              "        vertical-align: top;\n",
              "    }\n",
              "\n",
              "    .dataframe thead th {\n",
              "        text-align: right;\n",
              "    }\n",
              "</style>\n",
              "<table border=\"1\" class=\"dataframe\">\n",
              "  <thead>\n",
              "    <tr style=\"text-align: right;\">\n",
              "      <th></th>\n",
              "      <th>Country</th>\n",
              "      <th>Age</th>\n",
              "      <th>Education</th>\n",
              "      <th>Occupation</th>\n",
              "      <th>Gender</th>\n",
              "      <th>MaritalStatus</th>\n",
              "      <th>HomeOwnerFlag</th>\n",
              "      <th>NumberCarsOwned</th>\n",
              "      <th>NumberChildrenAtHome</th>\n",
              "      <th>YearlyIncome</th>\n",
              "      <th>AvgMonthSpend</th>\n",
              "    </tr>\n",
              "  </thead>\n",
              "  <tbody>\n",
              "    <tr>\n",
              "      <th>0</th>\n",
              "      <td>Australia</td>\n",
              "      <td>-0.482516</td>\n",
              "      <td>Bachelors</td>\n",
              "      <td>Clerical</td>\n",
              "      <td>0</td>\n",
              "      <td>1</td>\n",
              "      <td>1</td>\n",
              "      <td>3</td>\n",
              "      <td>0</td>\n",
              "      <td>0.298555</td>\n",
              "      <td>-0.231774</td>\n",
              "    </tr>\n",
              "    <tr>\n",
              "      <th>1</th>\n",
              "      <td>Canada</td>\n",
              "      <td>0.851033</td>\n",
              "      <td>Partial College</td>\n",
              "      <td>Clerical</td>\n",
              "      <td>0</td>\n",
              "      <td>1</td>\n",
              "      <td>1</td>\n",
              "      <td>2</td>\n",
              "      <td>1</td>\n",
              "      <td>0.271180</td>\n",
              "      <td>0.390755</td>\n",
              "    </tr>\n",
              "    <tr>\n",
              "      <th>2</th>\n",
              "      <td>United States</td>\n",
              "      <td>-0.304710</td>\n",
              "      <td>Bachelors</td>\n",
              "      <td>Clerical</td>\n",
              "      <td>1</td>\n",
              "      <td>0</td>\n",
              "      <td>0</td>\n",
              "      <td>3</td>\n",
              "      <td>0</td>\n",
              "      <td>0.444261</td>\n",
              "      <td>0.672929</td>\n",
              "    </tr>\n",
              "    <tr>\n",
              "      <th>3</th>\n",
              "      <td>United Kingdom</td>\n",
              "      <td>0.406517</td>\n",
              "      <td>Partial College</td>\n",
              "      <td>Skilled Manual</td>\n",
              "      <td>0</td>\n",
              "      <td>1</td>\n",
              "      <td>1</td>\n",
              "      <td>2</td>\n",
              "      <td>1</td>\n",
              "      <td>-0.367401</td>\n",
              "      <td>1.501999</td>\n",
              "    </tr>\n",
              "    <tr>\n",
              "      <th>4</th>\n",
              "      <td>Germany</td>\n",
              "      <td>0.584324</td>\n",
              "      <td>Partial College</td>\n",
              "      <td>Skilled Manual</td>\n",
              "      <td>0</td>\n",
              "      <td>0</td>\n",
              "      <td>1</td>\n",
              "      <td>1</td>\n",
              "      <td>0</td>\n",
              "      <td>-0.682765</td>\n",
              "      <td>1.059828</td>\n",
              "    </tr>\n",
              "  </tbody>\n",
              "</table>\n",
              "</div>"
            ],
            "text/plain": [
              "          Country       Age  ... YearlyIncome AvgMonthSpend\n",
              "0       Australia -0.482516  ...     0.298555     -0.231774\n",
              "1          Canada  0.851033  ...     0.271180      0.390755\n",
              "2   United States -0.304710  ...     0.444261      0.672929\n",
              "3  United Kingdom  0.406517  ...    -0.367401      1.501999\n",
              "4         Germany  0.584324  ...    -0.682765      1.059828\n",
              "\n",
              "[5 rows x 11 columns]"
            ]
          },
          "metadata": {},
          "execution_count": 57
        }
      ]
    },
    {
      "cell_type": "code",
      "metadata": {
        "colab": {
          "base_uri": "https://localhost:8080/"
        },
        "id": "n2MjRXdM2x3M",
        "outputId": "81a34216-f144-4d78-f391-28e782fc65fc"
      },
      "source": [
        "#encoding the Education\n",
        "df['Education'].unique()"
      ],
      "execution_count": null,
      "outputs": [
        {
          "output_type": "execute_result",
          "data": {
            "text/plain": [
              "array(['Bachelors', 'Partial College', 'High School',\n",
              "       'Partial High School', 'Graduate Degree'], dtype=object)"
            ]
          },
          "metadata": {},
          "execution_count": 58
        }
      ]
    },
    {
      "cell_type": "code",
      "metadata": {
        "colab": {
          "base_uri": "https://localhost:8080/",
          "height": 374
        },
        "id": "G_E5y0XQ20Mr",
        "outputId": "81ef594f-b3cd-4000-bd28-dcbb8efa8811"
      },
      "source": [
        "from sklearn.preprocessing import LabelEncoder\n",
        "encode=LabelEncoder()\n",
        "Edu=encode.fit_transform(df['Education'])\n",
        "df['Education']=Edu\n",
        "df.head()"
      ],
      "execution_count": null,
      "outputs": [
        {
          "output_type": "stream",
          "name": "stderr",
          "text": [
            "/usr/local/lib/python3.7/dist-packages/ipykernel_launcher.py:4: SettingWithCopyWarning: \n",
            "A value is trying to be set on a copy of a slice from a DataFrame.\n",
            "Try using .loc[row_indexer,col_indexer] = value instead\n",
            "\n",
            "See the caveats in the documentation: https://pandas.pydata.org/pandas-docs/stable/user_guide/indexing.html#returning-a-view-versus-a-copy\n",
            "  after removing the cwd from sys.path.\n"
          ]
        },
        {
          "output_type": "execute_result",
          "data": {
            "text/html": [
              "<div>\n",
              "<style scoped>\n",
              "    .dataframe tbody tr th:only-of-type {\n",
              "        vertical-align: middle;\n",
              "    }\n",
              "\n",
              "    .dataframe tbody tr th {\n",
              "        vertical-align: top;\n",
              "    }\n",
              "\n",
              "    .dataframe thead th {\n",
              "        text-align: right;\n",
              "    }\n",
              "</style>\n",
              "<table border=\"1\" class=\"dataframe\">\n",
              "  <thead>\n",
              "    <tr style=\"text-align: right;\">\n",
              "      <th></th>\n",
              "      <th>Country</th>\n",
              "      <th>Age</th>\n",
              "      <th>Education</th>\n",
              "      <th>Occupation</th>\n",
              "      <th>Gender</th>\n",
              "      <th>MaritalStatus</th>\n",
              "      <th>HomeOwnerFlag</th>\n",
              "      <th>NumberCarsOwned</th>\n",
              "      <th>NumberChildrenAtHome</th>\n",
              "      <th>YearlyIncome</th>\n",
              "      <th>AvgMonthSpend</th>\n",
              "    </tr>\n",
              "  </thead>\n",
              "  <tbody>\n",
              "    <tr>\n",
              "      <th>0</th>\n",
              "      <td>Australia</td>\n",
              "      <td>-0.482516</td>\n",
              "      <td>0</td>\n",
              "      <td>Clerical</td>\n",
              "      <td>0</td>\n",
              "      <td>1</td>\n",
              "      <td>1</td>\n",
              "      <td>3</td>\n",
              "      <td>0</td>\n",
              "      <td>0.298555</td>\n",
              "      <td>-0.231774</td>\n",
              "    </tr>\n",
              "    <tr>\n",
              "      <th>1</th>\n",
              "      <td>Canada</td>\n",
              "      <td>0.851033</td>\n",
              "      <td>3</td>\n",
              "      <td>Clerical</td>\n",
              "      <td>0</td>\n",
              "      <td>1</td>\n",
              "      <td>1</td>\n",
              "      <td>2</td>\n",
              "      <td>1</td>\n",
              "      <td>0.271180</td>\n",
              "      <td>0.390755</td>\n",
              "    </tr>\n",
              "    <tr>\n",
              "      <th>2</th>\n",
              "      <td>United States</td>\n",
              "      <td>-0.304710</td>\n",
              "      <td>0</td>\n",
              "      <td>Clerical</td>\n",
              "      <td>1</td>\n",
              "      <td>0</td>\n",
              "      <td>0</td>\n",
              "      <td>3</td>\n",
              "      <td>0</td>\n",
              "      <td>0.444261</td>\n",
              "      <td>0.672929</td>\n",
              "    </tr>\n",
              "    <tr>\n",
              "      <th>3</th>\n",
              "      <td>United Kingdom</td>\n",
              "      <td>0.406517</td>\n",
              "      <td>3</td>\n",
              "      <td>Skilled Manual</td>\n",
              "      <td>0</td>\n",
              "      <td>1</td>\n",
              "      <td>1</td>\n",
              "      <td>2</td>\n",
              "      <td>1</td>\n",
              "      <td>-0.367401</td>\n",
              "      <td>1.501999</td>\n",
              "    </tr>\n",
              "    <tr>\n",
              "      <th>4</th>\n",
              "      <td>Germany</td>\n",
              "      <td>0.584324</td>\n",
              "      <td>3</td>\n",
              "      <td>Skilled Manual</td>\n",
              "      <td>0</td>\n",
              "      <td>0</td>\n",
              "      <td>1</td>\n",
              "      <td>1</td>\n",
              "      <td>0</td>\n",
              "      <td>-0.682765</td>\n",
              "      <td>1.059828</td>\n",
              "    </tr>\n",
              "  </tbody>\n",
              "</table>\n",
              "</div>"
            ],
            "text/plain": [
              "          Country       Age  ...  YearlyIncome AvgMonthSpend\n",
              "0       Australia -0.482516  ...      0.298555     -0.231774\n",
              "1          Canada  0.851033  ...      0.271180      0.390755\n",
              "2   United States -0.304710  ...      0.444261      0.672929\n",
              "3  United Kingdom  0.406517  ...     -0.367401      1.501999\n",
              "4         Germany  0.584324  ...     -0.682765      1.059828\n",
              "\n",
              "[5 rows x 11 columns]"
            ]
          },
          "metadata": {},
          "execution_count": 60
        }
      ]
    },
    {
      "cell_type": "code",
      "metadata": {
        "colab": {
          "base_uri": "https://localhost:8080/"
        },
        "id": "Don-M_oA5zYQ",
        "outputId": "12254f2f-802e-4d06-d8cd-54b38fbcc825"
      },
      "source": [
        "df['Education'].unique()"
      ],
      "execution_count": null,
      "outputs": [
        {
          "output_type": "execute_result",
          "data": {
            "text/plain": [
              "array([0, 3, 2, 4, 1])"
            ]
          },
          "metadata": {},
          "execution_count": 62
        }
      ]
    },
    {
      "cell_type": "code",
      "metadata": {
        "colab": {
          "base_uri": "https://localhost:8080/"
        },
        "id": "1Li62wGY53q7",
        "outputId": "5df8c1d8-0edc-4462-f682-027c814cb382"
      },
      "source": [
        "df['Occupation'].unique()"
      ],
      "execution_count": null,
      "outputs": [
        {
          "output_type": "execute_result",
          "data": {
            "text/plain": [
              "array(['Clerical', 'Skilled Manual', 'Manual', 'Management',\n",
              "       'Professional'], dtype=object)"
            ]
          },
          "metadata": {},
          "execution_count": 63
        }
      ]
    },
    {
      "cell_type": "code",
      "metadata": {
        "colab": {
          "base_uri": "https://localhost:8080/"
        },
        "id": "OgAS4HhM56-C",
        "outputId": "7b3e57b1-cba9-456d-e050-0dbcefd0c7dc"
      },
      "source": [
        "df['Country'].unique()"
      ],
      "execution_count": null,
      "outputs": [
        {
          "output_type": "execute_result",
          "data": {
            "text/plain": [
              "array(['Australia', 'Canada', 'United States', 'United Kingdom',\n",
              "       'Germany', 'France'], dtype=object)"
            ]
          },
          "metadata": {},
          "execution_count": 64
        }
      ]
    },
    {
      "cell_type": "code",
      "metadata": {
        "id": "tCH6gBZp5-Rs"
      },
      "source": [
        "#from sklearn.preprocessing import OneHotEncoder\n",
        "#from sklearn.compose import ColumnTransformer\n",
        "#onehotencoder = OneHotEncoder()  \n",
        "#columnTransformer = ColumnTransformer([('encoder',OneHotEncoder(),[0])],remainder='passthrough')\n",
        "#df = np.array(columnTransformer.fit_transform(dataset), dtype = np.str)\n",
        "df1= pd.get_dummies(df.Country,drop_first=True)\n",
        "df2= pd.get_dummies(df.Occupation,drop_first=True)\n",
        "df=pd.concat([df,df1,df2],axis=1)\n"
      ],
      "execution_count": null,
      "outputs": []
    },
    {
      "cell_type": "code",
      "metadata": {
        "colab": {
          "base_uri": "https://localhost:8080/",
          "height": 571
        },
        "id": "_Tv9dQYh6Pzf",
        "outputId": "8eace264-e2f7-4358-84ab-ef6f1b8cca0a"
      },
      "source": [
        "df"
      ],
      "execution_count": null,
      "outputs": [
        {
          "output_type": "execute_result",
          "data": {
            "text/html": [
              "<div>\n",
              "<style scoped>\n",
              "    .dataframe tbody tr th:only-of-type {\n",
              "        vertical-align: middle;\n",
              "    }\n",
              "\n",
              "    .dataframe tbody tr th {\n",
              "        vertical-align: top;\n",
              "    }\n",
              "\n",
              "    .dataframe thead th {\n",
              "        text-align: right;\n",
              "    }\n",
              "</style>\n",
              "<table border=\"1\" class=\"dataframe\">\n",
              "  <thead>\n",
              "    <tr style=\"text-align: right;\">\n",
              "      <th></th>\n",
              "      <th>Country</th>\n",
              "      <th>Age</th>\n",
              "      <th>Education</th>\n",
              "      <th>Occupation</th>\n",
              "      <th>Gender</th>\n",
              "      <th>MaritalStatus</th>\n",
              "      <th>HomeOwnerFlag</th>\n",
              "      <th>NumberCarsOwned</th>\n",
              "      <th>NumberChildrenAtHome</th>\n",
              "      <th>YearlyIncome</th>\n",
              "      <th>AvgMonthSpend</th>\n",
              "      <th>Canada</th>\n",
              "      <th>France</th>\n",
              "      <th>Germany</th>\n",
              "      <th>United Kingdom</th>\n",
              "      <th>United States</th>\n",
              "      <th>Management</th>\n",
              "      <th>Manual</th>\n",
              "      <th>Professional</th>\n",
              "      <th>Skilled Manual</th>\n",
              "      <th>Canada</th>\n",
              "      <th>France</th>\n",
              "      <th>Germany</th>\n",
              "      <th>United Kingdom</th>\n",
              "      <th>United States</th>\n",
              "      <th>Management</th>\n",
              "      <th>Manual</th>\n",
              "      <th>Professional</th>\n",
              "      <th>Skilled Manual</th>\n",
              "      <th>Canada</th>\n",
              "      <th>France</th>\n",
              "      <th>Germany</th>\n",
              "      <th>United Kingdom</th>\n",
              "      <th>United States</th>\n",
              "      <th>Management</th>\n",
              "      <th>Manual</th>\n",
              "      <th>Professional</th>\n",
              "      <th>Skilled Manual</th>\n",
              "    </tr>\n",
              "  </thead>\n",
              "  <tbody>\n",
              "    <tr>\n",
              "      <th>0</th>\n",
              "      <td>Australia</td>\n",
              "      <td>-0.482516</td>\n",
              "      <td>0</td>\n",
              "      <td>Clerical</td>\n",
              "      <td>0</td>\n",
              "      <td>1</td>\n",
              "      <td>1</td>\n",
              "      <td>3</td>\n",
              "      <td>0</td>\n",
              "      <td>0.298555</td>\n",
              "      <td>-0.231774</td>\n",
              "      <td>0</td>\n",
              "      <td>0</td>\n",
              "      <td>0</td>\n",
              "      <td>0</td>\n",
              "      <td>0</td>\n",
              "      <td>0</td>\n",
              "      <td>0</td>\n",
              "      <td>0</td>\n",
              "      <td>0</td>\n",
              "      <td>0</td>\n",
              "      <td>0</td>\n",
              "      <td>0</td>\n",
              "      <td>0</td>\n",
              "      <td>0</td>\n",
              "      <td>0</td>\n",
              "      <td>0</td>\n",
              "      <td>0</td>\n",
              "      <td>0</td>\n",
              "      <td>0</td>\n",
              "      <td>0</td>\n",
              "      <td>0</td>\n",
              "      <td>0</td>\n",
              "      <td>0</td>\n",
              "      <td>0</td>\n",
              "      <td>0</td>\n",
              "      <td>0</td>\n",
              "      <td>0</td>\n",
              "    </tr>\n",
              "    <tr>\n",
              "      <th>1</th>\n",
              "      <td>Canada</td>\n",
              "      <td>0.851033</td>\n",
              "      <td>3</td>\n",
              "      <td>Clerical</td>\n",
              "      <td>0</td>\n",
              "      <td>1</td>\n",
              "      <td>1</td>\n",
              "      <td>2</td>\n",
              "      <td>1</td>\n",
              "      <td>0.271180</td>\n",
              "      <td>0.390755</td>\n",
              "      <td>1</td>\n",
              "      <td>0</td>\n",
              "      <td>0</td>\n",
              "      <td>0</td>\n",
              "      <td>0</td>\n",
              "      <td>0</td>\n",
              "      <td>0</td>\n",
              "      <td>0</td>\n",
              "      <td>0</td>\n",
              "      <td>1</td>\n",
              "      <td>0</td>\n",
              "      <td>0</td>\n",
              "      <td>0</td>\n",
              "      <td>0</td>\n",
              "      <td>0</td>\n",
              "      <td>0</td>\n",
              "      <td>0</td>\n",
              "      <td>0</td>\n",
              "      <td>1</td>\n",
              "      <td>0</td>\n",
              "      <td>0</td>\n",
              "      <td>0</td>\n",
              "      <td>0</td>\n",
              "      <td>0</td>\n",
              "      <td>0</td>\n",
              "      <td>0</td>\n",
              "      <td>0</td>\n",
              "    </tr>\n",
              "    <tr>\n",
              "      <th>2</th>\n",
              "      <td>United States</td>\n",
              "      <td>-0.304710</td>\n",
              "      <td>0</td>\n",
              "      <td>Clerical</td>\n",
              "      <td>1</td>\n",
              "      <td>0</td>\n",
              "      <td>0</td>\n",
              "      <td>3</td>\n",
              "      <td>0</td>\n",
              "      <td>0.444261</td>\n",
              "      <td>0.672929</td>\n",
              "      <td>0</td>\n",
              "      <td>0</td>\n",
              "      <td>0</td>\n",
              "      <td>0</td>\n",
              "      <td>1</td>\n",
              "      <td>0</td>\n",
              "      <td>0</td>\n",
              "      <td>0</td>\n",
              "      <td>0</td>\n",
              "      <td>0</td>\n",
              "      <td>0</td>\n",
              "      <td>0</td>\n",
              "      <td>0</td>\n",
              "      <td>1</td>\n",
              "      <td>0</td>\n",
              "      <td>0</td>\n",
              "      <td>0</td>\n",
              "      <td>0</td>\n",
              "      <td>0</td>\n",
              "      <td>0</td>\n",
              "      <td>0</td>\n",
              "      <td>0</td>\n",
              "      <td>1</td>\n",
              "      <td>0</td>\n",
              "      <td>0</td>\n",
              "      <td>0</td>\n",
              "      <td>0</td>\n",
              "    </tr>\n",
              "    <tr>\n",
              "      <th>3</th>\n",
              "      <td>United Kingdom</td>\n",
              "      <td>0.406517</td>\n",
              "      <td>3</td>\n",
              "      <td>Skilled Manual</td>\n",
              "      <td>0</td>\n",
              "      <td>1</td>\n",
              "      <td>1</td>\n",
              "      <td>2</td>\n",
              "      <td>1</td>\n",
              "      <td>-0.367401</td>\n",
              "      <td>1.501999</td>\n",
              "      <td>0</td>\n",
              "      <td>0</td>\n",
              "      <td>0</td>\n",
              "      <td>1</td>\n",
              "      <td>0</td>\n",
              "      <td>0</td>\n",
              "      <td>0</td>\n",
              "      <td>0</td>\n",
              "      <td>1</td>\n",
              "      <td>0</td>\n",
              "      <td>0</td>\n",
              "      <td>0</td>\n",
              "      <td>1</td>\n",
              "      <td>0</td>\n",
              "      <td>0</td>\n",
              "      <td>0</td>\n",
              "      <td>0</td>\n",
              "      <td>1</td>\n",
              "      <td>0</td>\n",
              "      <td>0</td>\n",
              "      <td>0</td>\n",
              "      <td>1</td>\n",
              "      <td>0</td>\n",
              "      <td>0</td>\n",
              "      <td>0</td>\n",
              "      <td>0</td>\n",
              "      <td>1</td>\n",
              "    </tr>\n",
              "    <tr>\n",
              "      <th>4</th>\n",
              "      <td>Germany</td>\n",
              "      <td>0.584324</td>\n",
              "      <td>3</td>\n",
              "      <td>Skilled Manual</td>\n",
              "      <td>0</td>\n",
              "      <td>0</td>\n",
              "      <td>1</td>\n",
              "      <td>1</td>\n",
              "      <td>0</td>\n",
              "      <td>-0.682765</td>\n",
              "      <td>1.059828</td>\n",
              "      <td>0</td>\n",
              "      <td>0</td>\n",
              "      <td>1</td>\n",
              "      <td>0</td>\n",
              "      <td>0</td>\n",
              "      <td>0</td>\n",
              "      <td>0</td>\n",
              "      <td>0</td>\n",
              "      <td>1</td>\n",
              "      <td>0</td>\n",
              "      <td>0</td>\n",
              "      <td>1</td>\n",
              "      <td>0</td>\n",
              "      <td>0</td>\n",
              "      <td>0</td>\n",
              "      <td>0</td>\n",
              "      <td>0</td>\n",
              "      <td>1</td>\n",
              "      <td>0</td>\n",
              "      <td>0</td>\n",
              "      <td>1</td>\n",
              "      <td>0</td>\n",
              "      <td>0</td>\n",
              "      <td>0</td>\n",
              "      <td>0</td>\n",
              "      <td>0</td>\n",
              "      <td>1</td>\n",
              "    </tr>\n",
              "    <tr>\n",
              "      <th>...</th>\n",
              "      <td>...</td>\n",
              "      <td>...</td>\n",
              "      <td>...</td>\n",
              "      <td>...</td>\n",
              "      <td>...</td>\n",
              "      <td>...</td>\n",
              "      <td>...</td>\n",
              "      <td>...</td>\n",
              "      <td>...</td>\n",
              "      <td>...</td>\n",
              "      <td>...</td>\n",
              "      <td>...</td>\n",
              "      <td>...</td>\n",
              "      <td>...</td>\n",
              "      <td>...</td>\n",
              "      <td>...</td>\n",
              "      <td>...</td>\n",
              "      <td>...</td>\n",
              "      <td>...</td>\n",
              "      <td>...</td>\n",
              "      <td>...</td>\n",
              "      <td>...</td>\n",
              "      <td>...</td>\n",
              "      <td>...</td>\n",
              "      <td>...</td>\n",
              "      <td>...</td>\n",
              "      <td>...</td>\n",
              "      <td>...</td>\n",
              "      <td>...</td>\n",
              "      <td>...</td>\n",
              "      <td>...</td>\n",
              "      <td>...</td>\n",
              "      <td>...</td>\n",
              "      <td>...</td>\n",
              "      <td>...</td>\n",
              "      <td>...</td>\n",
              "      <td>...</td>\n",
              "      <td>...</td>\n",
              "    </tr>\n",
              "    <tr>\n",
              "      <th>18356</th>\n",
              "      <td>United States</td>\n",
              "      <td>-0.749226</td>\n",
              "      <td>1</td>\n",
              "      <td>Skilled Manual</td>\n",
              "      <td>1</td>\n",
              "      <td>1</td>\n",
              "      <td>0</td>\n",
              "      <td>1</td>\n",
              "      <td>0</td>\n",
              "      <td>-0.645321</td>\n",
              "      <td>-1.055025</td>\n",
              "      <td>0</td>\n",
              "      <td>0</td>\n",
              "      <td>0</td>\n",
              "      <td>0</td>\n",
              "      <td>1</td>\n",
              "      <td>0</td>\n",
              "      <td>0</td>\n",
              "      <td>0</td>\n",
              "      <td>1</td>\n",
              "      <td>0</td>\n",
              "      <td>0</td>\n",
              "      <td>0</td>\n",
              "      <td>0</td>\n",
              "      <td>1</td>\n",
              "      <td>0</td>\n",
              "      <td>0</td>\n",
              "      <td>0</td>\n",
              "      <td>1</td>\n",
              "      <td>0</td>\n",
              "      <td>0</td>\n",
              "      <td>0</td>\n",
              "      <td>0</td>\n",
              "      <td>1</td>\n",
              "      <td>0</td>\n",
              "      <td>0</td>\n",
              "      <td>0</td>\n",
              "      <td>1</td>\n",
              "    </tr>\n",
              "    <tr>\n",
              "      <th>18357</th>\n",
              "      <td>Australia</td>\n",
              "      <td>-0.927033</td>\n",
              "      <td>0</td>\n",
              "      <td>Skilled Manual</td>\n",
              "      <td>1</td>\n",
              "      <td>0</td>\n",
              "      <td>0</td>\n",
              "      <td>2</td>\n",
              "      <td>0</td>\n",
              "      <td>-0.383337</td>\n",
              "      <td>-0.447041</td>\n",
              "      <td>0</td>\n",
              "      <td>0</td>\n",
              "      <td>0</td>\n",
              "      <td>0</td>\n",
              "      <td>0</td>\n",
              "      <td>0</td>\n",
              "      <td>0</td>\n",
              "      <td>0</td>\n",
              "      <td>1</td>\n",
              "      <td>0</td>\n",
              "      <td>0</td>\n",
              "      <td>0</td>\n",
              "      <td>0</td>\n",
              "      <td>0</td>\n",
              "      <td>0</td>\n",
              "      <td>0</td>\n",
              "      <td>0</td>\n",
              "      <td>1</td>\n",
              "      <td>0</td>\n",
              "      <td>0</td>\n",
              "      <td>0</td>\n",
              "      <td>0</td>\n",
              "      <td>0</td>\n",
              "      <td>0</td>\n",
              "      <td>0</td>\n",
              "      <td>0</td>\n",
              "      <td>1</td>\n",
              "    </tr>\n",
              "    <tr>\n",
              "      <th>18358</th>\n",
              "      <td>United States</td>\n",
              "      <td>-0.126903</td>\n",
              "      <td>3</td>\n",
              "      <td>Skilled Manual</td>\n",
              "      <td>1</td>\n",
              "      <td>0</td>\n",
              "      <td>0</td>\n",
              "      <td>2</td>\n",
              "      <td>0</td>\n",
              "      <td>-0.680973</td>\n",
              "      <td>-0.641945</td>\n",
              "      <td>0</td>\n",
              "      <td>0</td>\n",
              "      <td>0</td>\n",
              "      <td>0</td>\n",
              "      <td>1</td>\n",
              "      <td>0</td>\n",
              "      <td>0</td>\n",
              "      <td>0</td>\n",
              "      <td>1</td>\n",
              "      <td>0</td>\n",
              "      <td>0</td>\n",
              "      <td>0</td>\n",
              "      <td>0</td>\n",
              "      <td>1</td>\n",
              "      <td>0</td>\n",
              "      <td>0</td>\n",
              "      <td>0</td>\n",
              "      <td>1</td>\n",
              "      <td>0</td>\n",
              "      <td>0</td>\n",
              "      <td>0</td>\n",
              "      <td>0</td>\n",
              "      <td>1</td>\n",
              "      <td>0</td>\n",
              "      <td>0</td>\n",
              "      <td>0</td>\n",
              "      <td>1</td>\n",
              "    </tr>\n",
              "    <tr>\n",
              "      <th>18359</th>\n",
              "      <td>Canada</td>\n",
              "      <td>-1.193743</td>\n",
              "      <td>2</td>\n",
              "      <td>Clerical</td>\n",
              "      <td>1</td>\n",
              "      <td>0</td>\n",
              "      <td>0</td>\n",
              "      <td>0</td>\n",
              "      <td>0</td>\n",
              "      <td>0.470006</td>\n",
              "      <td>-0.100868</td>\n",
              "      <td>1</td>\n",
              "      <td>0</td>\n",
              "      <td>0</td>\n",
              "      <td>0</td>\n",
              "      <td>0</td>\n",
              "      <td>0</td>\n",
              "      <td>0</td>\n",
              "      <td>0</td>\n",
              "      <td>0</td>\n",
              "      <td>1</td>\n",
              "      <td>0</td>\n",
              "      <td>0</td>\n",
              "      <td>0</td>\n",
              "      <td>0</td>\n",
              "      <td>0</td>\n",
              "      <td>0</td>\n",
              "      <td>0</td>\n",
              "      <td>0</td>\n",
              "      <td>1</td>\n",
              "      <td>0</td>\n",
              "      <td>0</td>\n",
              "      <td>0</td>\n",
              "      <td>0</td>\n",
              "      <td>0</td>\n",
              "      <td>0</td>\n",
              "      <td>0</td>\n",
              "      <td>0</td>\n",
              "    </tr>\n",
              "    <tr>\n",
              "      <th>18360</th>\n",
              "      <td>United States</td>\n",
              "      <td>-0.393613</td>\n",
              "      <td>1</td>\n",
              "      <td>Professional</td>\n",
              "      <td>1</td>\n",
              "      <td>1</td>\n",
              "      <td>1</td>\n",
              "      <td>2</td>\n",
              "      <td>0</td>\n",
              "      <td>2.088996</td>\n",
              "      <td>0.146398</td>\n",
              "      <td>0</td>\n",
              "      <td>0</td>\n",
              "      <td>0</td>\n",
              "      <td>0</td>\n",
              "      <td>1</td>\n",
              "      <td>0</td>\n",
              "      <td>0</td>\n",
              "      <td>1</td>\n",
              "      <td>0</td>\n",
              "      <td>0</td>\n",
              "      <td>0</td>\n",
              "      <td>0</td>\n",
              "      <td>0</td>\n",
              "      <td>1</td>\n",
              "      <td>0</td>\n",
              "      <td>0</td>\n",
              "      <td>1</td>\n",
              "      <td>0</td>\n",
              "      <td>0</td>\n",
              "      <td>0</td>\n",
              "      <td>0</td>\n",
              "      <td>0</td>\n",
              "      <td>1</td>\n",
              "      <td>0</td>\n",
              "      <td>0</td>\n",
              "      <td>1</td>\n",
              "      <td>0</td>\n",
              "    </tr>\n",
              "  </tbody>\n",
              "</table>\n",
              "<p>18361 rows × 38 columns</p>\n",
              "</div>"
            ],
            "text/plain": [
              "              Country       Age  ...  Professional Skilled Manual\n",
              "0           Australia -0.482516  ...             0              0\n",
              "1              Canada  0.851033  ...             0              0\n",
              "2       United States -0.304710  ...             0              0\n",
              "3      United Kingdom  0.406517  ...             0              1\n",
              "4             Germany  0.584324  ...             0              1\n",
              "...               ...       ...  ...           ...            ...\n",
              "18356   United States -0.749226  ...             0              1\n",
              "18357       Australia -0.927033  ...             0              1\n",
              "18358   United States -0.126903  ...             0              1\n",
              "18359          Canada -1.193743  ...             0              0\n",
              "18360   United States -0.393613  ...             1              0\n",
              "\n",
              "[18361 rows x 38 columns]"
            ]
          },
          "metadata": {},
          "execution_count": 68
        }
      ]
    },
    {
      "cell_type": "code",
      "metadata": {
        "id": "rbnhGMW06xnV"
      },
      "source": [
        "df.drop(columns=['Country','Occupation'],inplace=True)"
      ],
      "execution_count": null,
      "outputs": []
    },
    {
      "cell_type": "markdown",
      "metadata": {
        "id": "SXlxQhT261bv"
      },
      "source": [
        "***Part III: Calculating Proximity /Correlation Analysis of two features***"
      ]
    },
    {
      "cell_type": "markdown",
      "metadata": {
        "id": "6F0Vgr458euZ"
      },
      "source": [
        "(A) Calculate Similarity in Simple Matching, Jaccard Similarity, and Cosine Similarity between two \n",
        "following objects of your transformed input data. "
      ]
    },
    {
      "cell_type": "code",
      "metadata": {
        "id": "vUAF_YKP6738"
      },
      "source": [
        "def SMC(x,y):\n",
        "    x,y = x.values, y.values\n",
        "    return np.sum(x==y)/len(x)"
      ],
      "execution_count": null,
      "outputs": []
    },
    {
      "cell_type": "code",
      "metadata": {
        "colab": {
          "base_uri": "https://localhost:8080/"
        },
        "id": "LGPbpYth7HBE",
        "outputId": "4ed8f2ab-d315-44a0-aeec-0b30be69d1f7"
      },
      "source": [
        "df.isnull().sum()"
      ],
      "execution_count": null,
      "outputs": [
        {
          "output_type": "execute_result",
          "data": {
            "text/plain": [
              "Age                     0\n",
              "Education               0\n",
              "Gender                  0\n",
              "MaritalStatus           0\n",
              "HomeOwnerFlag           0\n",
              "NumberCarsOwned         0\n",
              "NumberChildrenAtHome    0\n",
              "YearlyIncome            0\n",
              "AvgMonthSpend           0\n",
              "Canada                  0\n",
              "France                  0\n",
              "Germany                 0\n",
              "United Kingdom          0\n",
              "United States           0\n",
              "Management              0\n",
              "Manual                  0\n",
              "Professional            0\n",
              "Skilled Manual          0\n",
              "Canada                  0\n",
              "France                  0\n",
              "Germany                 0\n",
              "United Kingdom          0\n",
              "United States           0\n",
              "Management              0\n",
              "Manual                  0\n",
              "Professional            0\n",
              "Skilled Manual          0\n",
              "Canada                  0\n",
              "France                  0\n",
              "Germany                 0\n",
              "United Kingdom          0\n",
              "United States           0\n",
              "Management              0\n",
              "Manual                  0\n",
              "Professional            0\n",
              "Skilled Manual          0\n",
              "dtype: int64"
            ]
          },
          "metadata": {},
          "execution_count": 71
        }
      ]
    },
    {
      "cell_type": "code",
      "metadata": {
        "colab": {
          "base_uri": "https://localhost:8080/"
        },
        "id": "iHhFzD1D7LC7",
        "outputId": "57319c40-473d-4b3c-e9c3-723b1442d47f"
      },
      "source": [
        "df.info()"
      ],
      "execution_count": null,
      "outputs": [
        {
          "output_type": "stream",
          "name": "stdout",
          "text": [
            "<class 'pandas.core.frame.DataFrame'>\n",
            "Int64Index: 18361 entries, 0 to 18360\n",
            "Data columns (total 36 columns):\n",
            " #   Column                Non-Null Count  Dtype  \n",
            "---  ------                --------------  -----  \n",
            " 0   Age                   18361 non-null  float64\n",
            " 1   Education             18361 non-null  int64  \n",
            " 2   Gender                18361 non-null  object \n",
            " 3   MaritalStatus         18361 non-null  object \n",
            " 4   HomeOwnerFlag         18361 non-null  int64  \n",
            " 5   NumberCarsOwned       18361 non-null  int64  \n",
            " 6   NumberChildrenAtHome  18361 non-null  int64  \n",
            " 7   YearlyIncome          18361 non-null  float64\n",
            " 8   AvgMonthSpend         18361 non-null  float64\n",
            " 9   Canada                18361 non-null  uint8  \n",
            " 10  France                18361 non-null  uint8  \n",
            " 11  Germany               18361 non-null  uint8  \n",
            " 12  United Kingdom        18361 non-null  uint8  \n",
            " 13  United States         18361 non-null  uint8  \n",
            " 14  Management            18361 non-null  uint8  \n",
            " 15  Manual                18361 non-null  uint8  \n",
            " 16  Professional          18361 non-null  uint8  \n",
            " 17  Skilled Manual        18361 non-null  uint8  \n",
            " 18  Canada                18361 non-null  uint8  \n",
            " 19  France                18361 non-null  uint8  \n",
            " 20  Germany               18361 non-null  uint8  \n",
            " 21  United Kingdom        18361 non-null  uint8  \n",
            " 22  United States         18361 non-null  uint8  \n",
            " 23  Management            18361 non-null  uint8  \n",
            " 24  Manual                18361 non-null  uint8  \n",
            " 25  Professional          18361 non-null  uint8  \n",
            " 26  Skilled Manual        18361 non-null  uint8  \n",
            " 27  Canada                18361 non-null  uint8  \n",
            " 28  France                18361 non-null  uint8  \n",
            " 29  Germany               18361 non-null  uint8  \n",
            " 30  United Kingdom        18361 non-null  uint8  \n",
            " 31  United States         18361 non-null  uint8  \n",
            " 32  Management            18361 non-null  uint8  \n",
            " 33  Manual                18361 non-null  uint8  \n",
            " 34  Professional          18361 non-null  uint8  \n",
            " 35  Skilled Manual        18361 non-null  uint8  \n",
            "dtypes: float64(3), int64(4), object(2), uint8(27)\n",
            "memory usage: 2.5+ MB\n"
          ]
        }
      ]
    },
    {
      "cell_type": "code",
      "metadata": {
        "colab": {
          "base_uri": "https://localhost:8080/"
        },
        "id": "NEvNcGkz7OAA",
        "outputId": "9dcaaf65-cbb7-460b-cafd-6710b9d14cf7"
      },
      "source": [
        "print(df['HomeOwnerFlag'].unique())\n",
        "print(df['Gender'].unique())"
      ],
      "execution_count": null,
      "outputs": [
        {
          "output_type": "stream",
          "name": "stdout",
          "text": [
            "[1 0]\n",
            "[0 1]\n"
          ]
        }
      ]
    },
    {
      "cell_type": "code",
      "metadata": {
        "colab": {
          "base_uri": "https://localhost:8080/"
        },
        "id": "k3NMPi007y4i",
        "outputId": "ccd3a321-cbe3-46d4-9ab7-155a4cf9562e"
      },
      "source": [
        "#Calculate similarity between HomeOwnerFlag and Gender\n",
        "from sklearn.metrics import jaccard_score\n",
        "from scipy.spatial.distance import cosine\n",
        "print('Simple Matching Coefficient:',SMC(df['HomeOwnerFlag'], df['Gender']))\n",
        "#print('Jaccard Similarity Score:',jaccard_score(df['Canada'], df['France']))\n",
        "#print('Cosine Similarity Score:',1-cosine(df['Canada'], df['United Kingdom']))"
      ],
      "execution_count": null,
      "outputs": [
        {
          "output_type": "stream",
          "name": "stdout",
          "text": [
            "Simple Matching Coefficient: 0.4938728827405915\n"
          ]
        }
      ]
    },
    {
      "cell_type": "markdown",
      "metadata": {
        "id": "OszAna9U8hbh"
      },
      "source": [
        "(B) Making a correlation heatmap between all features using seaborn and matplot library"
      ]
    },
    {
      "cell_type": "code",
      "metadata": {
        "colab": {
          "base_uri": "https://localhost:8080/",
          "height": 381
        },
        "id": "70K8zZgB8K7z",
        "outputId": "6c1bc7a1-3679-4e93-efff-8249b97c28f0"
      },
      "source": [
        "import seaborn as sns \n",
        "import matplotlib.pyplot as plt\n",
        "\n",
        "covar_mat=df.corr()\n",
        "sns.heatmap(covar_mat)\n",
        "plt.show()"
      ],
      "execution_count": null,
      "outputs": [
        {
          "output_type": "display_data",
          "data": {
            "image/png": "[encoded data removed]",
            "text/plain": [
              "<Figure size 432x288 with 2 Axes>"
            ]
          },
          "metadata": {
            "needs_background": "light"
          }
        }
      ]
    },
    {
      "cell_type": "markdown",
      "metadata": {
        "id": "FehsTbDm8ubt"
      },
      "source": [
        "# Assignment 4 - PCA"
      ]
    },
    {
      "cell_type": "markdown",
      "metadata": {
        "id": "-hDJHimwOu3J"
      },
      "source": [
        "Q1: Load the load_digit dataset from sklearn.datasets.\n",
        "\n",
        "This dataset is made up of 1797 8x8 images. Each image is of a hand-written digit. Therefore, each training example has 64 features (8X8) pixel values. Hence, the size of dataset is 1797X64.\n",
        "\n",
        "Implement feature selection technique using Principal Component Analysis (PCA) using step-by-step approach."
      ]
    },
    {
      "cell_type": "code",
      "metadata": {
        "id": "NQE7yPbP9LGb"
      },
      "source": [
        "from sklearn.datasets import load_digits\n",
        "digits=load_digits()['data']\n",
        "digits_target=load_digits()['target']"
      ],
      "execution_count": null,
      "outputs": []
    },
    {
      "cell_type": "markdown",
      "metadata": {
        "id": "sBvGNV1U9N3s"
      },
      "source": [
        "1)STANDARDIZATION"
      ]
    },
    {
      "cell_type": "code",
      "metadata": {
        "colab": {
          "base_uri": "https://localhost:8080/"
        },
        "id": "bTAIQIaI93uV",
        "outputId": "d896fec3-69dc-4a7d-b425-4ca8ad239f9a"
      },
      "source": [
        "from sklearn.preprocessing import StandardScaler\n",
        "X_std=StandardScaler().fit_transform(digits)\n",
        "X_std.shape"
      ],
      "execution_count": null,
      "outputs": [
        {
          "output_type": "execute_result",
          "data": {
            "text/plain": [
              "(1797, 64)"
            ]
          },
          "metadata": {},
          "execution_count": 82
        }
      ]
    },
    {
      "cell_type": "markdown",
      "metadata": {
        "id": "fJLpuApE97IE"
      },
      "source": [
        "2) COVARIANCE MATRIX COMPUTATION"
      ]
    },
    {
      "cell_type": "code",
      "metadata": {
        "colab": {
          "base_uri": "https://localhost:8080/"
        },
        "id": "LJYxWdDG99aq",
        "outputId": "24e2b022-3c89-4842-faa6-be57c6018f94"
      },
      "source": [
        "import numpy as np\n",
        "mean_vec=np.mean(X_std,axis=0)\n",
        "cov_mat=(X_std-mean_vec).T.dot((X_std-mean_vec))/(X_std.shape[0]-1)\n",
        "mean_vect=np.mean(X_std,axis=0)\n",
        "cov_matt=(X_std-mean_vec).T.dot((X_std-mean_vec))/(X_std.shape[0]-1)\n",
        "print(cov_mat)"
      ],
      "execution_count": null,
      "outputs": [
        {
          "output_type": "stream",
          "name": "stdout",
          "text": [
            "[[ 0.          0.          0.         ...  0.          0.\n",
            "   0.        ]\n",
            " [ 0.          1.00055679  0.55692803 ... -0.02988686  0.02656195\n",
            "  -0.04391324]\n",
            " [ 0.          0.55692803  1.00055679 ... -0.04120565  0.07263924\n",
            "   0.08256908]\n",
            " ...\n",
            " [ 0.         -0.02988686 -0.04120565 ...  1.00055679  0.64868875\n",
            "   0.26213704]\n",
            " [ 0.          0.02656195  0.07263924 ...  0.64868875  1.00055679\n",
            "   0.62077355]\n",
            " [ 0.         -0.04391324  0.08256908 ...  0.26213704  0.62077355\n",
            "   1.00055679]]\n"
          ]
        }
      ]
    },
    {
      "cell_type": "markdown",
      "metadata": {
        "id": "g1lZh47y-PD3"
      },
      "source": [
        "3) COMPUTE THE EIGENVECTORS AND EIGENVALUES OF THE COVARIANCE MATRIX TO IDENTIFY THE PRINCIPAL COMPONENTS"
      ]
    },
    {
      "cell_type": "code",
      "metadata": {
        "colab": {
          "base_uri": "https://localhost:8080/",
          "height": 752
        },
        "id": "NSQLKD6w-RkA",
        "outputId": "d6ac3195-12ee-4ffb-864d-d0f8386c6e88"
      },
      "source": [
        "import matplotlib.pyplot as plt\n",
        "cov_mat=np.cov(X_std.T)\n",
        "eig_vals,eig_vecs=np.linalg.eig(cov_mat)\n",
        "cov_matt=np.cov(X_std.T)\n",
        "lam_sum = sum(eig_vals)\n",
        "explained_variance = [(lam_k/lam_sum) for lam_k in sorted(eig_vals, reverse=True)]\n",
        "eig_vals,eig_vecs=np.linalg.eig(cov_mat)\n",
        "print(eig_vals)\n",
        "print(eig_vecs)\n",
        "fig = plt.figure(figsize=(12,12))\n",
        "fig = plt.figure(figsize=(6,4))\n",
        "ax1 = fig.add_subplot(111)\n",
        "ax1.plot(np.cumsum(explained_variance))\n",
        "ax1.set_ylim([0,1.0])\n",
        "ax1.set_xlabel('Number of Principal Components')\n",
        "ax1.set_ylabel('Cumulative explained variance')\n",
        "ax1.set_title('Explained Variance')\n",
        "plt.show()\n",
        "print([(j, np.cumsum(explained_variance)[j]) for j in range(len(explained_variance[:64]))])"
      ],
      "execution_count": null,
      "outputs": [
        {
          "output_type": "stream",
          "name": "stdout",
          "text": [
            "[7.34477606 5.83549054 5.15396118 3.96623597 2.9663452  2.57204442\n",
            " 2.40600941 2.06867355 1.82993314 1.78951739 1.69784616 1.57287889\n",
            " 1.38870781 1.35933609 1.32152536 1.16829176 1.08368678 0.99977862\n",
            " 0.97438293 0.90891242 0.82271926 0.77631014 0.71155675 0.64552365\n",
            " 0.59527399 0.5765018  0.52673155 0.5106363  0.48686381 0.45560107\n",
            " 0.44285155 0.42230086 0.3991063  0.39110111 0.36094517 0.34860306\n",
            " 0.3195963  0.29406627 0.05037444 0.27692285 0.06328961 0.258273\n",
            " 0.24783029 0.2423566  0.07635394 0.08246812 0.09018543 0.09840876\n",
            " 0.10250434 0.11188655 0.11932898 0.12426371 0.13321081 0.14311427\n",
            " 0.217582   0.15818474 0.16875236 0.20799593 0.17612894 0.2000909\n",
            " 0.18983516 0.         0.         0.        ]\n",
            "[[ 0.          0.          0.         ...  1.          0.\n",
            "   0.        ]\n",
            " [ 0.18223392 -0.04702701  0.02358821 ...  0.          0.\n",
            "   0.        ]\n",
            " [ 0.285868   -0.0595648  -0.05679875 ...  0.          0.\n",
            "   0.        ]\n",
            " ...\n",
            " [ 0.103198    0.24261778 -0.02227952 ...  0.          0.\n",
            "   0.        ]\n",
            " [ 0.1198106   0.16508926  0.10036559 ...  0.          0.\n",
            "   0.        ]\n",
            " [ 0.07149362  0.07132924  0.09244589 ...  0.          0.\n",
            "   0.        ]]\n"
          ]
        },
        {
          "output_type": "display_data",
          "data": {
            "text/plain": [
              "<Figure size 864x864 with 0 Axes>"
            ]
          },
          "metadata": {}
        },
        {
          "output_type": "display_data",
          "data": {
            "image/png": "[encoded data removed]",
            "text/plain": [
              "<Figure size 432x288 with 1 Axes>"
            ]
          },
          "metadata": {
            "needs_background": "light"
          }
        },
        {
          "output_type": "stream",
          "name": "stdout",
          "text": [
            "[(0, 0.12033916097734906), (1, 0.2159497050083281), (2, 0.30039385393457346), (3, 0.36537793300981514), (4, 0.4139794817694792), (5, 0.4561206804621987), (6, 0.49554150849787254), (7, 0.5294353177442558), (8, 0.559417527860508), (9, 0.5887375533730302), (10, 0.6165556080085336), (11, 0.6423261589343537), (12, 0.6650791920919963), (13, 0.6873509894871398), (14, 0.7090032838056322), (15, 0.7281449498700535), (16, 0.7459004207217355), (17, 0.7622811134645797), (18, 0.7782457151532031), (19, 0.7931376270240813), (20, 0.8066173226822607), (21, 0.8193366363846083), (22, 0.8309950098905278), (23, 0.841571475875891), (24, 0.8513246353478721), (25, 0.8607702252451921), (26, 0.8694003635148994), (27, 0.8777667920515845), (28, 0.8857437245356969), (29, 0.8932084382449575), (30, 0.9004642597586603), (31, 0.9073833722134721), (32, 0.9139224575691982), (33, 0.920330383307658), (34, 0.9262442244248815), (35, 0.9319558484771168), (36, 0.9371922165112831), (37, 0.9420102923757345), (38, 0.9465474849743191), (39, 0.9507791125066469), (40, 0.9548396432064373), (41, 0.9588104912891956), (42, 0.9623754243206217), (43, 0.9657832961353248), (44, 0.9690616494882043), (45, 0.9721719695616579), (46, 0.9750577225027472), (47, 0.9778226151379827), (48, 0.9804143645467974), (49, 0.9827591946021538), (50, 0.9849417631792738), (51, 0.9869777395245276), (52, 0.9889328637847258), (53, 0.9907660487766976), (54, 0.9924455126516535), (55, 0.9940578732742208), (56, 0.9955355002152817), (57, 0.9968866843286526), (58, 0.9981376917536255), (59, 0.9991746490551827), (60, 1.0000000000000007), (61, 1.0000000000000007), (62, 1.0000000000000007), (63, 1.0000000000000007)]\n"
          ]
        }
      ]
    },
    {
      "cell_type": "markdown",
      "metadata": {
        "id": "Q5g22eVK-Xg6"
      },
      "source": [
        "4) FEATURE VECTOR"
      ]
    },
    {
      "cell_type": "code",
      "metadata": {
        "colab": {
          "base_uri": "https://localhost:8080/"
        },
        "id": "EbkUHaf9-ape",
        "outputId": "548071fe-ab65-4662-ae42-7e505a231af1"
      },
      "source": [
        "feature_vec=[]\n",
        "eigenvals_sorted=sorted(eig_vals,reverse=True)[:30]\n",
        "for val in eigenvals_sorted:\n",
        "  index=(np.where(eig_vals==val))[0][0]\n",
        "  feature_vec.append(eig_vecs[:,index])\n",
        "feature_vec=np.array(feature_vec)\n",
        "feature_vec.shape"
      ],
      "execution_count": null,
      "outputs": [
        {
          "output_type": "execute_result",
          "data": {
            "text/plain": [
              "(30, 64)"
            ]
          },
          "metadata": {},
          "execution_count": 85
        }
      ]
    },
    {
      "cell_type": "markdown",
      "metadata": {
        "id": "8EUVfmha-dCg"
      },
      "source": [
        "5) Recast the data along the principal components axes"
      ]
    },
    {
      "cell_type": "code",
      "metadata": {
        "colab": {
          "base_uri": "https://localhost:8080/",
          "height": 437
        },
        "id": "Qta2fvgM-e-p",
        "outputId": "8ddb9fc3-6347-49fc-e099-7291dd992fa5"
      },
      "source": [
        "import pandas as pd\n",
        "final=np.dot(X_std,np.transpose(feature_vec))\n",
        "projected=pd.DataFrame(final)\n",
        "projected"
      ],
      "execution_count": null,
      "outputs": [
        {
          "output_type": "execute_result",
          "data": {
            "text/html": [
              "<div>\n",
              "<style scoped>\n",
              "    .dataframe tbody tr th:only-of-type {\n",
              "        vertical-align: middle;\n",
              "    }\n",
              "\n",
              "    .dataframe tbody tr th {\n",
              "        vertical-align: top;\n",
              "    }\n",
              "\n",
              "    .dataframe thead th {\n",
              "        text-align: right;\n",
              "    }\n",
              "</style>\n",
              "<table border=\"1\" class=\"dataframe\">\n",
              "  <thead>\n",
              "    <tr style=\"text-align: right;\">\n",
              "      <th></th>\n",
              "      <th>0</th>\n",
              "      <th>1</th>\n",
              "      <th>2</th>\n",
              "      <th>3</th>\n",
              "      <th>4</th>\n",
              "      <th>5</th>\n",
              "      <th>6</th>\n",
              "      <th>7</th>\n",
              "      <th>8</th>\n",
              "      <th>9</th>\n",
              "      <th>10</th>\n",
              "      <th>11</th>\n",
              "      <th>12</th>\n",
              "      <th>13</th>\n",
              "      <th>14</th>\n",
              "      <th>15</th>\n",
              "      <th>16</th>\n",
              "      <th>17</th>\n",
              "      <th>18</th>\n",
              "      <th>19</th>\n",
              "      <th>20</th>\n",
              "      <th>21</th>\n",
              "      <th>22</th>\n",
              "      <th>23</th>\n",
              "      <th>24</th>\n",
              "      <th>25</th>\n",
              "      <th>26</th>\n",
              "      <th>27</th>\n",
              "      <th>28</th>\n",
              "      <th>29</th>\n",
              "    </tr>\n",
              "  </thead>\n",
              "  <tbody>\n",
              "    <tr>\n",
              "      <th>0</th>\n",
              "      <td>-1.914214</td>\n",
              "      <td>0.954502</td>\n",
              "      <td>-3.946035</td>\n",
              "      <td>-2.028723</td>\n",
              "      <td>-0.267173</td>\n",
              "      <td>0.530327</td>\n",
              "      <td>1.415321</td>\n",
              "      <td>-1.496062</td>\n",
              "      <td>-0.124914</td>\n",
              "      <td>-0.822246</td>\n",
              "      <td>-0.499693</td>\n",
              "      <td>0.789466</td>\n",
              "      <td>0.228125</td>\n",
              "      <td>-0.195142</td>\n",
              "      <td>-0.837040</td>\n",
              "      <td>-0.104341</td>\n",
              "      <td>0.185323</td>\n",
              "      <td>0.090057</td>\n",
              "      <td>0.412754</td>\n",
              "      <td>0.430517</td>\n",
              "      <td>0.450994</td>\n",
              "      <td>-0.558703</td>\n",
              "      <td>0.508826</td>\n",
              "      <td>-0.758896</td>\n",
              "      <td>0.464500</td>\n",
              "      <td>-0.732176</td>\n",
              "      <td>-0.327318</td>\n",
              "      <td>0.157022</td>\n",
              "      <td>-0.404918</td>\n",
              "      <td>-0.324594</td>\n",
              "    </tr>\n",
              "    <tr>\n",
              "      <th>1</th>\n",
              "      <td>-0.588980</td>\n",
              "      <td>-0.924636</td>\n",
              "      <td>3.924755</td>\n",
              "      <td>1.779850</td>\n",
              "      <td>-0.993430</td>\n",
              "      <td>-0.675652</td>\n",
              "      <td>-1.878565</td>\n",
              "      <td>-0.556336</td>\n",
              "      <td>-1.079877</td>\n",
              "      <td>0.087451</td>\n",
              "      <td>-0.505000</td>\n",
              "      <td>-0.641593</td>\n",
              "      <td>-0.048361</td>\n",
              "      <td>-0.392054</td>\n",
              "      <td>0.744412</td>\n",
              "      <td>0.214072</td>\n",
              "      <td>-0.101727</td>\n",
              "      <td>0.422000</td>\n",
              "      <td>0.553085</td>\n",
              "      <td>-0.069676</td>\n",
              "      <td>0.909818</td>\n",
              "      <td>0.242434</td>\n",
              "      <td>-0.478472</td>\n",
              "      <td>0.491158</td>\n",
              "      <td>-0.790504</td>\n",
              "      <td>-0.067788</td>\n",
              "      <td>1.525555</td>\n",
              "      <td>-0.742482</td>\n",
              "      <td>0.855856</td>\n",
              "      <td>-0.277084</td>\n",
              "    </tr>\n",
              "    <tr>\n",
              "      <th>2</th>\n",
              "      <td>-1.302039</td>\n",
              "      <td>0.317189</td>\n",
              "      <td>3.023333</td>\n",
              "      <td>2.043376</td>\n",
              "      <td>-2.081155</td>\n",
              "      <td>0.935121</td>\n",
              "      <td>1.296200</td>\n",
              "      <td>-1.156160</td>\n",
              "      <td>-0.785606</td>\n",
              "      <td>-1.099206</td>\n",
              "      <td>2.196453</td>\n",
              "      <td>2.310276</td>\n",
              "      <td>-0.566874</td>\n",
              "      <td>-0.995772</td>\n",
              "      <td>1.170505</td>\n",
              "      <td>-0.399017</td>\n",
              "      <td>-0.240298</td>\n",
              "      <td>0.465223</td>\n",
              "      <td>-1.065556</td>\n",
              "      <td>-1.133454</td>\n",
              "      <td>-0.525917</td>\n",
              "      <td>-0.069262</td>\n",
              "      <td>-1.276142</td>\n",
              "      <td>-0.389437</td>\n",
              "      <td>0.407580</td>\n",
              "      <td>0.121614</td>\n",
              "      <td>-0.373418</td>\n",
              "      <td>0.205099</td>\n",
              "      <td>0.362138</td>\n",
              "      <td>1.181186</td>\n",
              "    </tr>\n",
              "    <tr>\n",
              "      <th>3</th>\n",
              "      <td>3.020770</td>\n",
              "      <td>0.868772</td>\n",
              "      <td>-0.801744</td>\n",
              "      <td>2.187039</td>\n",
              "      <td>-0.556813</td>\n",
              "      <td>0.727124</td>\n",
              "      <td>-0.959766</td>\n",
              "      <td>1.382638</td>\n",
              "      <td>-0.259075</td>\n",
              "      <td>0.744555</td>\n",
              "      <td>-1.065129</td>\n",
              "      <td>-0.491755</td>\n",
              "      <td>-0.166579</td>\n",
              "      <td>1.008790</td>\n",
              "      <td>0.141893</td>\n",
              "      <td>1.000781</td>\n",
              "      <td>-0.950687</td>\n",
              "      <td>0.400034</td>\n",
              "      <td>1.490825</td>\n",
              "      <td>0.308128</td>\n",
              "      <td>0.560421</td>\n",
              "      <td>0.167976</td>\n",
              "      <td>0.573332</td>\n",
              "      <td>-0.532997</td>\n",
              "      <td>0.084318</td>\n",
              "      <td>0.466793</td>\n",
              "      <td>-0.154232</td>\n",
              "      <td>-0.403244</td>\n",
              "      <td>-0.291934</td>\n",
              "      <td>-1.244539</td>\n",
              "    </tr>\n",
              "    <tr>\n",
              "      <th>4</th>\n",
              "      <td>-4.528949</td>\n",
              "      <td>1.093480</td>\n",
              "      <td>0.973121</td>\n",
              "      <td>1.419510</td>\n",
              "      <td>-1.715106</td>\n",
              "      <td>1.431592</td>\n",
              "      <td>-1.073649</td>\n",
              "      <td>0.968240</td>\n",
              "      <td>1.660216</td>\n",
              "      <td>1.174593</td>\n",
              "      <td>-1.017440</td>\n",
              "      <td>1.365994</td>\n",
              "      <td>-0.343716</td>\n",
              "      <td>-0.113469</td>\n",
              "      <td>-0.732635</td>\n",
              "      <td>-0.210692</td>\n",
              "      <td>-0.094411</td>\n",
              "      <td>0.552371</td>\n",
              "      <td>1.613976</td>\n",
              "      <td>1.086368</td>\n",
              "      <td>0.495644</td>\n",
              "      <td>0.185698</td>\n",
              "      <td>0.960864</td>\n",
              "      <td>-0.184642</td>\n",
              "      <td>-0.563999</td>\n",
              "      <td>2.142481</td>\n",
              "      <td>-0.064456</td>\n",
              "      <td>0.746668</td>\n",
              "      <td>-1.076306</td>\n",
              "      <td>0.297665</td>\n",
              "    </tr>\n",
              "    <tr>\n",
              "      <th>...</th>\n",
              "      <td>...</td>\n",
              "      <td>...</td>\n",
              "      <td>...</td>\n",
              "      <td>...</td>\n",
              "      <td>...</td>\n",
              "      <td>...</td>\n",
              "      <td>...</td>\n",
              "      <td>...</td>\n",
              "      <td>...</td>\n",
              "      <td>...</td>\n",
              "      <td>...</td>\n",
              "      <td>...</td>\n",
              "      <td>...</td>\n",
              "      <td>...</td>\n",
              "      <td>...</td>\n",
              "      <td>...</td>\n",
              "      <td>...</td>\n",
              "      <td>...</td>\n",
              "      <td>...</td>\n",
              "      <td>...</td>\n",
              "      <td>...</td>\n",
              "      <td>...</td>\n",
              "      <td>...</td>\n",
              "      <td>...</td>\n",
              "      <td>...</td>\n",
              "      <td>...</td>\n",
              "      <td>...</td>\n",
              "      <td>...</td>\n",
              "      <td>...</td>\n",
              "      <td>...</td>\n",
              "    </tr>\n",
              "    <tr>\n",
              "      <th>1792</th>\n",
              "      <td>-0.104331</td>\n",
              "      <td>-0.255024</td>\n",
              "      <td>-3.765861</td>\n",
              "      <td>1.947006</td>\n",
              "      <td>-0.190094</td>\n",
              "      <td>-0.555760</td>\n",
              "      <td>-0.531222</td>\n",
              "      <td>-0.476475</td>\n",
              "      <td>-1.152430</td>\n",
              "      <td>-0.473054</td>\n",
              "      <td>-0.635879</td>\n",
              "      <td>-0.803622</td>\n",
              "      <td>1.205195</td>\n",
              "      <td>-0.700724</td>\n",
              "      <td>-0.187246</td>\n",
              "      <td>-0.161669</td>\n",
              "      <td>0.504438</td>\n",
              "      <td>-0.357642</td>\n",
              "      <td>-0.956725</td>\n",
              "      <td>0.816109</td>\n",
              "      <td>0.030250</td>\n",
              "      <td>0.783514</td>\n",
              "      <td>-0.676671</td>\n",
              "      <td>-0.042743</td>\n",
              "      <td>0.359572</td>\n",
              "      <td>0.066849</td>\n",
              "      <td>-0.203868</td>\n",
              "      <td>0.058615</td>\n",
              "      <td>-0.979933</td>\n",
              "      <td>-0.122796</td>\n",
              "    </tr>\n",
              "    <tr>\n",
              "      <th>1793</th>\n",
              "      <td>-2.423234</td>\n",
              "      <td>1.429611</td>\n",
              "      <td>-3.045245</td>\n",
              "      <td>-2.632089</td>\n",
              "      <td>-0.822902</td>\n",
              "      <td>0.004061</td>\n",
              "      <td>1.106872</td>\n",
              "      <td>-2.330903</td>\n",
              "      <td>-0.569455</td>\n",
              "      <td>-1.654173</td>\n",
              "      <td>-0.460155</td>\n",
              "      <td>0.530551</td>\n",
              "      <td>0.858305</td>\n",
              "      <td>0.885069</td>\n",
              "      <td>0.702222</td>\n",
              "      <td>-1.098425</td>\n",
              "      <td>0.301699</td>\n",
              "      <td>0.311522</td>\n",
              "      <td>-0.307535</td>\n",
              "      <td>0.110083</td>\n",
              "      <td>-0.957759</td>\n",
              "      <td>0.041950</td>\n",
              "      <td>0.379564</td>\n",
              "      <td>0.082078</td>\n",
              "      <td>-0.213136</td>\n",
              "      <td>0.864603</td>\n",
              "      <td>-0.272784</td>\n",
              "      <td>-0.567033</td>\n",
              "      <td>0.769823</td>\n",
              "      <td>-0.008326</td>\n",
              "    </tr>\n",
              "    <tr>\n",
              "      <th>1794</th>\n",
              "      <td>-1.022596</td>\n",
              "      <td>0.147911</td>\n",
              "      <td>2.469974</td>\n",
              "      <td>0.620307</td>\n",
              "      <td>-0.972043</td>\n",
              "      <td>-0.007377</td>\n",
              "      <td>-0.381115</td>\n",
              "      <td>-0.529064</td>\n",
              "      <td>-2.054709</td>\n",
              "      <td>-2.036838</td>\n",
              "      <td>-0.679554</td>\n",
              "      <td>-0.396803</td>\n",
              "      <td>-0.409313</td>\n",
              "      <td>0.257614</td>\n",
              "      <td>-0.334953</td>\n",
              "      <td>-1.162071</td>\n",
              "      <td>1.124031</td>\n",
              "      <td>-0.669245</td>\n",
              "      <td>-1.612100</td>\n",
              "      <td>0.182303</td>\n",
              "      <td>0.166667</td>\n",
              "      <td>0.237439</td>\n",
              "      <td>0.041549</td>\n",
              "      <td>0.235181</td>\n",
              "      <td>0.261485</td>\n",
              "      <td>1.340361</td>\n",
              "      <td>0.054225</td>\n",
              "      <td>-0.352066</td>\n",
              "      <td>-0.521824</td>\n",
              "      <td>-0.271170</td>\n",
              "    </tr>\n",
              "    <tr>\n",
              "      <th>1795</th>\n",
              "      <td>-1.076055</td>\n",
              "      <td>0.380906</td>\n",
              "      <td>-2.455487</td>\n",
              "      <td>1.312013</td>\n",
              "      <td>0.253533</td>\n",
              "      <td>-0.638322</td>\n",
              "      <td>-1.034470</td>\n",
              "      <td>-0.763325</td>\n",
              "      <td>-1.077474</td>\n",
              "      <td>-0.334527</td>\n",
              "      <td>-0.980131</td>\n",
              "      <td>-0.606451</td>\n",
              "      <td>0.169573</td>\n",
              "      <td>-0.759176</td>\n",
              "      <td>-0.014572</td>\n",
              "      <td>-0.158465</td>\n",
              "      <td>1.686638</td>\n",
              "      <td>-0.811822</td>\n",
              "      <td>-1.769181</td>\n",
              "      <td>0.774718</td>\n",
              "      <td>-0.135668</td>\n",
              "      <td>0.433929</td>\n",
              "      <td>1.111662</td>\n",
              "      <td>0.312411</td>\n",
              "      <td>0.940159</td>\n",
              "      <td>-1.152000</td>\n",
              "      <td>0.662983</td>\n",
              "      <td>0.979041</td>\n",
              "      <td>-0.293561</td>\n",
              "      <td>-0.711736</td>\n",
              "    </tr>\n",
              "    <tr>\n",
              "      <th>1796</th>\n",
              "      <td>1.257702</td>\n",
              "      <td>2.227591</td>\n",
              "      <td>0.283628</td>\n",
              "      <td>0.127073</td>\n",
              "      <td>-1.570173</td>\n",
              "      <td>2.342953</td>\n",
              "      <td>0.383075</td>\n",
              "      <td>1.200566</td>\n",
              "      <td>-0.816831</td>\n",
              "      <td>-1.825428</td>\n",
              "      <td>-0.085511</td>\n",
              "      <td>-0.549436</td>\n",
              "      <td>0.099634</td>\n",
              "      <td>0.757965</td>\n",
              "      <td>-1.825514</td>\n",
              "      <td>-0.248320</td>\n",
              "      <td>0.643783</td>\n",
              "      <td>-1.944213</td>\n",
              "      <td>-2.438979</td>\n",
              "      <td>-1.132762</td>\n",
              "      <td>-1.114587</td>\n",
              "      <td>0.291210</td>\n",
              "      <td>-1.073341</td>\n",
              "      <td>-0.274700</td>\n",
              "      <td>0.909278</td>\n",
              "      <td>0.450495</td>\n",
              "      <td>0.322974</td>\n",
              "      <td>0.916469</td>\n",
              "      <td>-0.629528</td>\n",
              "      <td>0.327032</td>\n",
              "    </tr>\n",
              "  </tbody>\n",
              "</table>\n",
              "<p>1797 rows × 30 columns</p>\n",
              "</div>"
            ],
            "text/plain": [
              "            0         1         2   ...        27        28        29\n",
              "0    -1.914214  0.954502 -3.946035  ...  0.157022 -0.404918 -0.324594\n",
              "1    -0.588980 -0.924636  3.924755  ... -0.742482  0.855856 -0.277084\n",
              "2    -1.302039  0.317189  3.023333  ...  0.205099  0.362138  1.181186\n",
              "3     3.020770  0.868772 -0.801744  ... -0.403244 -0.291934 -1.244539\n",
              "4    -4.528949  1.093480  0.973121  ...  0.746668 -1.076306  0.297665\n",
              "...        ...       ...       ...  ...       ...       ...       ...\n",
              "1792 -0.104331 -0.255024 -3.765861  ...  0.058615 -0.979933 -0.122796\n",
              "1793 -2.423234  1.429611 -3.045245  ... -0.567033  0.769823 -0.008326\n",
              "1794 -1.022596  0.147911  2.469974  ... -0.352066 -0.521824 -0.271170\n",
              "1795 -1.076055  0.380906 -2.455487  ...  0.979041 -0.293561 -0.711736\n",
              "1796  1.257702  2.227591  0.283628  ...  0.916469 -0.629528  0.327032\n",
              "\n",
              "[1797 rows x 30 columns]"
            ]
          },
          "metadata": {},
          "execution_count": 86
        }
      ]
    },
    {
      "cell_type": "code",
      "metadata": {
        "id": "1lSPaRl2-hs5",
        "colab": {
          "base_uri": "https://localhost:8080/",
          "height": 1000
        },
        "outputId": "a6662b69-890d-43eb-b800-6669e89d5990"
      },
      "source": [
        "import seaborn as sns \n",
        "import matplotlib.pyplot as plt\n",
        "plt.figure(figsize=(20,20))\n",
        "sns.heatmap(projected.corr(),linewidths=.5)\n",
        "plt.show()"
      ],
      "execution_count": null,
      "outputs": [
        {
          "output_type": "display_data",
          "data": {
            "image/png": "[encoded data removed]",
            "text/plain": [
              "<Figure size 1440x1440 with 2 Axes>"
            ]
          },
          "metadata": {
            "needs_background": "light"
          }
        }
      ]
    },
    {
      "cell_type": "markdown",
      "metadata": {
        "id": "KsGaSQ0LB3eR"
      },
      "source": [
        "# Assignment 5 - Linear Regression"
      ]
    },
    {
      "cell_type": "markdown",
      "metadata": {
        "id": "sVMPnFR4eO74"
      },
      "source": [
        "Q1: Implement the Simple Linear Regression for the data given below and predict the house price for a house with plot size 3000, 2000 and 1500 feet: \n",
        " \n"
      ]
    },
    {
      "cell_type": "code",
      "metadata": {
        "id": "VTjcCnycB5bt"
      },
      "source": [
        "import numpy as np\n",
        "import pandas as pd\n",
        "import seaborn as sns\n",
        "import matplotlib.pyplot as plt\n",
        "from sklearn.linear_model import LinearRegression\n",
        "from sklearn.metrics import mean_squared_error\n",
        "from sklearn.model_selection import train_test_split\n"
      ],
      "execution_count": null,
      "outputs": []
    },
    {
      "cell_type": "code",
      "metadata": {
        "colab": {
          "base_uri": "https://localhost:8080/",
          "height": 363
        },
        "id": "-TDtnx1CD-H2",
        "outputId": "76be377f-b1e7-4724-9ecc-e27dbf6e3c05"
      },
      "source": [
        "df= pd.DataFrame()\n",
        "Y = np.array([245 ,312 ,279 ,308,199 ,219 ,405 ,324 ,319 ,255])\n",
        "X = np.array([1400,1600,1700,1875,1100,1550,2350,2450,1425,1700])\n",
        "df['Square Feet'] = X\n",
        "df['House Price in $1000s'] = Y\n",
        "df"
      ],
      "execution_count": null,
      "outputs": [
        {
          "output_type": "execute_result",
          "data": {
            "text/html": [
              "\n",
              "  <div id=\"df-f01e2db2-4e63-44f2-a3ce-9a72de047993\">\n",
              "    <div class=\"colab-df-container\">\n",
              "      <div>\n",
              "<style scoped>\n",
              "    .dataframe tbody tr th:only-of-type {\n",
              "        vertical-align: middle;\n",
              "    }\n",
              "\n",
              "    .dataframe tbody tr th {\n",
              "        vertical-align: top;\n",
              "    }\n",
              "\n",
              "    .dataframe thead th {\n",
              "        text-align: right;\n",
              "    }\n",
              "</style>\n",
              "<table border=\"1\" class=\"dataframe\">\n",
              "  <thead>\n",
              "    <tr style=\"text-align: right;\">\n",
              "      <th></th>\n",
              "      <th>Square Feet</th>\n",
              "      <th>House Price in $1000s</th>\n",
              "    </tr>\n",
              "  </thead>\n",
              "  <tbody>\n",
              "    <tr>\n",
              "      <th>0</th>\n",
              "      <td>1400</td>\n",
              "      <td>245</td>\n",
              "    </tr>\n",
              "    <tr>\n",
              "      <th>1</th>\n",
              "      <td>1600</td>\n",
              "      <td>312</td>\n",
              "    </tr>\n",
              "    <tr>\n",
              "      <th>2</th>\n",
              "      <td>1700</td>\n",
              "      <td>279</td>\n",
              "    </tr>\n",
              "    <tr>\n",
              "      <th>3</th>\n",
              "      <td>1875</td>\n",
              "      <td>308</td>\n",
              "    </tr>\n",
              "    <tr>\n",
              "      <th>4</th>\n",
              "      <td>1100</td>\n",
              "      <td>199</td>\n",
              "    </tr>\n",
              "    <tr>\n",
              "      <th>5</th>\n",
              "      <td>1550</td>\n",
              "      <td>219</td>\n",
              "    </tr>\n",
              "    <tr>\n",
              "      <th>6</th>\n",
              "      <td>2350</td>\n",
              "      <td>405</td>\n",
              "    </tr>\n",
              "    <tr>\n",
              "      <th>7</th>\n",
              "      <td>2450</td>\n",
              "      <td>324</td>\n",
              "    </tr>\n",
              "    <tr>\n",
              "      <th>8</th>\n",
              "      <td>1425</td>\n",
              "      <td>319</td>\n",
              "    </tr>\n",
              "    <tr>\n",
              "      <th>9</th>\n",
              "      <td>1700</td>\n",
              "      <td>255</td>\n",
              "    </tr>\n",
              "  </tbody>\n",
              "</table>\n",
              "</div>\n",
              "      <button class=\"colab-df-convert\" onclick=\"convertToInteractive('df-f01e2db2-4e63-44f2-a3ce-9a72de047993')\"\n",
              "              title=\"Convert this dataframe to an interactive table.\"\n",
              "              style=\"display:none;\">\n",
              "        \n",
              "  <svg xmlns=\"http://www.w3.org/2000/svg\" height=\"24px\"viewBox=\"0 0 24 24\"\n",
              "       width=\"24px\">\n",
              "    <path d=\"M0 0h24v24H0V0z\" fill=\"none\"/>\n",
              "    <path d=\"M18.56 5.44l.94 2.06.94-2.06 2.06-.94-2.06-.94-.94-2.06-.94 2.06-2.06.94zm-11 1L8.5 8.5l.94-2.06 2.06-.94-2.06-.94L8.5 2.5l-.94 2.06-2.06.94zm10 10l.94 2.06.94-2.06 2.06-.94-2.06-.94-.94-2.06-.94 2.06-2.06.94z\"/><path d=\"M17.41 7.96l-1.37-1.37c-.4-.4-.92-.59-1.43-.59-.52 0-1.04.2-1.43.59L10.3 9.45l-7.72 7.72c-.78.78-.78 2.05 0 2.83L4 21.41c.39.39.9.59 1.41.59.51 0 1.02-.2 1.41-.59l7.78-7.78 2.81-2.81c.8-.78.8-2.07 0-2.86zM5.41 20L4 18.59l7.72-7.72 1.47 1.35L5.41 20z\"/>\n",
              "  </svg>\n",
              "      </button>\n",
              "      \n",
              "  <style>\n",
              "    .colab-df-container {\n",
              "      display:flex;\n",
              "      flex-wrap:wrap;\n",
              "      gap: 12px;\n",
              "    }\n",
              "\n",
              "    .colab-df-convert {\n",
              "      background-color: #E8F0FE;\n",
              "      border: none;\n",
              "      border-radius: 50%;\n",
              "      cursor: pointer;\n",
              "      display: none;\n",
              "      fill: #1967D2;\n",
              "      height: 32px;\n",
              "      padding: 0 0 0 0;\n",
              "      width: 32px;\n",
              "    }\n",
              "\n",
              "    .colab-df-convert:hover {\n",
              "      background-color: #E2EBFA;\n",
              "      box-shadow: 0px 1px 2px rgba(60, 64, 67, 0.3), 0px 1px 3px 1px rgba(60, 64, 67, 0.15);\n",
              "      fill: #174EA6;\n",
              "    }\n",
              "\n",
              "    [theme=dark] .colab-df-convert {\n",
              "      background-color: #3B4455;\n",
              "      fill: #D2E3FC;\n",
              "    }\n",
              "\n",
              "    [theme=dark] .colab-df-convert:hover {\n",
              "      background-color: #434B5C;\n",
              "      box-shadow: 0px 1px 3px 1px rgba(0, 0, 0, 0.15);\n",
              "      filter: drop-shadow(0px 1px 2px rgba(0, 0, 0, 0.3));\n",
              "      fill: #FFFFFF;\n",
              "    }\n",
              "  </style>\n",
              "\n",
              "      <script>\n",
              "        const buttonEl =\n",
              "          document.querySelector('#df-f01e2db2-4e63-44f2-a3ce-9a72de047993 button.colab-df-convert');\n",
              "        buttonEl.style.display =\n",
              "          google.colab.kernel.accessAllowed ? 'block' : 'none';\n",
              "\n",
              "        async function convertToInteractive(key) {\n",
              "          const element = document.querySelector('#df-f01e2db2-4e63-44f2-a3ce-9a72de047993');\n",
              "          const dataTable =\n",
              "            await google.colab.kernel.invokeFunction('convertToInteractive',\n",
              "                                                     [key], {});\n",
              "          if (!dataTable) return;\n",
              "\n",
              "          const docLinkHtml = 'Like what you see? Visit the ' +\n",
              "            '<a target=\"_blank\" href=https://colab.research.google.com/notebooks/data_table.ipynb>data table notebook</a>'\n",
              "            + ' to learn more about interactive tables.';\n",
              "          element.innerHTML = '';\n",
              "          dataTable['output_type'] = 'display_data';\n",
              "          await google.colab.output.renderOutput(dataTable, element);\n",
              "          const docLink = document.createElement('div');\n",
              "          docLink.innerHTML = docLinkHtml;\n",
              "          element.appendChild(docLink);\n",
              "        }\n",
              "      </script>\n",
              "    </div>\n",
              "  </div>\n",
              "  "
            ],
            "text/plain": [
              "   Square Feet  House Price in $1000s\n",
              "0         1400                    245\n",
              "1         1600                    312\n",
              "2         1700                    279\n",
              "3         1875                    308\n",
              "4         1100                    199\n",
              "5         1550                    219\n",
              "6         2350                    405\n",
              "7         2450                    324\n",
              "8         1425                    319\n",
              "9         1700                    255"
            ]
          },
          "metadata": {},
          "execution_count": 2
        }
      ]
    },
    {
      "cell_type": "code",
      "metadata": {
        "colab": {
          "base_uri": "https://localhost:8080/",
          "height": 300
        },
        "id": "mFFe6_oXFWst",
        "outputId": "5253d68d-15b3-4e1d-9319-c18c6826a461"
      },
      "source": [
        "plt.xlabel('Plot Size (in sq.ft)',fontsize=14)\n",
        "plt.ylabel('House Price (in $1000s)',fontsize=14)\n",
        "plt.scatter(X,Y)"
      ],
      "execution_count": null,
      "outputs": [
        {
          "output_type": "execute_result",
          "data": {
            "text/plain": [
              "<matplotlib.collections.PathCollection at 0x7fb95648ebd0>"
            ]
          },
          "metadata": {},
          "execution_count": 17
        },
        {
          "output_type": "display_data",
          "data": {
            "image/png": "[encoded data removed]",
            "text/plain": [
              "<Figure size 432x288 with 1 Axes>"
            ]
          },
          "metadata": {
            "needs_background": "light"
          }
        }
      ]
    },
    {
      "cell_type": "code",
      "metadata": {
        "colab": {
          "base_uri": "https://localhost:8080/",
          "height": 286
        },
        "id": "2vYnJj8n_QGu",
        "outputId": "e4112d40-9046-4ef0-d7a9-84030ee82f3e"
      },
      "source": [
        "sns.heatmap(df.corr(),annot=True)"
      ],
      "execution_count": null,
      "outputs": [
        {
          "output_type": "execute_result",
          "data": {
            "text/plain": [
              "<matplotlib.axes._subplots.AxesSubplot at 0x7fb94d717690>"
            ]
          },
          "metadata": {},
          "execution_count": 18
        },
        {
          "output_type": "display_data",
          "data": {
            "image/png": "[encoded data removed]",
            "text/plain": [
              "<Figure size 432x288 with 2 Axes>"
            ]
          },
          "metadata": {
            "needs_background": "light"
          }
        }
      ]
    },
    {
      "cell_type": "code",
      "metadata": {
        "id": "Tn8NzQuAL8Ig"
      },
      "source": [
        "x_train,x_test,y_train,y_test = train_test_split(X,Y,test_size=0.25,random_state=1)"
      ],
      "execution_count": null,
      "outputs": []
    },
    {
      "cell_type": "code",
      "metadata": {
        "id": "NyglGrToNB8d"
      },
      "source": [
        "model = LinearRegression().fit(x_train.reshape(-1,1),y_train.reshape(-1,1))"
      ],
      "execution_count": null,
      "outputs": []
    },
    {
      "cell_type": "code",
      "metadata": {
        "id": "lSHGz7RZObzY"
      },
      "source": [
        "y_pred = model.predict(x_test.reshape(-1,1))"
      ],
      "execution_count": null,
      "outputs": []
    },
    {
      "cell_type": "code",
      "metadata": {
        "colab": {
          "base_uri": "https://localhost:8080/",
          "height": 283
        },
        "id": "GtK4O9QPOsbq",
        "outputId": "5d14360b-e031-46e2-ad8a-d7d2a03de8fc"
      },
      "source": [
        "plt.scatter(x_train,y_train,color='green')\n",
        "plt.scatter(x_test,y_test,color='red')\n",
        "plt.plot(X,model.predict(X.reshape(-1,1)))\n",
        "plt.xlabel('Plot Size (in sq.ft)',fontsize=14)\n",
        "plt.ylabel('House Price (in $1000s)',fontsize=14)\n",
        "plt.grid()\n",
        "plt.show()"
      ],
      "execution_count": null,
      "outputs": [
        {
          "output_type": "display_data",
          "data": {
            "image/png": "[encoded data removed]",
            "text/plain": [
              "<Figure size 432x288 with 1 Axes>"
            ]
          },
          "metadata": {
            "needs_background": "light"
          }
        }
      ]
    },
    {
      "cell_type": "code",
      "metadata": {
        "colab": {
          "base_uri": "https://localhost:8080/"
        },
        "id": "kjVj_ricUULs",
        "outputId": "77caa6b8-6abe-459b-d78d-1a2f917b5599"
      },
      "source": [
        "mean_squared_error(y_test.reshape(-1,1),y_pred.reshape(-1,1))"
      ],
      "execution_count": null,
      "outputs": [
        {
          "output_type": "execute_result",
          "data": {
            "text/plain": [
              "1942.3578943953617"
            ]
          },
          "metadata": {},
          "execution_count": 24
        }
      ]
    },
    {
      "cell_type": "code",
      "metadata": {
        "colab": {
          "base_uri": "https://localhost:8080/"
        },
        "id": "BAf_2L1xTlzr",
        "outputId": "67df0c46-58ba-4fbe-edca-82b96b1630ab"
      },
      "source": [
        "model.predict(np.array([3000,2000,1500]).reshape(-1,1))"
      ],
      "execution_count": null,
      "outputs": [
        {
          "output_type": "execute_result",
          "data": {
            "text/plain": [
              "array([[385.5376981],\n",
              "       [305.0414599],\n",
              "       [264.7933408]])"
            ]
          },
          "metadata": {},
          "execution_count": 25
        }
      ]
    },
    {
      "cell_type": "markdown",
      "metadata": {
        "id": "AGFlAhsEVgCv"
      },
      "source": [
        "Q2: Implement the Multiple Linear Regression for the data given below and predict the stock index price if interest rate is 1.5 and unemployment rate is 5.8."
      ]
    },
    {
      "cell_type": "code",
      "metadata": {
        "colab": {
          "base_uri": "https://localhost:8080/",
          "height": 786
        },
        "id": "4doDJjF-7egK",
        "outputId": "5747198f-82e8-41ad-dab9-ae1a82c6f75b"
      },
      "source": [
        "dict={\"Year\": [2017,2017,2017,2017,2017,2017,2017,2017,2017,2017,2017,2017, 2016,2016,2016,2016,2016,2016,2016,2016,2016,2016,2016,2016],\n",
        "      \"Month\": [12,11,10,9,8,7,6,5,4,3,2,1,12,11,10,9,8,7,6,5,4,3,2,1],\n",
        "      \"Interest_Rate\": [2.75,2.5,2.5,2.5,2.5,2.5,2.5,2.25,2.25,2.25,2,2,2,1.75,1.75,1.75,1.75,1.75,1.75,1.75,1.75,1.75,1.75,1.75],\n",
        "      \"Unemployment_Rate\":[5.3,5.3,5.3,5.3,5.4,5.6,5.5,5.5,5.5,5.6,5.7,5.9,6,5.9,5.8,6.1,6.2,6.1,6.1,6.1,5.9,6.2,6.2,6.1],\n",
        "      \"Stock_Index_Price\": [1464,1394,1357,1293,1256,1254,1234,1195,1159,1167,1130,1075,1047,965,943,958,971,949,884,866,876,822,704,719]}\n",
        "df=pd.DataFrame(dict)\n",
        "df"
      ],
      "execution_count": null,
      "outputs": [
        {
          "output_type": "execute_result",
          "data": {
            "text/html": [
              "<div>\n",
              "<style scoped>\n",
              "    .dataframe tbody tr th:only-of-type {\n",
              "        vertical-align: middle;\n",
              "    }\n",
              "\n",
              "    .dataframe tbody tr th {\n",
              "        vertical-align: top;\n",
              "    }\n",
              "\n",
              "    .dataframe thead th {\n",
              "        text-align: right;\n",
              "    }\n",
              "</style>\n",
              "<table border=\"1\" class=\"dataframe\">\n",
              "  <thead>\n",
              "    <tr style=\"text-align: right;\">\n",
              "      <th></th>\n",
              "      <th>Year</th>\n",
              "      <th>Month</th>\n",
              "      <th>Interest_Rate</th>\n",
              "      <th>Unemployment_Rate</th>\n",
              "      <th>Stock_Index_Price</th>\n",
              "    </tr>\n",
              "  </thead>\n",
              "  <tbody>\n",
              "    <tr>\n",
              "      <th>0</th>\n",
              "      <td>2017</td>\n",
              "      <td>12</td>\n",
              "      <td>2.75</td>\n",
              "      <td>5.3</td>\n",
              "      <td>1464</td>\n",
              "    </tr>\n",
              "    <tr>\n",
              "      <th>1</th>\n",
              "      <td>2017</td>\n",
              "      <td>11</td>\n",
              "      <td>2.50</td>\n",
              "      <td>5.3</td>\n",
              "      <td>1394</td>\n",
              "    </tr>\n",
              "    <tr>\n",
              "      <th>2</th>\n",
              "      <td>2017</td>\n",
              "      <td>10</td>\n",
              "      <td>2.50</td>\n",
              "      <td>5.3</td>\n",
              "      <td>1357</td>\n",
              "    </tr>\n",
              "    <tr>\n",
              "      <th>3</th>\n",
              "      <td>2017</td>\n",
              "      <td>9</td>\n",
              "      <td>2.50</td>\n",
              "      <td>5.3</td>\n",
              "      <td>1293</td>\n",
              "    </tr>\n",
              "    <tr>\n",
              "      <th>4</th>\n",
              "      <td>2017</td>\n",
              "      <td>8</td>\n",
              "      <td>2.50</td>\n",
              "      <td>5.4</td>\n",
              "      <td>1256</td>\n",
              "    </tr>\n",
              "    <tr>\n",
              "      <th>5</th>\n",
              "      <td>2017</td>\n",
              "      <td>7</td>\n",
              "      <td>2.50</td>\n",
              "      <td>5.6</td>\n",
              "      <td>1254</td>\n",
              "    </tr>\n",
              "    <tr>\n",
              "      <th>6</th>\n",
              "      <td>2017</td>\n",
              "      <td>6</td>\n",
              "      <td>2.50</td>\n",
              "      <td>5.5</td>\n",
              "      <td>1234</td>\n",
              "    </tr>\n",
              "    <tr>\n",
              "      <th>7</th>\n",
              "      <td>2017</td>\n",
              "      <td>5</td>\n",
              "      <td>2.25</td>\n",
              "      <td>5.5</td>\n",
              "      <td>1195</td>\n",
              "    </tr>\n",
              "    <tr>\n",
              "      <th>8</th>\n",
              "      <td>2017</td>\n",
              "      <td>4</td>\n",
              "      <td>2.25</td>\n",
              "      <td>5.5</td>\n",
              "      <td>1159</td>\n",
              "    </tr>\n",
              "    <tr>\n",
              "      <th>9</th>\n",
              "      <td>2017</td>\n",
              "      <td>3</td>\n",
              "      <td>2.25</td>\n",
              "      <td>5.6</td>\n",
              "      <td>1167</td>\n",
              "    </tr>\n",
              "    <tr>\n",
              "      <th>10</th>\n",
              "      <td>2017</td>\n",
              "      <td>2</td>\n",
              "      <td>2.00</td>\n",
              "      <td>5.7</td>\n",
              "      <td>1130</td>\n",
              "    </tr>\n",
              "    <tr>\n",
              "      <th>11</th>\n",
              "      <td>2017</td>\n",
              "      <td>1</td>\n",
              "      <td>2.00</td>\n",
              "      <td>5.9</td>\n",
              "      <td>1075</td>\n",
              "    </tr>\n",
              "    <tr>\n",
              "      <th>12</th>\n",
              "      <td>2016</td>\n",
              "      <td>12</td>\n",
              "      <td>2.00</td>\n",
              "      <td>6.0</td>\n",
              "      <td>1047</td>\n",
              "    </tr>\n",
              "    <tr>\n",
              "      <th>13</th>\n",
              "      <td>2016</td>\n",
              "      <td>11</td>\n",
              "      <td>1.75</td>\n",
              "      <td>5.9</td>\n",
              "      <td>965</td>\n",
              "    </tr>\n",
              "    <tr>\n",
              "      <th>14</th>\n",
              "      <td>2016</td>\n",
              "      <td>10</td>\n",
              "      <td>1.75</td>\n",
              "      <td>5.8</td>\n",
              "      <td>943</td>\n",
              "    </tr>\n",
              "    <tr>\n",
              "      <th>15</th>\n",
              "      <td>2016</td>\n",
              "      <td>9</td>\n",
              "      <td>1.75</td>\n",
              "      <td>6.1</td>\n",
              "      <td>958</td>\n",
              "    </tr>\n",
              "    <tr>\n",
              "      <th>16</th>\n",
              "      <td>2016</td>\n",
              "      <td>8</td>\n",
              "      <td>1.75</td>\n",
              "      <td>6.2</td>\n",
              "      <td>971</td>\n",
              "    </tr>\n",
              "    <tr>\n",
              "      <th>17</th>\n",
              "      <td>2016</td>\n",
              "      <td>7</td>\n",
              "      <td>1.75</td>\n",
              "      <td>6.1</td>\n",
              "      <td>949</td>\n",
              "    </tr>\n",
              "    <tr>\n",
              "      <th>18</th>\n",
              "      <td>2016</td>\n",
              "      <td>6</td>\n",
              "      <td>1.75</td>\n",
              "      <td>6.1</td>\n",
              "      <td>884</td>\n",
              "    </tr>\n",
              "    <tr>\n",
              "      <th>19</th>\n",
              "      <td>2016</td>\n",
              "      <td>5</td>\n",
              "      <td>1.75</td>\n",
              "      <td>6.1</td>\n",
              "      <td>866</td>\n",
              "    </tr>\n",
              "    <tr>\n",
              "      <th>20</th>\n",
              "      <td>2016</td>\n",
              "      <td>4</td>\n",
              "      <td>1.75</td>\n",
              "      <td>5.9</td>\n",
              "      <td>876</td>\n",
              "    </tr>\n",
              "    <tr>\n",
              "      <th>21</th>\n",
              "      <td>2016</td>\n",
              "      <td>3</td>\n",
              "      <td>1.75</td>\n",
              "      <td>6.2</td>\n",
              "      <td>822</td>\n",
              "    </tr>\n",
              "    <tr>\n",
              "      <th>22</th>\n",
              "      <td>2016</td>\n",
              "      <td>2</td>\n",
              "      <td>1.75</td>\n",
              "      <td>6.2</td>\n",
              "      <td>704</td>\n",
              "    </tr>\n",
              "    <tr>\n",
              "      <th>23</th>\n",
              "      <td>2016</td>\n",
              "      <td>1</td>\n",
              "      <td>1.75</td>\n",
              "      <td>6.1</td>\n",
              "      <td>719</td>\n",
              "    </tr>\n",
              "  </tbody>\n",
              "</table>\n",
              "</div>"
            ],
            "text/plain": [
              "    Year  Month  Interest_Rate  Unemployment_Rate  Stock_Index_Price\n",
              "0   2017     12           2.75                5.3               1464\n",
              "1   2017     11           2.50                5.3               1394\n",
              "2   2017     10           2.50                5.3               1357\n",
              "3   2017      9           2.50                5.3               1293\n",
              "4   2017      8           2.50                5.4               1256\n",
              "5   2017      7           2.50                5.6               1254\n",
              "6   2017      6           2.50                5.5               1234\n",
              "7   2017      5           2.25                5.5               1195\n",
              "8   2017      4           2.25                5.5               1159\n",
              "9   2017      3           2.25                5.6               1167\n",
              "10  2017      2           2.00                5.7               1130\n",
              "11  2017      1           2.00                5.9               1075\n",
              "12  2016     12           2.00                6.0               1047\n",
              "13  2016     11           1.75                5.9                965\n",
              "14  2016     10           1.75                5.8                943\n",
              "15  2016      9           1.75                6.1                958\n",
              "16  2016      8           1.75                6.2                971\n",
              "17  2016      7           1.75                6.1                949\n",
              "18  2016      6           1.75                6.1                884\n",
              "19  2016      5           1.75                6.1                866\n",
              "20  2016      4           1.75                5.9                876\n",
              "21  2016      3           1.75                6.2                822\n",
              "22  2016      2           1.75                6.2                704\n",
              "23  2016      1           1.75                6.1                719"
            ]
          },
          "metadata": {},
          "execution_count": 26
        }
      ]
    },
    {
      "cell_type": "code",
      "metadata": {
        "colab": {
          "base_uri": "https://localhost:8080/",
          "height": 381
        },
        "id": "1guxCB9H-Cis",
        "outputId": "a35ff7bc-3240-4a65-ca38-103831fecd20"
      },
      "source": [
        "sns.heatmap(df.corr(),annot=True)"
      ],
      "execution_count": null,
      "outputs": [
        {
          "output_type": "execute_result",
          "data": {
            "text/plain": [
              "<matplotlib.axes._subplots.AxesSubplot at 0x7fb94d543490>"
            ]
          },
          "metadata": {},
          "execution_count": 27
        },
        {
          "output_type": "display_data",
          "data": {
            "image/png": "[encoded data removed]",
            "text/plain": [
              "<Figure size 432x288 with 2 Axes>"
            ]
          },
          "metadata": {
            "needs_background": "light"
          }
        }
      ]
    },
    {
      "cell_type": "code",
      "metadata": {
        "colab": {
          "base_uri": "https://localhost:8080/",
          "height": 786
        },
        "id": "tjSkH5Pl_3WQ",
        "outputId": "6119087c-ad4b-4971-eb66-d204f811a4d8"
      },
      "source": [
        "x = pd.DataFrame(df.iloc[:,2:4])\n",
        "x"
      ],
      "execution_count": null,
      "outputs": [
        {
          "output_type": "execute_result",
          "data": {
            "text/html": [
              "<div>\n",
              "<style scoped>\n",
              "    .dataframe tbody tr th:only-of-type {\n",
              "        vertical-align: middle;\n",
              "    }\n",
              "\n",
              "    .dataframe tbody tr th {\n",
              "        vertical-align: top;\n",
              "    }\n",
              "\n",
              "    .dataframe thead th {\n",
              "        text-align: right;\n",
              "    }\n",
              "</style>\n",
              "<table border=\"1\" class=\"dataframe\">\n",
              "  <thead>\n",
              "    <tr style=\"text-align: right;\">\n",
              "      <th></th>\n",
              "      <th>Interest_Rate</th>\n",
              "      <th>Unemployment_Rate</th>\n",
              "    </tr>\n",
              "  </thead>\n",
              "  <tbody>\n",
              "    <tr>\n",
              "      <th>0</th>\n",
              "      <td>2.75</td>\n",
              "      <td>5.3</td>\n",
              "    </tr>\n",
              "    <tr>\n",
              "      <th>1</th>\n",
              "      <td>2.50</td>\n",
              "      <td>5.3</td>\n",
              "    </tr>\n",
              "    <tr>\n",
              "      <th>2</th>\n",
              "      <td>2.50</td>\n",
              "      <td>5.3</td>\n",
              "    </tr>\n",
              "    <tr>\n",
              "      <th>3</th>\n",
              "      <td>2.50</td>\n",
              "      <td>5.3</td>\n",
              "    </tr>\n",
              "    <tr>\n",
              "      <th>4</th>\n",
              "      <td>2.50</td>\n",
              "      <td>5.4</td>\n",
              "    </tr>\n",
              "    <tr>\n",
              "      <th>5</th>\n",
              "      <td>2.50</td>\n",
              "      <td>5.6</td>\n",
              "    </tr>\n",
              "    <tr>\n",
              "      <th>6</th>\n",
              "      <td>2.50</td>\n",
              "      <td>5.5</td>\n",
              "    </tr>\n",
              "    <tr>\n",
              "      <th>7</th>\n",
              "      <td>2.25</td>\n",
              "      <td>5.5</td>\n",
              "    </tr>\n",
              "    <tr>\n",
              "      <th>8</th>\n",
              "      <td>2.25</td>\n",
              "      <td>5.5</td>\n",
              "    </tr>\n",
              "    <tr>\n",
              "      <th>9</th>\n",
              "      <td>2.25</td>\n",
              "      <td>5.6</td>\n",
              "    </tr>\n",
              "    <tr>\n",
              "      <th>10</th>\n",
              "      <td>2.00</td>\n",
              "      <td>5.7</td>\n",
              "    </tr>\n",
              "    <tr>\n",
              "      <th>11</th>\n",
              "      <td>2.00</td>\n",
              "      <td>5.9</td>\n",
              "    </tr>\n",
              "    <tr>\n",
              "      <th>12</th>\n",
              "      <td>2.00</td>\n",
              "      <td>6.0</td>\n",
              "    </tr>\n",
              "    <tr>\n",
              "      <th>13</th>\n",
              "      <td>1.75</td>\n",
              "      <td>5.9</td>\n",
              "    </tr>\n",
              "    <tr>\n",
              "      <th>14</th>\n",
              "      <td>1.75</td>\n",
              "      <td>5.8</td>\n",
              "    </tr>\n",
              "    <tr>\n",
              "      <th>15</th>\n",
              "      <td>1.75</td>\n",
              "      <td>6.1</td>\n",
              "    </tr>\n",
              "    <tr>\n",
              "      <th>16</th>\n",
              "      <td>1.75</td>\n",
              "      <td>6.2</td>\n",
              "    </tr>\n",
              "    <tr>\n",
              "      <th>17</th>\n",
              "      <td>1.75</td>\n",
              "      <td>6.1</td>\n",
              "    </tr>\n",
              "    <tr>\n",
              "      <th>18</th>\n",
              "      <td>1.75</td>\n",
              "      <td>6.1</td>\n",
              "    </tr>\n",
              "    <tr>\n",
              "      <th>19</th>\n",
              "      <td>1.75</td>\n",
              "      <td>6.1</td>\n",
              "    </tr>\n",
              "    <tr>\n",
              "      <th>20</th>\n",
              "      <td>1.75</td>\n",
              "      <td>5.9</td>\n",
              "    </tr>\n",
              "    <tr>\n",
              "      <th>21</th>\n",
              "      <td>1.75</td>\n",
              "      <td>6.2</td>\n",
              "    </tr>\n",
              "    <tr>\n",
              "      <th>22</th>\n",
              "      <td>1.75</td>\n",
              "      <td>6.2</td>\n",
              "    </tr>\n",
              "    <tr>\n",
              "      <th>23</th>\n",
              "      <td>1.75</td>\n",
              "      <td>6.1</td>\n",
              "    </tr>\n",
              "  </tbody>\n",
              "</table>\n",
              "</div>"
            ],
            "text/plain": [
              "    Interest_Rate  Unemployment_Rate\n",
              "0            2.75                5.3\n",
              "1            2.50                5.3\n",
              "2            2.50                5.3\n",
              "3            2.50                5.3\n",
              "4            2.50                5.4\n",
              "5            2.50                5.6\n",
              "6            2.50                5.5\n",
              "7            2.25                5.5\n",
              "8            2.25                5.5\n",
              "9            2.25                5.6\n",
              "10           2.00                5.7\n",
              "11           2.00                5.9\n",
              "12           2.00                6.0\n",
              "13           1.75                5.9\n",
              "14           1.75                5.8\n",
              "15           1.75                6.1\n",
              "16           1.75                6.2\n",
              "17           1.75                6.1\n",
              "18           1.75                6.1\n",
              "19           1.75                6.1\n",
              "20           1.75                5.9\n",
              "21           1.75                6.2\n",
              "22           1.75                6.2\n",
              "23           1.75                6.1"
            ]
          },
          "metadata": {},
          "execution_count": 33
        }
      ]
    },
    {
      "cell_type": "code",
      "metadata": {
        "colab": {
          "base_uri": "https://localhost:8080/",
          "height": 786
        },
        "id": "D7AipZCGASld",
        "outputId": "136ecf01-550f-4d05-8125-58bc926377c7"
      },
      "source": [
        "y = pd.DataFrame(df.iloc[:,4])\n",
        "y"
      ],
      "execution_count": null,
      "outputs": [
        {
          "output_type": "execute_result",
          "data": {
            "text/html": [
              "<div>\n",
              "<style scoped>\n",
              "    .dataframe tbody tr th:only-of-type {\n",
              "        vertical-align: middle;\n",
              "    }\n",
              "\n",
              "    .dataframe tbody tr th {\n",
              "        vertical-align: top;\n",
              "    }\n",
              "\n",
              "    .dataframe thead th {\n",
              "        text-align: right;\n",
              "    }\n",
              "</style>\n",
              "<table border=\"1\" class=\"dataframe\">\n",
              "  <thead>\n",
              "    <tr style=\"text-align: right;\">\n",
              "      <th></th>\n",
              "      <th>Stock_Index_Price</th>\n",
              "    </tr>\n",
              "  </thead>\n",
              "  <tbody>\n",
              "    <tr>\n",
              "      <th>0</th>\n",
              "      <td>1464</td>\n",
              "    </tr>\n",
              "    <tr>\n",
              "      <th>1</th>\n",
              "      <td>1394</td>\n",
              "    </tr>\n",
              "    <tr>\n",
              "      <th>2</th>\n",
              "      <td>1357</td>\n",
              "    </tr>\n",
              "    <tr>\n",
              "      <th>3</th>\n",
              "      <td>1293</td>\n",
              "    </tr>\n",
              "    <tr>\n",
              "      <th>4</th>\n",
              "      <td>1256</td>\n",
              "    </tr>\n",
              "    <tr>\n",
              "      <th>5</th>\n",
              "      <td>1254</td>\n",
              "    </tr>\n",
              "    <tr>\n",
              "      <th>6</th>\n",
              "      <td>1234</td>\n",
              "    </tr>\n",
              "    <tr>\n",
              "      <th>7</th>\n",
              "      <td>1195</td>\n",
              "    </tr>\n",
              "    <tr>\n",
              "      <th>8</th>\n",
              "      <td>1159</td>\n",
              "    </tr>\n",
              "    <tr>\n",
              "      <th>9</th>\n",
              "      <td>1167</td>\n",
              "    </tr>\n",
              "    <tr>\n",
              "      <th>10</th>\n",
              "      <td>1130</td>\n",
              "    </tr>\n",
              "    <tr>\n",
              "      <th>11</th>\n",
              "      <td>1075</td>\n",
              "    </tr>\n",
              "    <tr>\n",
              "      <th>12</th>\n",
              "      <td>1047</td>\n",
              "    </tr>\n",
              "    <tr>\n",
              "      <th>13</th>\n",
              "      <td>965</td>\n",
              "    </tr>\n",
              "    <tr>\n",
              "      <th>14</th>\n",
              "      <td>943</td>\n",
              "    </tr>\n",
              "    <tr>\n",
              "      <th>15</th>\n",
              "      <td>958</td>\n",
              "    </tr>\n",
              "    <tr>\n",
              "      <th>16</th>\n",
              "      <td>971</td>\n",
              "    </tr>\n",
              "    <tr>\n",
              "      <th>17</th>\n",
              "      <td>949</td>\n",
              "    </tr>\n",
              "    <tr>\n",
              "      <th>18</th>\n",
              "      <td>884</td>\n",
              "    </tr>\n",
              "    <tr>\n",
              "      <th>19</th>\n",
              "      <td>866</td>\n",
              "    </tr>\n",
              "    <tr>\n",
              "      <th>20</th>\n",
              "      <td>876</td>\n",
              "    </tr>\n",
              "    <tr>\n",
              "      <th>21</th>\n",
              "      <td>822</td>\n",
              "    </tr>\n",
              "    <tr>\n",
              "      <th>22</th>\n",
              "      <td>704</td>\n",
              "    </tr>\n",
              "    <tr>\n",
              "      <th>23</th>\n",
              "      <td>719</td>\n",
              "    </tr>\n",
              "  </tbody>\n",
              "</table>\n",
              "</div>"
            ],
            "text/plain": [
              "    Stock_Index_Price\n",
              "0                1464\n",
              "1                1394\n",
              "2                1357\n",
              "3                1293\n",
              "4                1256\n",
              "5                1254\n",
              "6                1234\n",
              "7                1195\n",
              "8                1159\n",
              "9                1167\n",
              "10               1130\n",
              "11               1075\n",
              "12               1047\n",
              "13                965\n",
              "14                943\n",
              "15                958\n",
              "16                971\n",
              "17                949\n",
              "18                884\n",
              "19                866\n",
              "20                876\n",
              "21                822\n",
              "22                704\n",
              "23                719"
            ]
          },
          "metadata": {},
          "execution_count": 34
        }
      ]
    },
    {
      "cell_type": "code",
      "metadata": {
        "id": "46Es2PDXA8CI"
      },
      "source": [
        "multi = LinearRegression().fit(x,y)"
      ],
      "execution_count": null,
      "outputs": []
    },
    {
      "cell_type": "code",
      "metadata": {
        "colab": {
          "base_uri": "https://localhost:8080/"
        },
        "id": "l3oYDGxEBIWq",
        "outputId": "3d3d0d7e-92bf-4407-f433-8a350e53c1c0"
      },
      "source": [
        "print(\"Coefficient of x1 is : \",multi.coef_[0][0], \"\\nCoefficient of x2 is : \",multi.coef_[0][1])"
      ],
      "execution_count": null,
      "outputs": [
        {
          "output_type": "stream",
          "name": "stdout",
          "text": [
            "Coefficient of x1 is :  345.54008701056574 \n",
            "Coefficient of x2 is :  -250.14657136938058\n"
          ]
        }
      ]
    },
    {
      "cell_type": "code",
      "metadata": {
        "colab": {
          "base_uri": "https://localhost:8080/"
        },
        "id": "ygpJH35LBj5G",
        "outputId": "2e6fe088-7102-4a9c-98bf-3952abe2c2bc"
      },
      "source": [
        "multi.intercept_[0]"
      ],
      "execution_count": null,
      "outputs": [
        {
          "output_type": "execute_result",
          "data": {
            "text/plain": [
              "1798.4039776258546"
            ]
          },
          "metadata": {},
          "execution_count": 37
        }
      ]
    },
    {
      "cell_type": "code",
      "metadata": {
        "colab": {
          "base_uri": "https://localhost:8080/",
          "height": 79
        },
        "id": "EvfkMuDjBwZ1",
        "outputId": "477f01d6-096f-460c-cd40-cc76ed3862b9"
      },
      "source": [
        "test = pd.DataFrame(np.array([1.5,5.8]).reshape(1,2),columns=[\"Interest_Rate\",\"Unemployment_Rate\"])\n",
        "test"
      ],
      "execution_count": null,
      "outputs": [
        {
          "output_type": "execute_result",
          "data": {
            "text/html": [
              "<div>\n",
              "<style scoped>\n",
              "    .dataframe tbody tr th:only-of-type {\n",
              "        vertical-align: middle;\n",
              "    }\n",
              "\n",
              "    .dataframe tbody tr th {\n",
              "        vertical-align: top;\n",
              "    }\n",
              "\n",
              "    .dataframe thead th {\n",
              "        text-align: right;\n",
              "    }\n",
              "</style>\n",
              "<table border=\"1\" class=\"dataframe\">\n",
              "  <thead>\n",
              "    <tr style=\"text-align: right;\">\n",
              "      <th></th>\n",
              "      <th>Interest_Rate</th>\n",
              "      <th>Unemployment_Rate</th>\n",
              "    </tr>\n",
              "  </thead>\n",
              "  <tbody>\n",
              "    <tr>\n",
              "      <th>0</th>\n",
              "      <td>1.5</td>\n",
              "      <td>5.8</td>\n",
              "    </tr>\n",
              "  </tbody>\n",
              "</table>\n",
              "</div>"
            ],
            "text/plain": [
              "   Interest_Rate  Unemployment_Rate\n",
              "0            1.5                5.8"
            ]
          },
          "metadata": {},
          "execution_count": 38
        }
      ]
    },
    {
      "cell_type": "code",
      "metadata": {
        "colab": {
          "base_uri": "https://localhost:8080/",
          "height": 79
        },
        "id": "kS8CPCcYCdHh",
        "outputId": "28c9068b-cc5f-416b-9e85-b0bb41a80c47"
      },
      "source": [
        "result = pd.DataFrame(multi.predict(test),columns=['Stock_Index_Price'])\n",
        "result\n"
      ],
      "execution_count": null,
      "outputs": [
        {
          "output_type": "execute_result",
          "data": {
            "text/html": [
              "<div>\n",
              "<style scoped>\n",
              "    .dataframe tbody tr th:only-of-type {\n",
              "        vertical-align: middle;\n",
              "    }\n",
              "\n",
              "    .dataframe tbody tr th {\n",
              "        vertical-align: top;\n",
              "    }\n",
              "\n",
              "    .dataframe thead th {\n",
              "        text-align: right;\n",
              "    }\n",
              "</style>\n",
              "<table border=\"1\" class=\"dataframe\">\n",
              "  <thead>\n",
              "    <tr style=\"text-align: right;\">\n",
              "      <th></th>\n",
              "      <th>Stock_Index_Price</th>\n",
              "    </tr>\n",
              "  </thead>\n",
              "  <tbody>\n",
              "    <tr>\n",
              "      <th>0</th>\n",
              "      <td>865.863994</td>\n",
              "    </tr>\n",
              "  </tbody>\n",
              "</table>\n",
              "</div>"
            ],
            "text/plain": [
              "   Stock_Index_Price\n",
              "0         865.863994"
            ]
          },
          "metadata": {},
          "execution_count": 39
        }
      ]
    },
    {
      "cell_type": "code",
      "metadata": {
        "colab": {
          "base_uri": "https://localhost:8080/",
          "height": 79
        },
        "id": "Ul5WiHSwCxZY",
        "outputId": "e242c439-d379-4dbe-9cb1-bf362e36a72f"
      },
      "source": [
        "pd.concat([test,result],axis=\"columns\")"
      ],
      "execution_count": null,
      "outputs": [
        {
          "output_type": "execute_result",
          "data": {
            "text/html": [
              "<div>\n",
              "<style scoped>\n",
              "    .dataframe tbody tr th:only-of-type {\n",
              "        vertical-align: middle;\n",
              "    }\n",
              "\n",
              "    .dataframe tbody tr th {\n",
              "        vertical-align: top;\n",
              "    }\n",
              "\n",
              "    .dataframe thead th {\n",
              "        text-align: right;\n",
              "    }\n",
              "</style>\n",
              "<table border=\"1\" class=\"dataframe\">\n",
              "  <thead>\n",
              "    <tr style=\"text-align: right;\">\n",
              "      <th></th>\n",
              "      <th>Interest_Rate</th>\n",
              "      <th>Unemployment_Rate</th>\n",
              "      <th>Stock_Index_Price</th>\n",
              "    </tr>\n",
              "  </thead>\n",
              "  <tbody>\n",
              "    <tr>\n",
              "      <th>0</th>\n",
              "      <td>1.5</td>\n",
              "      <td>5.8</td>\n",
              "      <td>865.863994</td>\n",
              "    </tr>\n",
              "  </tbody>\n",
              "</table>\n",
              "</div>"
            ],
            "text/plain": [
              "   Interest_Rate  Unemployment_Rate  Stock_Index_Price\n",
              "0            1.5                5.8         865.863994"
            ]
          },
          "metadata": {},
          "execution_count": 40
        }
      ]
    },
    {
      "cell_type": "markdown",
      "metadata": {
        "id": "FKoNWqBWIwJj"
      },
      "source": [
        "# Assignment 6 - Logistic Regression"
      ]
    },
    {
      "cell_type": "markdown",
      "metadata": {
        "id": "UHhTn0d2I5mh"
      },
      "source": [
        "Q1: Implement Multiclass Logistic Regression (step-by-step) on Iris dataset using one vs. rest strategy?"
      ]
    },
    {
      "cell_type": "code",
      "metadata": {
        "id": "dxCD0dDvI44k"
      },
      "source": [
        "from sklearn.datasets import load_iris\n",
        "from sklearn.multiclass import OneVsRestClassifier\n",
        "from sklearn.svm import SVC\n",
        "from sklearn.metrics import accuracy_score,classification_report\n",
        "from sklearn.model_selection import train_test_split\n"
      ],
      "execution_count": null,
      "outputs": []
    },
    {
      "cell_type": "code",
      "metadata": {
        "id": "dvS9VglBBJJJ"
      },
      "source": [
        "# Loading the dataset\n",
        "dataset = load_iris()\n",
        "X = dataset.data\n",
        "Y = dataset.target\n",
        "\n"
      ],
      "execution_count": null,
      "outputs": []
    },
    {
      "cell_type": "code",
      "metadata": {
        "id": "smPEk6B99keV"
      },
      "source": [
        "\n",
        "\n",
        "# Splitting the dataset into training and testing sets\n",
        "x_train,x_test,y_train,y_test = train_test_split(X,Y,test_size = 0.20,random_state = 2)\n",
        "\n",
        "# Creating the SVM model and fitting the model with training data\n",
        "model = OneVsRestClassifier(SVC()).fit(x_train,y_train)"
      ],
      "execution_count": null,
      "outputs": []
    },
    {
      "cell_type": "code",
      "metadata": {
        "colab": {
          "base_uri": "https://localhost:8080/"
        },
        "id": "Qul_llT7-zSR",
        "outputId": "44d02e34-6862-46fc-9802-6779ab1ebd3e"
      },
      "source": [
        "y_pred = model.predict(x_test)\n",
        "\n",
        "#Evaluating the model\n",
        "print(f\"Test Set Accuracy\\t: {accuracy_score(y_test, y_pred) * 100} %\\n\")\n",
        "print(f\"Classification Report\\t:\\n\\n{classification_report(y_test,y_pred)}\")"
      ],
      "execution_count": null,
      "outputs": [
        {
          "output_type": "stream",
          "name": "stdout",
          "text": [
            "Test Set Accuracy\t: 96.66666666666667 %\n",
            "\n",
            "Classification Report\t:\n",
            "\n",
            "              precision    recall  f1-score   support\n",
            "\n",
            "           0       1.00      1.00      1.00        14\n",
            "           1       1.00      0.88      0.93         8\n",
            "           2       0.89      1.00      0.94         8\n",
            "\n",
            "    accuracy                           0.97        30\n",
            "   macro avg       0.96      0.96      0.96        30\n",
            "weighted avg       0.97      0.97      0.97        30\n",
            "\n"
          ]
        }
      ]
    },
    {
      "cell_type": "markdown",
      "metadata": {
        "id": "drKv6cslI_tY"
      },
      "source": [
        "# Assignment 7 - Naive Bayes\n"
      ]
    },
    {
      "cell_type": "markdown",
      "metadata": {
        "id": "J6KGfXZtJEnp"
      },
      "source": [
        "Q1: Gaussian Naïve Bayes Classifier\n",
        "\n",
        "    Implement Gaussian Naïve Bayes Classifier on the Iris dataset or any other relevant dataset from sklearn.datasets using in-built function.\n"
      ]
    },
    {
      "cell_type": "code",
      "metadata": {
        "id": "h61SBxtRJDti"
      },
      "source": [
        "from sklearn.datasets import load_iris\n",
        "from sklearn.model_selection import train_test_split\n",
        "from sklearn.naive_bayes import GaussianNB"
      ],
      "execution_count": null,
      "outputs": []
    },
    {
      "cell_type": "code",
      "metadata": {
        "id": "uinwDNwyKRpF"
      },
      "source": [
        "dataset = load_iris()\n",
        "X = dataset.data\n",
        "Y = dataset.target\n",
        "\n",
        "x_train,x_test,y_train,y_test = train_test_split(X,Y,test_size = 0.25,random_state = 1)\n"
      ],
      "execution_count": null,
      "outputs": []
    },
    {
      "cell_type": "code",
      "metadata": {
        "colab": {
          "base_uri": "https://localhost:8080/"
        },
        "id": "Dmm5vx-yK25K",
        "outputId": "a57f864a-62a9-4101-f47c-4fdd8dd925df"
      },
      "source": [
        "gauss = GaussianNB().fit(x_train,y_train)\n",
        "\n",
        "y_pred = gauss.predict(x_test)\n",
        "print(y_pred)"
      ],
      "execution_count": null,
      "outputs": [
        {
          "output_type": "stream",
          "name": "stdout",
          "text": [
            "[0 1 1 0 2 1 2 0 0 2 1 0 2 1 1 0 1 1 0 0 1 1 2 0 2 1 0 0 1 2 1 2 1 2 2 0 1\n",
            " 0]\n"
          ]
        }
      ]
    },
    {
      "cell_type": "markdown",
      "metadata": {
        "id": "A2TumKamNXoe"
      },
      "source": [
        "Q2. Performance Evaluation of the Classifier:\n",
        "\n",
        "    Evaluate the performance of the classifier using metrics library based on the parameters like confusion matrix, accuracy, precision, recall, F-1 Score, TPR, TNR, FPR and FNR.  \n"
      ]
    },
    {
      "cell_type": "code",
      "metadata": {
        "id": "-3Ab4AyrNdYk"
      },
      "source": [
        "from sklearn.metrics import accuracy_score,confusion_matrix,classification_report"
      ],
      "execution_count": null,
      "outputs": []
    },
    {
      "cell_type": "code",
      "metadata": {
        "colab": {
          "base_uri": "https://localhost:8080/"
        },
        "id": "9YZJPqOOPKYI",
        "outputId": "550462ec-a9ae-49f7-df2e-fd22655bebc3"
      },
      "source": [
        "print(\"Gaussian Naive Bayes model accuracy : \",accuracy_score(y_test,y_pred))"
      ],
      "execution_count": null,
      "outputs": [
        {
          "output_type": "stream",
          "name": "stdout",
          "text": [
            "Gaussian Naive Bayes model accuracy :  0.9736842105263158\n"
          ]
        }
      ]
    },
    {
      "cell_type": "code",
      "metadata": {
        "colab": {
          "base_uri": "https://localhost:8080/"
        },
        "id": "DDoDHdfGPjBA",
        "outputId": "cc9a3a14-5eb8-401e-8700-222800dda01e"
      },
      "source": [
        "print(\"Confusion Matrix :\\n\",confusion_matrix(y_test,y_pred,labels=[1,0]))"
      ],
      "execution_count": null,
      "outputs": [
        {
          "output_type": "stream",
          "name": "stdout",
          "text": [
            "Confusion Matrix :\n",
            " [[15  0]\n",
            " [ 0 13]]\n"
          ]
        }
      ]
    },
    {
      "cell_type": "code",
      "metadata": {
        "colab": {
          "base_uri": "https://localhost:8080/"
        },
        "id": "gBuFh_XtQBdz",
        "outputId": "0d6f2ad6-1cfa-406b-dbd9-e29eadfdfefe"
      },
      "source": [
        "# outcome values order in sklearn\n",
        "tp, fn, fp, tn = confusion_matrix(y_test,y_pred,labels=[1,0]).reshape(-1)\n",
        "print('Outcome values : \\n', tp, fn, fp, tn)"
      ],
      "execution_count": null,
      "outputs": [
        {
          "output_type": "stream",
          "name": "stdout",
          "text": [
            "Outcome values : \n",
            " 15 0 0 13\n"
          ]
        }
      ]
    },
    {
      "cell_type": "code",
      "metadata": {
        "colab": {
          "base_uri": "https://localhost:8080/"
        },
        "id": "bYPnDo9pQyTY",
        "outputId": "c70607eb-1d77-460b-ca4f-e613b0793db9"
      },
      "source": [
        "# classification report for precision, recall, f1-score \n",
        "print('Classification report :\\n',classification_report(y_test,y_pred,labels=[1,0]))"
      ],
      "execution_count": null,
      "outputs": [
        {
          "output_type": "stream",
          "name": "stdout",
          "text": [
            "Classification report :\n",
            "               precision    recall  f1-score   support\n",
            "\n",
            "           1       1.00      0.94      0.97        16\n",
            "           0       1.00      1.00      1.00        13\n",
            "\n",
            "   micro avg       1.00      0.97      0.98        29\n",
            "   macro avg       1.00      0.97      0.98        29\n",
            "weighted avg       1.00      0.97      0.98        29\n",
            "\n"
          ]
        }
      ]
    },
    {
      "cell_type": "markdown",
      "metadata": {
        "id": "PwICvx2pRh7C"
      },
      "source": [
        "# Assignment 8 - KNN Classifier"
      ]
    },
    {
      "cell_type": "markdown",
      "metadata": {
        "id": "gGKDOiqohIle"
      },
      "source": [
        "Explore about GridSearchCV tool in scikit-learn. This is a tool that is often used for tuning hyperparameters of machine learning models.\n",
        "Use this tool to find the best value of K for K-NN Classifier using any dataset."
      ]
    },
    {
      "cell_type": "code",
      "metadata": {
        "colab": {
          "base_uri": "https://localhost:8080/"
        },
        "id": "DkS6wtT6Rnew",
        "outputId": "46132843-a176-4c9e-ff13-9f09cc2b378e"
      },
      "source": [
        "import pandas as pd\n",
        "from sklearn.linear_model import LogisticRegression\n",
        "from sklearn.svm import SVC\n",
        "from sklearn.model_selection import GridSearchCV\n",
        " \n",
        "# Loading the Dataset\n",
        "# A standard dataset here is taken for better understanding.\n",
        "iris = pd.read_csv('https://raw.githubusercontent.com/pranavkotak8/Datasets/master/Iris.csv')\n",
        "print(iris)\n",
        "target=iris['Species']\n",
        "print(iris.columns)\n",
        "iris.drop(columns={'Id','Species'},inplace=True)\n",
        " \n",
        "# Assigning the parameters and its values which need to be tuned.\n",
        "parameters = {'kernel': ['linear', 'rbf'], 'C':[1,3,5,51,71,101,140]}\n",
        " \n",
        "# Fitting the SVM model\n",
        "modelsvc = SVC()\n",
        " \n",
        "# Performing the GridSearchCV\n",
        "clf = GridSearchCV(modelsvc, parameters)\n",
        "clf.fit(iris, target)\n",
        "print(clf.best_params_)"
      ],
      "execution_count": null,
      "outputs": [
        {
          "output_type": "stream",
          "name": "stdout",
          "text": [
            "      Id  SepalLengthCm  ...  PetalWidthCm         Species\n",
            "0      1            5.1  ...           0.2     Iris-setosa\n",
            "1      2            4.9  ...           0.2     Iris-setosa\n",
            "2      3            4.7  ...           0.2     Iris-setosa\n",
            "3      4            4.6  ...           0.2     Iris-setosa\n",
            "4      5            5.0  ...           0.2     Iris-setosa\n",
            "..   ...            ...  ...           ...             ...\n",
            "145  146            6.7  ...           2.3  Iris-virginica\n",
            "146  147            6.3  ...           1.9  Iris-virginica\n",
            "147  148            6.5  ...           2.0  Iris-virginica\n",
            "148  149            6.2  ...           2.3  Iris-virginica\n",
            "149  150            5.9  ...           1.8  Iris-virginica\n",
            "\n",
            "[150 rows x 6 columns]\n",
            "Index(['Id', 'SepalLengthCm', 'SepalWidthCm', 'PetalLengthCm', 'PetalWidthCm',\n",
            "       'Species'],\n",
            "      dtype='object')\n",
            "{'C': 5, 'kernel': 'rbf'}\n"
          ]
        }
      ]
    },
    {
      "cell_type": "markdown",
      "source": [
        "# Assignment 9 - SVM Classifier"
      ],
      "metadata": {
        "id": "seUnGnxJnP-G"
      }
    },
    {
      "cell_type": "markdown",
      "source": [
        "**Q1 : SVM Classifier - \n",
        "Implement SVM Classifier on the given dataset using in-built \n",
        "function.**"
      ],
      "metadata": {
        "id": "xhPI3g-yn1fS"
      }
    },
    {
      "cell_type": "code",
      "source": [
        "import numpy as np\n",
        "import pandas as pd\n",
        "from sklearn import svm, datasets\n",
        "from sklearn.model_selection import train_test_split\n",
        "from sklearn.metrics import confusion_matrix,accuracy_score,f1_score,recall_score,precision_score,r2_score\n",
        "import seaborn as sns\n",
        "import csv"
      ],
      "metadata": {
        "id": "JIbP7FMNn-he"
      },
      "execution_count": null,
      "outputs": []
    },
    {
      "cell_type": "code",
      "source": [
        "#Create a csv file\n",
        "fields = [\"Index\",\"Weight\",\"Size\",\"Class\"]\n",
        "rows = [[0,69,4.39,\"orange\"],\n",
        "        [1,69,4.21,\"orange\"],\n",
        "        [2,65,4.09,\"orange\"],\n",
        "        [3,72,5.85,\"apple\"],\n",
        "        [4,67,4.7,\"orange\"],\n",
        "        [5,73,5.68,\"apple\"],\n",
        "        [6,70,5.56,\"apple\"],\n",
        "        [7,75,5.11,\"apple\"],\n",
        "        [8,74,5.36,\"apple\"],\n",
        "        [9,65,4.27,\"orange\"],\n",
        "        [10,73,5.79,\"apple\"],\n",
        "        [11,70,5.47,\"apple\"],\n",
        "        [12,74,5.53,\"apple\"],\n",
        "        [13,68,4.47,\"orange\"],\n",
        "        [14,74,5.22,\"apple\"]]\n",
        "\n",
        "with open(\"data.csv\",'w') as csvfile:\n",
        "  csvwriter = csv.writer(csvfile)\n",
        "  csvwriter.writerow(fields)\n",
        "  csvwriter.writerows(rows)\n",
        "\n"
      ],
      "metadata": {
        "id": "zqvzvuJ7uf3l"
      },
      "execution_count": null,
      "outputs": []
    },
    {
      "cell_type": "code",
      "source": [
        "df = pd.read_csv(\"/content/data.csv\")\n",
        "df"
      ],
      "metadata": {
        "colab": {
          "base_uri": "https://localhost:8080/",
          "height": 520
        },
        "id": "hXJK1xGqushs",
        "outputId": "6a7f821d-f8c7-453e-e5c2-8856ca9253a8"
      },
      "execution_count": null,
      "outputs": [
        {
          "output_type": "execute_result",
          "data": {
            "text/html": [
              "<div>\n",
              "<style scoped>\n",
              "    .dataframe tbody tr th:only-of-type {\n",
              "        vertical-align: middle;\n",
              "    }\n",
              "\n",
              "    .dataframe tbody tr th {\n",
              "        vertical-align: top;\n",
              "    }\n",
              "\n",
              "    .dataframe thead th {\n",
              "        text-align: right;\n",
              "    }\n",
              "</style>\n",
              "<table border=\"1\" class=\"dataframe\">\n",
              "  <thead>\n",
              "    <tr style=\"text-align: right;\">\n",
              "      <th></th>\n",
              "      <th>Index</th>\n",
              "      <th>Weight</th>\n",
              "      <th>Size</th>\n",
              "      <th>Class</th>\n",
              "    </tr>\n",
              "  </thead>\n",
              "  <tbody>\n",
              "    <tr>\n",
              "      <th>0</th>\n",
              "      <td>0</td>\n",
              "      <td>69</td>\n",
              "      <td>4.39</td>\n",
              "      <td>orange</td>\n",
              "    </tr>\n",
              "    <tr>\n",
              "      <th>1</th>\n",
              "      <td>1</td>\n",
              "      <td>69</td>\n",
              "      <td>4.21</td>\n",
              "      <td>orange</td>\n",
              "    </tr>\n",
              "    <tr>\n",
              "      <th>2</th>\n",
              "      <td>2</td>\n",
              "      <td>65</td>\n",
              "      <td>4.09</td>\n",
              "      <td>orange</td>\n",
              "    </tr>\n",
              "    <tr>\n",
              "      <th>3</th>\n",
              "      <td>3</td>\n",
              "      <td>72</td>\n",
              "      <td>5.85</td>\n",
              "      <td>apple</td>\n",
              "    </tr>\n",
              "    <tr>\n",
              "      <th>4</th>\n",
              "      <td>4</td>\n",
              "      <td>67</td>\n",
              "      <td>4.70</td>\n",
              "      <td>orange</td>\n",
              "    </tr>\n",
              "    <tr>\n",
              "      <th>5</th>\n",
              "      <td>5</td>\n",
              "      <td>73</td>\n",
              "      <td>5.68</td>\n",
              "      <td>apple</td>\n",
              "    </tr>\n",
              "    <tr>\n",
              "      <th>6</th>\n",
              "      <td>6</td>\n",
              "      <td>70</td>\n",
              "      <td>5.56</td>\n",
              "      <td>apple</td>\n",
              "    </tr>\n",
              "    <tr>\n",
              "      <th>7</th>\n",
              "      <td>7</td>\n",
              "      <td>75</td>\n",
              "      <td>5.11</td>\n",
              "      <td>apple</td>\n",
              "    </tr>\n",
              "    <tr>\n",
              "      <th>8</th>\n",
              "      <td>8</td>\n",
              "      <td>74</td>\n",
              "      <td>5.36</td>\n",
              "      <td>apple</td>\n",
              "    </tr>\n",
              "    <tr>\n",
              "      <th>9</th>\n",
              "      <td>9</td>\n",
              "      <td>65</td>\n",
              "      <td>4.27</td>\n",
              "      <td>orange</td>\n",
              "    </tr>\n",
              "    <tr>\n",
              "      <th>10</th>\n",
              "      <td>10</td>\n",
              "      <td>73</td>\n",
              "      <td>5.79</td>\n",
              "      <td>apple</td>\n",
              "    </tr>\n",
              "    <tr>\n",
              "      <th>11</th>\n",
              "      <td>11</td>\n",
              "      <td>70</td>\n",
              "      <td>5.47</td>\n",
              "      <td>apple</td>\n",
              "    </tr>\n",
              "    <tr>\n",
              "      <th>12</th>\n",
              "      <td>12</td>\n",
              "      <td>74</td>\n",
              "      <td>5.53</td>\n",
              "      <td>apple</td>\n",
              "    </tr>\n",
              "    <tr>\n",
              "      <th>13</th>\n",
              "      <td>13</td>\n",
              "      <td>68</td>\n",
              "      <td>4.47</td>\n",
              "      <td>orange</td>\n",
              "    </tr>\n",
              "    <tr>\n",
              "      <th>14</th>\n",
              "      <td>14</td>\n",
              "      <td>74</td>\n",
              "      <td>5.22</td>\n",
              "      <td>apple</td>\n",
              "    </tr>\n",
              "  </tbody>\n",
              "</table>\n",
              "</div>"
            ],
            "text/plain": [
              "    Index  Weight  Size   Class\n",
              "0       0      69  4.39  orange\n",
              "1       1      69  4.21  orange\n",
              "2       2      65  4.09  orange\n",
              "3       3      72  5.85   apple\n",
              "4       4      67  4.70  orange\n",
              "5       5      73  5.68   apple\n",
              "6       6      70  5.56   apple\n",
              "7       7      75  5.11   apple\n",
              "8       8      74  5.36   apple\n",
              "9       9      65  4.27  orange\n",
              "10     10      73  5.79   apple\n",
              "11     11      70  5.47   apple\n",
              "12     12      74  5.53   apple\n",
              "13     13      68  4.47  orange\n",
              "14     14      74  5.22   apple"
            ]
          },
          "metadata": {},
          "execution_count": 24
        }
      ]
    },
    {
      "cell_type": "code",
      "source": [
        "X = df.iloc[:,0:2]\n",
        "Y = df.iloc[:,-1]\n",
        "x_train,x_test,y_train,y_test = train_test_split(X,Y,test_size=0.3,random_state = 2)\n",
        "y_test"
      ],
      "metadata": {
        "colab": {
          "base_uri": "https://localhost:8080/"
        },
        "id": "fLnvf-KbvQZc",
        "outputId": "be4d212a-8caf-4e5b-f05f-b8758ff81dc0"
      },
      "execution_count": null,
      "outputs": [
        {
          "output_type": "execute_result",
          "data": {
            "text/plain": [
              "11     apple\n",
              "4     orange\n",
              "5      apple\n",
              "0     orange\n",
              "9     orange\n",
              "Name: Class, dtype: object"
            ]
          },
          "metadata": {},
          "execution_count": 25
        }
      ]
    },
    {
      "cell_type": "code",
      "source": [
        "from sklearn.svm import SVC\n",
        "svc_classifier = SVC(kernel='linear')\n",
        "svc_classifier.fit(x_train,y_train)"
      ],
      "metadata": {
        "id": "Vt1-JYQ1xP7L",
        "colab": {
          "base_uri": "https://localhost:8080/"
        },
        "outputId": "c72efc11-2396-43f3-bbba-025607a82bc7"
      },
      "execution_count": null,
      "outputs": [
        {
          "output_type": "execute_result",
          "data": {
            "text/plain": [
              "SVC(kernel='linear')"
            ]
          },
          "metadata": {},
          "execution_count": 26
        }
      ]
    },
    {
      "cell_type": "code",
      "source": [
        "y_pred = svc_classifier.predict(x_test)\n",
        "y_pred"
      ],
      "metadata": {
        "colab": {
          "base_uri": "https://localhost:8080/"
        },
        "id": "ghF8UrHmWJh8",
        "outputId": "6a5db5cb-2ed3-48c2-beb5-1201edce3f37"
      },
      "execution_count": null,
      "outputs": [
        {
          "output_type": "execute_result",
          "data": {
            "text/plain": [
              "array(['apple', 'orange', 'apple', 'orange', 'orange'], dtype=object)"
            ]
          },
          "metadata": {},
          "execution_count": 27
        }
      ]
    },
    {
      "cell_type": "markdown",
      "source": [
        "**Q2 : Performance Evaluation of the Classifier :\n",
        "Evaluate the performance of the classifier using metrics library based on the parameters like confusion matrix, accuracy, precision, recall, F-1 Score, TPR, TNR, FPR and FNR.**"
      ],
      "metadata": {
        "id": "lS1wUVVUZoJr"
      }
    },
    {
      "cell_type": "code",
      "source": [
        "print(confusion_matrix(y_test,y_pred))"
      ],
      "metadata": {
        "colab": {
          "base_uri": "https://localhost:8080/"
        },
        "id": "5wW8KYUfWmAz",
        "outputId": "e9521065-bb55-4bae-ab5c-76655d2a7616"
      },
      "execution_count": null,
      "outputs": [
        {
          "output_type": "stream",
          "name": "stdout",
          "text": [
            "[[2 0]\n",
            " [0 3]]\n"
          ]
        }
      ]
    },
    {
      "cell_type": "code",
      "source": [
        "TP = 0\n",
        "TN = 0\n",
        "FP = 0\n",
        "FN = 0\n",
        "y_test=np.array(y_test).reshape(-1,1)\n",
        "for i in range(len(y_pred)):\n",
        "    if(y_test[i]==1 and y_pred[i]==1):\n",
        "        TP=TP+1\n",
        "    if(y_test[i]==1 and y_pred[i]==0):\n",
        "        FN=FN+1\n",
        "    if(y_test[i]==0 and y_pred[i]==1):\n",
        "        FP=FP+1\n",
        "    if(y_test[i]==0 and y_pred[i]==0):\n",
        "        TN=TN+1\n",
        "print(TP,TN,FP,FN)"
      ],
      "metadata": {
        "colab": {
          "base_uri": "https://localhost:8080/"
        },
        "id": "bctCOlm8XI1e",
        "outputId": "dd2e9232-ba85-4739-c92e-4c37162eb933"
      },
      "execution_count": null,
      "outputs": [
        {
          "output_type": "stream",
          "name": "stdout",
          "text": [
            "0 0 0 0\n"
          ]
        }
      ]
    },
    {
      "cell_type": "code",
      "source": [
        "#accuracy of testing sample\n",
        "accuracy_score(y_test,y_pred)"
      ],
      "metadata": {
        "colab": {
          "base_uri": "https://localhost:8080/"
        },
        "id": "IkncIkOLZ_zr",
        "outputId": "cebdbd41-6a9f-461d-c8c7-67ec632e6a5c"
      },
      "execution_count": null,
      "outputs": [
        {
          "output_type": "execute_result",
          "data": {
            "text/plain": [
              "1.0"
            ]
          },
          "metadata": {},
          "execution_count": 30
        }
      ]
    },
    {
      "cell_type": "code",
      "source": [
        "#recall of testing sample\n",
        "recall_score(y_test,y_pred,average='macro')"
      ],
      "metadata": {
        "colab": {
          "base_uri": "https://localhost:8080/"
        },
        "id": "2p5eGF8VaPkO",
        "outputId": "f8bdff52-d998-42c8-d5c1-e811e84d9541"
      },
      "execution_count": null,
      "outputs": [
        {
          "output_type": "execute_result",
          "data": {
            "text/plain": [
              "1.0"
            ]
          },
          "metadata": {},
          "execution_count": 31
        }
      ]
    },
    {
      "cell_type": "code",
      "source": [
        "#f1_score of testing sample\n",
        "f1_score(y_test,y_pred,average='macro')"
      ],
      "metadata": {
        "colab": {
          "base_uri": "https://localhost:8080/"
        },
        "id": "HhobXkgoaTCH",
        "outputId": "8be8ab3c-eae8-4c61-a85c-6d7ec99090bf"
      },
      "execution_count": null,
      "outputs": [
        {
          "output_type": "execute_result",
          "data": {
            "text/plain": [
              "1.0"
            ]
          },
          "metadata": {},
          "execution_count": 32
        }
      ]
    },
    {
      "cell_type": "code",
      "source": [
        "#precision of testing sample\n",
        "precision_score(y_test,y_pred,average='macro')"
      ],
      "metadata": {
        "colab": {
          "base_uri": "https://localhost:8080/"
        },
        "id": "V0WGyoWYaYOi",
        "outputId": "f2d291df-0d91-44ff-d122-fb330dc4649d"
      },
      "execution_count": null,
      "outputs": [
        {
          "output_type": "execute_result",
          "data": {
            "text/plain": [
              "1.0"
            ]
          },
          "metadata": {},
          "execution_count": 33
        }
      ]
    },
    {
      "cell_type": "code",
      "source": [
        "sns.heatmap(confusion_matrix(y_test,y_pred),annot=True)"
      ],
      "metadata": {
        "colab": {
          "base_uri": "https://localhost:8080/",
          "height": 286
        },
        "id": "60NKoY4ybWYJ",
        "outputId": "7c93f6dc-1733-4514-bac7-ac3a82fcece0"
      },
      "execution_count": null,
      "outputs": [
        {
          "output_type": "execute_result",
          "data": {
            "text/plain": [
              "<matplotlib.axes._subplots.AxesSubplot at 0x7f5abb1a6150>"
            ]
          },
          "metadata": {},
          "execution_count": 34
        },
        {
          "output_type": "display_data",
          "data": {
            "image/png": "[encoded data removed]",
            "text/plain": [
              "<Figure size 432x288 with 2 Axes>"
            ]
          },
          "metadata": {
            "needs_background": "light"
          }
        }
      ]
    },
    {
      "cell_type": "markdown",
      "source": [
        "# Assignment 10 - ID3"
      ],
      "metadata": {
        "id": "CqTZa7jndafe"
      }
    },
    {
      "cell_type": "code",
      "source": [
        "import numpy as np\n",
        "import pandas as pd\n",
        "from sklearn.metrics import confusion_matrix,accuracy_score,f1_score,recall_score,precision_score,r2_score\n",
        "df = pd.read_csv(\"https://www.cs.carleton.edu/faculty/dmusican/cs321s12/titanic2.txt\",skiprows=[0,1],sep = \"\\t\",  names = ['pclass','age', 'sex','survived'])\n",
        "df"
      ],
      "metadata": {
        "colab": {
          "base_uri": "https://localhost:8080/",
          "height": 423
        },
        "id": "Bq3tqRNfj5U6",
        "outputId": "7e164aa4-c3f3-4e3d-dd88-2f38cb68f808"
      },
      "execution_count": null,
      "outputs": [
        {
          "output_type": "execute_result",
          "data": {
            "text/html": [
              "<div>\n",
              "<style scoped>\n",
              "    .dataframe tbody tr th:only-of-type {\n",
              "        vertical-align: middle;\n",
              "    }\n",
              "\n",
              "    .dataframe tbody tr th {\n",
              "        vertical-align: top;\n",
              "    }\n",
              "\n",
              "    .dataframe thead th {\n",
              "        text-align: right;\n",
              "    }\n",
              "</style>\n",
              "<table border=\"1\" class=\"dataframe\">\n",
              "  <thead>\n",
              "    <tr style=\"text-align: right;\">\n",
              "      <th></th>\n",
              "      <th>pclass</th>\n",
              "      <th>age</th>\n",
              "      <th>sex</th>\n",
              "      <th>survived</th>\n",
              "    </tr>\n",
              "  </thead>\n",
              "  <tbody>\n",
              "    <tr>\n",
              "      <th>0</th>\n",
              "      <td>1st</td>\n",
              "      <td>adult</td>\n",
              "      <td>male</td>\n",
              "      <td>yes</td>\n",
              "    </tr>\n",
              "    <tr>\n",
              "      <th>1</th>\n",
              "      <td>1st</td>\n",
              "      <td>adult</td>\n",
              "      <td>male</td>\n",
              "      <td>yes</td>\n",
              "    </tr>\n",
              "    <tr>\n",
              "      <th>2</th>\n",
              "      <td>1st</td>\n",
              "      <td>adult</td>\n",
              "      <td>male</td>\n",
              "      <td>yes</td>\n",
              "    </tr>\n",
              "    <tr>\n",
              "      <th>3</th>\n",
              "      <td>1st</td>\n",
              "      <td>adult</td>\n",
              "      <td>male</td>\n",
              "      <td>yes</td>\n",
              "    </tr>\n",
              "    <tr>\n",
              "      <th>4</th>\n",
              "      <td>1st</td>\n",
              "      <td>adult</td>\n",
              "      <td>male</td>\n",
              "      <td>yes</td>\n",
              "    </tr>\n",
              "    <tr>\n",
              "      <th>...</th>\n",
              "      <td>...</td>\n",
              "      <td>...</td>\n",
              "      <td>...</td>\n",
              "      <td>...</td>\n",
              "    </tr>\n",
              "    <tr>\n",
              "      <th>2195</th>\n",
              "      <td>crew</td>\n",
              "      <td>adult</td>\n",
              "      <td>female</td>\n",
              "      <td>yes</td>\n",
              "    </tr>\n",
              "    <tr>\n",
              "      <th>2196</th>\n",
              "      <td>crew</td>\n",
              "      <td>adult</td>\n",
              "      <td>female</td>\n",
              "      <td>yes</td>\n",
              "    </tr>\n",
              "    <tr>\n",
              "      <th>2197</th>\n",
              "      <td>crew</td>\n",
              "      <td>adult</td>\n",
              "      <td>female</td>\n",
              "      <td>no</td>\n",
              "    </tr>\n",
              "    <tr>\n",
              "      <th>2198</th>\n",
              "      <td>crew</td>\n",
              "      <td>adult</td>\n",
              "      <td>female</td>\n",
              "      <td>no</td>\n",
              "    </tr>\n",
              "    <tr>\n",
              "      <th>2199</th>\n",
              "      <td>crew</td>\n",
              "      <td>adult</td>\n",
              "      <td>female</td>\n",
              "      <td>no</td>\n",
              "    </tr>\n",
              "  </tbody>\n",
              "</table>\n",
              "<p>2200 rows × 4 columns</p>\n",
              "</div>"
            ],
            "text/plain": [
              "     pclass    age     sex survived\n",
              "0       1st  adult    male      yes\n",
              "1       1st  adult    male      yes\n",
              "2       1st  adult    male      yes\n",
              "3       1st  adult    male      yes\n",
              "4       1st  adult    male      yes\n",
              "...     ...    ...     ...      ...\n",
              "2195   crew  adult  female      yes\n",
              "2196   crew  adult  female      yes\n",
              "2197   crew  adult  female       no\n",
              "2198   crew  adult  female       no\n",
              "2199   crew  adult  female       no\n",
              "\n",
              "[2200 rows x 4 columns]"
            ]
          },
          "metadata": {},
          "execution_count": 14
        }
      ]
    },
    {
      "cell_type": "code",
      "source": [
        "df = df.replace({'survived': {'yes': 1, 'no': 0}})\n",
        "df"
      ],
      "metadata": {
        "colab": {
          "base_uri": "https://localhost:8080/",
          "height": 423
        },
        "id": "blFjaJFupBcS",
        "outputId": "7620cb83-8979-4a01-e385-f586bbe9aee3"
      },
      "execution_count": null,
      "outputs": [
        {
          "output_type": "execute_result",
          "data": {
            "text/html": [
              "<div>\n",
              "<style scoped>\n",
              "    .dataframe tbody tr th:only-of-type {\n",
              "        vertical-align: middle;\n",
              "    }\n",
              "\n",
              "    .dataframe tbody tr th {\n",
              "        vertical-align: top;\n",
              "    }\n",
              "\n",
              "    .dataframe thead th {\n",
              "        text-align: right;\n",
              "    }\n",
              "</style>\n",
              "<table border=\"1\" class=\"dataframe\">\n",
              "  <thead>\n",
              "    <tr style=\"text-align: right;\">\n",
              "      <th></th>\n",
              "      <th>pclass</th>\n",
              "      <th>age</th>\n",
              "      <th>sex</th>\n",
              "      <th>survived</th>\n",
              "    </tr>\n",
              "  </thead>\n",
              "  <tbody>\n",
              "    <tr>\n",
              "      <th>0</th>\n",
              "      <td>1st</td>\n",
              "      <td>adult</td>\n",
              "      <td>male</td>\n",
              "      <td>1</td>\n",
              "    </tr>\n",
              "    <tr>\n",
              "      <th>1</th>\n",
              "      <td>1st</td>\n",
              "      <td>adult</td>\n",
              "      <td>male</td>\n",
              "      <td>1</td>\n",
              "    </tr>\n",
              "    <tr>\n",
              "      <th>2</th>\n",
              "      <td>1st</td>\n",
              "      <td>adult</td>\n",
              "      <td>male</td>\n",
              "      <td>1</td>\n",
              "    </tr>\n",
              "    <tr>\n",
              "      <th>3</th>\n",
              "      <td>1st</td>\n",
              "      <td>adult</td>\n",
              "      <td>male</td>\n",
              "      <td>1</td>\n",
              "    </tr>\n",
              "    <tr>\n",
              "      <th>4</th>\n",
              "      <td>1st</td>\n",
              "      <td>adult</td>\n",
              "      <td>male</td>\n",
              "      <td>1</td>\n",
              "    </tr>\n",
              "    <tr>\n",
              "      <th>...</th>\n",
              "      <td>...</td>\n",
              "      <td>...</td>\n",
              "      <td>...</td>\n",
              "      <td>...</td>\n",
              "    </tr>\n",
              "    <tr>\n",
              "      <th>2195</th>\n",
              "      <td>crew</td>\n",
              "      <td>adult</td>\n",
              "      <td>female</td>\n",
              "      <td>1</td>\n",
              "    </tr>\n",
              "    <tr>\n",
              "      <th>2196</th>\n",
              "      <td>crew</td>\n",
              "      <td>adult</td>\n",
              "      <td>female</td>\n",
              "      <td>1</td>\n",
              "    </tr>\n",
              "    <tr>\n",
              "      <th>2197</th>\n",
              "      <td>crew</td>\n",
              "      <td>adult</td>\n",
              "      <td>female</td>\n",
              "      <td>0</td>\n",
              "    </tr>\n",
              "    <tr>\n",
              "      <th>2198</th>\n",
              "      <td>crew</td>\n",
              "      <td>adult</td>\n",
              "      <td>female</td>\n",
              "      <td>0</td>\n",
              "    </tr>\n",
              "    <tr>\n",
              "      <th>2199</th>\n",
              "      <td>crew</td>\n",
              "      <td>adult</td>\n",
              "      <td>female</td>\n",
              "      <td>0</td>\n",
              "    </tr>\n",
              "  </tbody>\n",
              "</table>\n",
              "<p>2200 rows × 4 columns</p>\n",
              "</div>"
            ],
            "text/plain": [
              "     pclass    age     sex  survived\n",
              "0       1st  adult    male         1\n",
              "1       1st  adult    male         1\n",
              "2       1st  adult    male         1\n",
              "3       1st  adult    male         1\n",
              "4       1st  adult    male         1\n",
              "...     ...    ...     ...       ...\n",
              "2195   crew  adult  female         1\n",
              "2196   crew  adult  female         1\n",
              "2197   crew  adult  female         0\n",
              "2198   crew  adult  female         0\n",
              "2199   crew  adult  female         0\n",
              "\n",
              "[2200 rows x 4 columns]"
            ]
          },
          "metadata": {},
          "execution_count": 15
        }
      ]
    },
    {
      "cell_type": "code",
      "source": [
        "print(df['pclass'].unique())\n",
        "print(df['sex'].unique())"
      ],
      "metadata": {
        "colab": {
          "base_uri": "https://localhost:8080/"
        },
        "id": "bFEkBadYpMtQ",
        "outputId": "1d5d8bd6-5cfc-4a3b-bc58-e3776584bc51"
      },
      "execution_count": null,
      "outputs": [
        {
          "output_type": "stream",
          "name": "stdout",
          "text": [
            "['1st' '2nd' '3rd' 'crew']\n",
            "['male' 'female']\n"
          ]
        }
      ]
    },
    {
      "cell_type": "code",
      "source": [
        "# Import label encoder\n",
        "from sklearn import preprocessing\n",
        "label_encoder = preprocessing.LabelEncoder()\n",
        "df['pclass'] = label_encoder.fit_transform(df['pclass'])\n",
        "df['age'] = label_encoder.fit_transform(df['age'])\n",
        "df['sex'] = label_encoder.fit_transform(df['sex'])"
      ],
      "metadata": {
        "id": "6NqYkZx9p5oI"
      },
      "execution_count": null,
      "outputs": []
    },
    {
      "cell_type": "code",
      "source": [
        "df"
      ],
      "metadata": {
        "colab": {
          "base_uri": "https://localhost:8080/",
          "height": 423
        },
        "id": "YlqGocFdsf1L",
        "outputId": "bb969094-5033-4f7f-e0a4-284db3ce2713"
      },
      "execution_count": null,
      "outputs": [
        {
          "output_type": "execute_result",
          "data": {
            "text/html": [
              "<div>\n",
              "<style scoped>\n",
              "    .dataframe tbody tr th:only-of-type {\n",
              "        vertical-align: middle;\n",
              "    }\n",
              "\n",
              "    .dataframe tbody tr th {\n",
              "        vertical-align: top;\n",
              "    }\n",
              "\n",
              "    .dataframe thead th {\n",
              "        text-align: right;\n",
              "    }\n",
              "</style>\n",
              "<table border=\"1\" class=\"dataframe\">\n",
              "  <thead>\n",
              "    <tr style=\"text-align: right;\">\n",
              "      <th></th>\n",
              "      <th>pclass</th>\n",
              "      <th>age</th>\n",
              "      <th>sex</th>\n",
              "      <th>survived</th>\n",
              "    </tr>\n",
              "  </thead>\n",
              "  <tbody>\n",
              "    <tr>\n",
              "      <th>0</th>\n",
              "      <td>0</td>\n",
              "      <td>0</td>\n",
              "      <td>1</td>\n",
              "      <td>1</td>\n",
              "    </tr>\n",
              "    <tr>\n",
              "      <th>1</th>\n",
              "      <td>0</td>\n",
              "      <td>0</td>\n",
              "      <td>1</td>\n",
              "      <td>1</td>\n",
              "    </tr>\n",
              "    <tr>\n",
              "      <th>2</th>\n",
              "      <td>0</td>\n",
              "      <td>0</td>\n",
              "      <td>1</td>\n",
              "      <td>1</td>\n",
              "    </tr>\n",
              "    <tr>\n",
              "      <th>3</th>\n",
              "      <td>0</td>\n",
              "      <td>0</td>\n",
              "      <td>1</td>\n",
              "      <td>1</td>\n",
              "    </tr>\n",
              "    <tr>\n",
              "      <th>4</th>\n",
              "      <td>0</td>\n",
              "      <td>0</td>\n",
              "      <td>1</td>\n",
              "      <td>1</td>\n",
              "    </tr>\n",
              "    <tr>\n",
              "      <th>...</th>\n",
              "      <td>...</td>\n",
              "      <td>...</td>\n",
              "      <td>...</td>\n",
              "      <td>...</td>\n",
              "    </tr>\n",
              "    <tr>\n",
              "      <th>2195</th>\n",
              "      <td>3</td>\n",
              "      <td>0</td>\n",
              "      <td>0</td>\n",
              "      <td>1</td>\n",
              "    </tr>\n",
              "    <tr>\n",
              "      <th>2196</th>\n",
              "      <td>3</td>\n",
              "      <td>0</td>\n",
              "      <td>0</td>\n",
              "      <td>1</td>\n",
              "    </tr>\n",
              "    <tr>\n",
              "      <th>2197</th>\n",
              "      <td>3</td>\n",
              "      <td>0</td>\n",
              "      <td>0</td>\n",
              "      <td>0</td>\n",
              "    </tr>\n",
              "    <tr>\n",
              "      <th>2198</th>\n",
              "      <td>3</td>\n",
              "      <td>0</td>\n",
              "      <td>0</td>\n",
              "      <td>0</td>\n",
              "    </tr>\n",
              "    <tr>\n",
              "      <th>2199</th>\n",
              "      <td>3</td>\n",
              "      <td>0</td>\n",
              "      <td>0</td>\n",
              "      <td>0</td>\n",
              "    </tr>\n",
              "  </tbody>\n",
              "</table>\n",
              "<p>2200 rows × 4 columns</p>\n",
              "</div>"
            ],
            "text/plain": [
              "      pclass  age  sex  survived\n",
              "0          0    0    1         1\n",
              "1          0    0    1         1\n",
              "2          0    0    1         1\n",
              "3          0    0    1         1\n",
              "4          0    0    1         1\n",
              "...      ...  ...  ...       ...\n",
              "2195       3    0    0         1\n",
              "2196       3    0    0         1\n",
              "2197       3    0    0         0\n",
              "2198       3    0    0         0\n",
              "2199       3    0    0         0\n",
              "\n",
              "[2200 rows x 4 columns]"
            ]
          },
          "metadata": {},
          "execution_count": 18
        }
      ]
    },
    {
      "cell_type": "code",
      "source": [
        "# Import Decision Tree Classifier\n",
        "from sklearn.tree import DecisionTreeClassifier \n",
        "from sklearn.model_selection import train_test_split \n",
        "from sklearn import metrics "
      ],
      "metadata": {
        "id": "oGY05ZUMsmsO"
      },
      "execution_count": null,
      "outputs": []
    },
    {
      "cell_type": "code",
      "source": [
        "feature_cols = ['pclass', 'age', 'sex']\n",
        "X = df[feature_cols] # Features\n",
        "Y = df.survived # Target variable"
      ],
      "metadata": {
        "id": "66XyWzNms2mI"
      },
      "execution_count": null,
      "outputs": []
    },
    {
      "cell_type": "code",
      "source": [
        "X_train, X_test, y_train, y_test = train_test_split(X, Y, test_size=0.3, random_state=11) "
      ],
      "metadata": {
        "id": "ZsTJYMsts-nE"
      },
      "execution_count": null,
      "outputs": []
    },
    {
      "cell_type": "code",
      "source": [
        "model = DecisionTreeClassifier().fit(X_train,y_train)\n",
        "#Predict the test dataset\n",
        "y_pred = model.predict(X_test)"
      ],
      "metadata": {
        "id": "56sk1ND-tIkh"
      },
      "execution_count": null,
      "outputs": []
    },
    {
      "cell_type": "code",
      "source": [
        "y_pred2 = model.predict(X_train)"
      ],
      "metadata": {
        "id": "ZIotzQEOtin8"
      },
      "execution_count": null,
      "outputs": []
    },
    {
      "cell_type": "code",
      "source": [
        "confusion_matrix(y_test,y_pred)"
      ],
      "metadata": {
        "colab": {
          "base_uri": "https://localhost:8080/"
        },
        "id": "GTpK88-GtpLU",
        "outputId": "a5a405ef-dc84-4bdc-c6fb-54cd16cc7b3d"
      },
      "execution_count": null,
      "outputs": [
        {
          "output_type": "execute_result",
          "data": {
            "text/plain": [
              "array([[426,   6],\n",
              "       [140,  88]])"
            ]
          },
          "metadata": {},
          "execution_count": 24
        }
      ]
    },
    {
      "cell_type": "code",
      "source": [
        "confusion_matrix(y_train,y_pred2)"
      ],
      "metadata": {
        "colab": {
          "base_uri": "https://localhost:8080/"
        },
        "id": "wJwbWC3U563g",
        "outputId": "3d4ba2a1-5685-43ce-fd42-fef66a4bf162"
      },
      "execution_count": null,
      "outputs": [
        {
          "output_type": "execute_result",
          "data": {
            "text/plain": [
              "array([[1044,   14],\n",
              "       [ 300,  182]])"
            ]
          },
          "metadata": {},
          "execution_count": 25
        }
      ]
    },
    {
      "cell_type": "code",
      "source": [
        "#accuracy of testing sample\n",
        "accuracy_score(y_test,y_pred)"
      ],
      "metadata": {
        "colab": {
          "base_uri": "https://localhost:8080/"
        },
        "id": "IIpzQStV6BZT",
        "outputId": "7e8e1dfc-377e-4678-82b5-92fa1cd7c095"
      },
      "execution_count": null,
      "outputs": [
        {
          "output_type": "execute_result",
          "data": {
            "text/plain": [
              "0.7787878787878788"
            ]
          },
          "metadata": {},
          "execution_count": 26
        }
      ]
    },
    {
      "cell_type": "code",
      "source": [
        "#recall of testing sample\n",
        "recall_score(y_test,y_pred,average='macro')"
      ],
      "metadata": {
        "colab": {
          "base_uri": "https://localhost:8080/"
        },
        "id": "DvNCqzn06Egb",
        "outputId": "c7508548-6434-4928-d8ab-bbcdd9f2a475"
      },
      "execution_count": null,
      "outputs": [
        {
          "output_type": "execute_result",
          "data": {
            "text/plain": [
              "0.6860380116959064"
            ]
          },
          "metadata": {},
          "execution_count": 27
        }
      ]
    },
    {
      "cell_type": "code",
      "source": [
        "#f1_score of testing sample\n",
        "f1_score(y_test,y_pred,average='macro')"
      ],
      "metadata": {
        "colab": {
          "base_uri": "https://localhost:8080/"
        },
        "id": "1VrX7xiS6GBC",
        "outputId": "f6f27729-a57a-4bbf-ce02-e52f884907ef"
      },
      "execution_count": null,
      "outputs": [
        {
          "output_type": "execute_result",
          "data": {
            "text/plain": [
              "0.7001456328806682"
            ]
          },
          "metadata": {},
          "execution_count": 28
        }
      ]
    },
    {
      "cell_type": "code",
      "source": [
        "#precision of testing sample\n",
        "precision_score(y_test,y_pred,average='macro')"
      ],
      "metadata": {
        "colab": {
          "base_uri": "https://localhost:8080/"
        },
        "id": "QP3kbZaG6bDE",
        "outputId": "61a90b63-1988-49ad-8299-6575d5c5417f"
      },
      "execution_count": null,
      "outputs": [
        {
          "output_type": "execute_result",
          "data": {
            "text/plain": [
              "0.8444101947222014"
            ]
          },
          "metadata": {},
          "execution_count": 29
        }
      ]
    },
    {
      "cell_type": "code",
      "source": [
        "#accuracy of training sample\n",
        "accuracy_score(y_train,y_pred2)"
      ],
      "metadata": {
        "colab": {
          "base_uri": "https://localhost:8080/"
        },
        "id": "a-j0pwkn6fBP",
        "outputId": "c731d22d-b8a5-4be3-e32a-3062f8d0b81b"
      },
      "execution_count": null,
      "outputs": [
        {
          "output_type": "execute_result",
          "data": {
            "text/plain": [
              "0.7961038961038961"
            ]
          },
          "metadata": {},
          "execution_count": 30
        }
      ]
    },
    {
      "cell_type": "code",
      "source": [
        "#recall of training sample\n",
        "recall_score(y_train,y_pred2,average='macro')"
      ],
      "metadata": {
        "colab": {
          "base_uri": "https://localhost:8080/"
        },
        "id": "v9202B816hQd",
        "outputId": "32dec28d-194e-4101-a0b8-cf576a0cff93"
      },
      "execution_count": null,
      "outputs": [
        {
          "output_type": "execute_result",
          "data": {
            "text/plain": [
              "0.6821804234090785"
            ]
          },
          "metadata": {},
          "execution_count": 31
        }
      ]
    },
    {
      "cell_type": "code",
      "source": [
        "#f1_score of training sample\n",
        "f1_score(y_train,y_pred2,average='macro')"
      ],
      "metadata": {
        "colab": {
          "base_uri": "https://localhost:8080/"
        },
        "id": "jrf0rJbY6hxL",
        "outputId": "32ed96a5-7825-47c2-9fce-fca1b608a3a9"
      },
      "execution_count": null,
      "outputs": [
        {
          "output_type": "execute_result",
          "data": {
            "text/plain": [
              "0.7030743800028982"
            ]
          },
          "metadata": {},
          "execution_count": 32
        }
      ]
    },
    {
      "cell_type": "code",
      "source": [
        "#precision of training sample\n",
        "precision_score(y_train,y_pred2,average='macro')"
      ],
      "metadata": {
        "colab": {
          "base_uri": "https://localhost:8080/"
        },
        "id": "QkbGlse86jLq",
        "outputId": "bcc82c09-6076-4ffb-ce1f-2a7faaa7988e"
      },
      "execution_count": null,
      "outputs": [
        {
          "output_type": "execute_result",
          "data": {
            "text/plain": [
              "0.8526785714285714"
            ]
          },
          "metadata": {},
          "execution_count": 33
        }
      ]
    },
    {
      "cell_type": "code",
      "source": [
        "TP=0\n",
        "TN=0\n",
        "FP=0\n",
        "FN=0\n",
        "y_test=np.array(y_test).reshape(-1,1)\n",
        "for i in range(len(y_pred)):\n",
        "    if(y_test[i]==1 and y_pred[i]==1):\n",
        "        TP=TP+1\n",
        "    if(y_test[i]==1 and y_pred[i]==0):\n",
        "        FN=FN+1\n",
        "    if(y_test[i]==0 and y_pred[i]==1):\n",
        "        FP=FP+1\n",
        "    if(y_test[i]==0 and y_pred[i]==0):\n",
        "        TN=TN+1\n",
        "print(TP,TN,FP,FN)"
      ],
      "metadata": {
        "colab": {
          "base_uri": "https://localhost:8080/"
        },
        "id": "QBWHpRMl6nIi",
        "outputId": "bf22acd9-c16d-475a-de46-883ea1e356e1"
      },
      "execution_count": null,
      "outputs": [
        {
          "output_type": "stream",
          "name": "stdout",
          "text": [
            "88 426 6 140\n"
          ]
        }
      ]
    }
  ]
}
