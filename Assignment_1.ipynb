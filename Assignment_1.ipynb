{
  "nbformat": 4,
  "nbformat_minor": 0,
  "metadata": {
    "colab": {
      "name": "Assignment 1.ipynb",
      "provenance": []
    },
    "kernelspec": {
      "name": "python3",
      "display_name": "Python 3"
    },
    "language_info": {
      "name": "python"
    }
  },
  "cells": [
    {
      "cell_type": "markdown",
      "metadata": {
        "id": "MxbWbjsCqsSD"
      },
      "source": [
        "# Assignment 1 - Python Basics"
      ]
    },
    {
      "cell_type": "markdown",
      "metadata": {
        "id": "Q9As76ejvNve"
      },
      "source": [
        "Q1. Split this string\n",
        "s = \"Hi there Class!\"\n",
        "into a list. "
      ]
    },
    {
      "cell_type": "code",
      "metadata": {
        "colab": {
          "base_uri": "https://localhost:8080/"
        },
        "id": "pCii0pAEvPsY",
        "outputId": "b72e2380-2130-441b-c5af-efe84d70cbb2"
      },
      "source": [
        "s = \"Hi there Class!\"\n",
        "li = list(s.split(\" \"))\n",
        "print(li)"
      ],
      "execution_count": 1,
      "outputs": [
        {
          "output_type": "stream",
          "name": "stdout",
          "text": [
            "['Hi', 'there', 'Class!']\n"
          ]
        }
      ]
    },
    {
      "cell_type": "markdown",
      "metadata": {
        "id": "FYIAv3vGww1A"
      },
      "source": [
        "Q2. Given the variables\n",
        "planet = \"Earth\"\n",
        "diameter = 12742\n",
        "\n",
        "Use .format() to print the following string:\n",
        "The diameter of Earth is 12742 kilometers.\n"
      ]
    },
    {
      "cell_type": "code",
      "metadata": {
        "colab": {
          "base_uri": "https://localhost:8080/"
        },
        "id": "wvk-gaAOwy5a",
        "outputId": "7cb262f3-4904-43f6-d1e8-4bfa753ce9f0"
      },
      "source": [
        "planet = \"Earth\"\n",
        "diameter = 12742\n",
        "sent = 'The diameter of {} is {} kilometers.'.format(planet,diameter)\n",
        "print(sent)"
      ],
      "execution_count": 2,
      "outputs": [
        {
          "output_type": "stream",
          "name": "stdout",
          "text": [
            "The diameter of Earth is 12742 kilometers.\n"
          ]
        }
      ]
    },
    {
      "cell_type": "markdown",
      "metadata": {
        "id": "qg_ahnxZz47B"
      },
      "source": [
        "Q3. Given this nested list, use indexing to grab the word \"hello\"\n",
        "\n",
        "lst = [1,2,[3,4],[5,[100,200,['hello']],23,11],1,7]"
      ]
    },
    {
      "cell_type": "code",
      "metadata": {
        "colab": {
          "base_uri": "https://localhost:8080/"
        },
        "id": "q132XjRhz80b",
        "outputId": "c7b1ff55-e00d-4180-ecd8-57c652e7eae5"
      },
      "source": [
        "lst = [1,2,[3,4],[5,[100,200,['hello']],23,11],1,7]\n",
        "grab = lst [3] [1] [2] [0]\n",
        "print(grab)"
      ],
      "execution_count": 3,
      "outputs": [
        {
          "output_type": "stream",
          "name": "stdout",
          "text": [
            "hello\n"
          ]
        }
      ]
    },
    {
      "cell_type": "markdown",
      "metadata": {
        "id": "V7eDImmN2zPC"
      },
      "source": [
        "Q4. Given this nested dictionary grab the word \"hello\".\n",
        "\n",
        "d = {'k1':[1,2,3,{'tricky':['oh','man','inception',{'target':[1,2,3,'hello']}]}]}\n"
      ]
    },
    {
      "cell_type": "code",
      "metadata": {
        "colab": {
          "base_uri": "https://localhost:8080/"
        },
        "id": "NOSVIueE3Emx",
        "outputId": "1766d1bd-497e-475f-abf3-1b3af5d1ff39"
      },
      "source": [
        "d = {'k1':[1,2,3,{'tricky':['oh','man','inception',{'target':[1,2,3,'hello']}]}]}\n",
        "grab = d['k1'][3]['tricky'][3]['target'][3]\n",
        "print(grab)"
      ],
      "execution_count": 4,
      "outputs": [
        {
          "output_type": "stream",
          "name": "stdout",
          "text": [
            "hello\n"
          ]
        }
      ]
    },
    {
      "cell_type": "markdown",
      "metadata": {
        "id": "zjB5MB-r5MUz"
      },
      "source": [
        "Q5. Create a function that grabs the email website domain from a string in the form:\n",
        "\n",
        "user@domain.com"
      ]
    },
    {
      "cell_type": "code",
      "metadata": {
        "colab": {
          "base_uri": "https://localhost:8080/",
          "height": 36
        },
        "id": "mKD-o0U75EUi",
        "outputId": "f43c3f76-c7fd-4b27-9832-a8533236e7c3"
      },
      "source": [
        "def func(email):\n",
        "    return email.split('@')[-1]\n",
        "\n",
        "func('user@domain.com')"
      ],
      "execution_count": 5,
      "outputs": [
        {
          "output_type": "execute_result",
          "data": {
            "text/plain": [
              "'domain.com'"
            ],
            "application/vnd.google.colaboratory.intrinsic+json": {
              "type": "string"
            }
          },
          "metadata": {},
          "execution_count": 5
        }
      ]
    },
    {
      "cell_type": "markdown",
      "metadata": {
        "id": "ei9QXxhR9KO1"
      },
      "source": [
        "Q6. Create a basic function that returns True if the word 'dog' is contained in the input string. "
      ]
    },
    {
      "cell_type": "code",
      "metadata": {
        "colab": {
          "base_uri": "https://localhost:8080/"
        },
        "id": "Je-SSRcu9ViE",
        "outputId": "ef95fdde-495a-463e-83a6-1a3d241f2b0a"
      },
      "source": [
        "def find(string):\n",
        "  return 'dog' in string.split(\" \")\n",
        "\n",
        "string = \"Who let the dog out?\"\n",
        "find(string)\n"
      ],
      "execution_count": 6,
      "outputs": [
        {
          "output_type": "execute_result",
          "data": {
            "text/plain": [
              "True"
            ]
          },
          "metadata": {},
          "execution_count": 6
        }
      ]
    },
    {
      "cell_type": "markdown",
      "metadata": {
        "id": "UJqUtaUY-FzE"
      },
      "source": [
        "Q7. Create a function that counts the number of times the word \"dog\" occurs in a string."
      ]
    },
    {
      "cell_type": "code",
      "metadata": {
        "id": "a5FR2VWe-UK2",
        "colab": {
          "base_uri": "https://localhost:8080/"
        },
        "outputId": "54348d63-a8a5-44c8-a701-2b795a596e9e"
      },
      "source": [
        "def count(st):\n",
        "    c = 0\n",
        "    for word in st.lower().split():\n",
        "        if word == 'dog':\n",
        "            c += 1\n",
        "    return c\n",
        "count('Who let the dog out? The dog was not tamed.')"
      ],
      "execution_count": 7,
      "outputs": [
        {
          "output_type": "execute_result",
          "data": {
            "text/plain": [
              "2"
            ]
          },
          "metadata": {},
          "execution_count": 7
        }
      ]
    },
    {
      "cell_type": "markdown",
      "metadata": {
        "id": "3ZMJMDdkx8GO"
      },
      "source": [
        "Q8. Use lambda expressions and the filter() function to filter out words from a list that don't start with the \n",
        "letter 's'. \n",
        "\n",
        "For example: seq = ['soup','dog','salad','cat','great']"
      ]
    },
    {
      "cell_type": "code",
      "metadata": {
        "colab": {
          "base_uri": "https://localhost:8080/"
        },
        "id": "gSJ8CnzEyFB9",
        "outputId": "c1d21648-aad1-4914-c225-905ff1b1b20c"
      },
      "source": [
        "seq = ['soup','dog','salad','cat','great']\n",
        "list(filter(lambda word: word[0]=='s',seq))"
      ],
      "execution_count": 8,
      "outputs": [
        {
          "output_type": "execute_result",
          "data": {
            "text/plain": [
              "['soup', 'salad']"
            ]
          },
          "metadata": {},
          "execution_count": 8
        }
      ]
    },
    {
      "cell_type": "markdown",
      "metadata": {
        "id": "vNQVQGLRyznV"
      },
      "source": [
        "Q9. You are driving a little too fast, and a police officer stops you. Write a function to return one of 3 possible results: \"No Challan\", \"Small Challan\", or \"Heavy Challan\". If your speed is 60 or less, the result is \"No Challan\". If speed is between 61 and 80 inclusive, the result is \"Small Challan\". If speed is 81 or more, the result is \"Heavy Challan\". Unless it is your birthday (encoded as a Boolean value in the parameters of the function) -- on your birthday, your speed can be 5 higher in all cases.\n",
        "\n",
        "caught_speeding(81,True)\n",
        "\n",
        "caught_speeding(81,False)"
      ]
    },
    {
      "cell_type": "code",
      "metadata": {
        "id": "1kkaNImby51W"
      },
      "source": [
        "def caught_speeding(speed, is_birthday):\n",
        "    \n",
        "    if is_birthday:\n",
        "        speedf = speed - 5\n",
        "    else:\n",
        "        speedf = speed\n",
        "    \n",
        "    if speedf > 80:\n",
        "        return 'Heavy Challan'\n",
        "    elif speedf > 60:\n",
        "        return 'Small Challan'\n",
        "    else:\n",
        "        return 'No Challan'\n",
        "\n",
        "\n"
      ],
      "execution_count": 9,
      "outputs": []
    },
    {
      "cell_type": "code",
      "metadata": {
        "colab": {
          "base_uri": "https://localhost:8080/",
          "height": 36
        },
        "id": "zoZMMdc30uJe",
        "outputId": "6a091c97-31c1-43c5-b3f6-196ba75bec44"
      },
      "source": [
        "caught_speeding(81,False)"
      ],
      "execution_count": 10,
      "outputs": [
        {
          "output_type": "execute_result",
          "data": {
            "text/plain": [
              "'Heavy Challan'"
            ],
            "application/vnd.google.colaboratory.intrinsic+json": {
              "type": "string"
            }
          },
          "metadata": {},
          "execution_count": 10
        }
      ]
    },
    {
      "cell_type": "code",
      "metadata": {
        "colab": {
          "base_uri": "https://localhost:8080/",
          "height": 36
        },
        "id": "b50_QTzF0x-k",
        "outputId": "b75dd811-23b5-4df4-bfe0-10f4114916fd"
      },
      "source": [
        "caught_speeding(81,True)"
      ],
      "execution_count": 11,
      "outputs": [
        {
          "output_type": "execute_result",
          "data": {
            "text/plain": [
              "'Small Challan'"
            ],
            "application/vnd.google.colaboratory.intrinsic+json": {
              "type": "string"
            }
          },
          "metadata": {},
          "execution_count": 11
        }
      ]
    },
    {
      "cell_type": "markdown",
      "metadata": {
        "id": "fw8GAlOM00Tr"
      },
      "source": [
        "Q10. Concatenate two lists index-wise\n",
        "\n",
        "list1 = [\"M\", \"na\", \"i\", \"She\"] \n",
        "\n",
        "list2 = [\"y\", \"me\", \"s\", \"lly\"]\n",
        "\n",
        "Expected Outcome: ['My', 'name', 'is', 'Shelly']\n"
      ]
    },
    {
      "cell_type": "code",
      "metadata": {
        "colab": {
          "base_uri": "https://localhost:8080/"
        },
        "id": "9nLAmN7a1XUo",
        "outputId": "6383d686-cfbd-426f-96a2-6fbec36b6c96"
      },
      "source": [
        "list1 = [\"M\", \"na\", \"i\", \"She\"]\n",
        "list2 = [\"y\", \"me\", \"s\", \"lly\"]\n",
        "list3 = [i+j for i,j in zip(list1,list2)]\n",
        "print(list3)"
      ],
      "execution_count": 12,
      "outputs": [
        {
          "output_type": "stream",
          "name": "stdout",
          "text": [
            "['My', 'name', 'is', 'Shelly']\n"
          ]
        }
      ]
    },
    {
      "cell_type": "markdown",
      "metadata": {
        "id": "vsY-WyJl_Fq0"
      },
      "source": [
        "Q11. Concatenate two lists in the following order\n",
        "\n",
        "list1 = [\"Hello \", \"take \"]\n",
        "\n",
        "list2 = [\"Dear\", \"Sir\"]\n",
        "\n",
        "Expected Output: ['Hello Dear', 'Hello Sir', 'take Dear', 'take Sir']"
      ]
    },
    {
      "cell_type": "code",
      "metadata": {
        "colab": {
          "base_uri": "https://localhost:8080/"
        },
        "id": "rnxxxMoh_N0b",
        "outputId": "b4562c5b-ddaa-4597-c977-9c9527e3745d"
      },
      "source": [
        "list1 = [\"Hello \", \"take \"]\n",
        "list2 = [\"Dear\", \"Sir\"]\n",
        "listf=[]\n",
        "for i in list1:\n",
        "  for j in list2:\n",
        "    listf.append(i+j)\n",
        "print(listf)"
      ],
      "execution_count": 13,
      "outputs": [
        {
          "output_type": "stream",
          "name": "stdout",
          "text": [
            "['Hello Dear', 'Hello Sir', 'take Dear', 'take Sir']\n"
          ]
        }
      ]
    },
    {
      "cell_type": "code",
      "metadata": {
        "id": "_KsAv_RJAWUI",
        "colab": {
          "base_uri": "https://localhost:8080/"
        },
        "outputId": "190286db-c3a5-4d97-a1a1-4f868b2c60f8"
      },
      "source": [
        "from google.colab import drive\n",
        "drive.mount('/content/drive')"
      ],
      "execution_count": 14,
      "outputs": [
        {
          "output_type": "stream",
          "name": "stdout",
          "text": [
            "Mounted at /content/drive\n"
          ]
        }
      ]
    },
    {
      "cell_type": "markdown",
      "metadata": {
        "id": "uLoldDY9_1w6"
      },
      "source": [
        "Q12. Add item 7000 after 6000 in the following Python List\n",
        "\n",
        "list1 = [10, 20, [300, 400, [5000, 6000], 500], 30, 40]"
      ]
    },
    {
      "cell_type": "code",
      "metadata": {
        "colab": {
          "base_uri": "https://localhost:8080/"
        },
        "id": "Zj7AWMdc_68L",
        "outputId": "55e54eb5-80ad-4e55-97c1-3fd23e880ce3"
      },
      "source": [
        "list1 = [10, 20, [300, 400, [5000, 6000], 500], 30, 40]\n",
        "list1[2][2].append(7000)\n",
        "print(list1)"
      ],
      "execution_count": 15,
      "outputs": [
        {
          "output_type": "stream",
          "name": "stdout",
          "text": [
            "[10, 20, [300, 400, [5000, 6000, 7000], 500], 30, 40]\n"
          ]
        }
      ]
    },
    {
      "cell_type": "markdown",
      "metadata": {
        "id": "Utg9SyZ2ANkN"
      },
      "source": [
        "Q13. Given a Python list, remove all occurrence of 20 from the list\n",
        "\n",
        "list1 = [5, 20, 15, 20, 25, 50, 20]"
      ]
    },
    {
      "cell_type": "code",
      "metadata": {
        "colab": {
          "base_uri": "https://localhost:8080/"
        },
        "id": "NM0MlC7KARLU",
        "outputId": "1f8df736-dff9-40ec-f1b0-3a1b8b349164"
      },
      "source": [
        "list1 = [5, 20, 15, 20, 25, 50, 20]\n",
        "while 20 in list1:\n",
        "  list1.remove(20)\n",
        "print(list1)"
      ],
      "execution_count": 16,
      "outputs": [
        {
          "output_type": "stream",
          "name": "stdout",
          "text": [
            "[5, 15, 25, 50]\n"
          ]
        }
      ]
    },
    {
      "cell_type": "markdown",
      "metadata": {
        "id": "vUSU-SDkAopD"
      },
      "source": [
        "Q14. Check if a value 200 exists in a dictionary\n",
        "\n",
        "d1 = {'a': 100, 'b': 200, 'c': 300}"
      ]
    },
    {
      "cell_type": "code",
      "metadata": {
        "colab": {
          "base_uri": "https://localhost:8080/"
        },
        "id": "aKcrY1E3AsEE",
        "outputId": "0d634714-919c-4443-bed4-0bca89f2aae4"
      },
      "source": [
        "d1 = {'a': 100, 'b': 200, 'c': 300}\n",
        "if 200 in d1.values():\n",
        "  print('True')\n",
        "else:\n",
        "  print('False')\n"
      ],
      "execution_count": 17,
      "outputs": [
        {
          "output_type": "stream",
          "name": "stdout",
          "text": [
            "True\n"
          ]
        }
      ]
    },
    {
      "cell_type": "markdown",
      "metadata": {
        "id": "HTXjazKuBeXc"
      },
      "source": [
        "Q15. Find the sum of the series 2 +22 + 222 + 2222 + .. n term"
      ]
    },
    {
      "cell_type": "code",
      "metadata": {
        "colab": {
          "base_uri": "https://localhost:8080/"
        },
        "id": "y5ep6XBCBggS",
        "outputId": "59a1aab6-0b58-4ece-dfbf-7a506280803c"
      },
      "source": [
        "n=int(input(\"Enter the value of n \"))\n",
        "print((2/81)*(10*(pow(10,n)-1)-(9*n)))"
      ],
      "execution_count": 18,
      "outputs": [
        {
          "output_type": "stream",
          "name": "stdout",
          "text": [
            "Enter the value of n 5\n",
            "24690.0\n"
          ]
        }
      ]
    }
  ]
}