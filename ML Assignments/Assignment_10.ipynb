{
  "nbformat": 4,
  "nbformat_minor": 0,
  "metadata": {
    "colab": {
      "name": "Assignment 10.ipynb",
      "provenance": []
    },
    "kernelspec": {
      "name": "python3",
      "display_name": "Python 3"
    },
    "language_info": {
      "name": "python"
    }
  },
  "cells": [
    {
      "cell_type": "markdown",
      "source": [
        "# Assignment 10 - ID3"
      ],
      "metadata": {
        "id": "CqTZa7jndafe"
      }
    },
    {
      "cell_type": "code",
      "source": [
        "import numpy as np\n",
        "import pandas as pd\n",
        "from sklearn.metrics import confusion_matrix,accuracy_score,f1_score,recall_score,precision_score,r2_score\n",
        "df = pd.read_csv(\"https://www.cs.carleton.edu/faculty/dmusican/cs321s12/titanic2.txt\",skiprows=[0,1],sep = \"\\t\",  names = ['pclass','age', 'sex','survived'])\n",
        "df"
      ],
      "metadata": {
        "colab": {
          "base_uri": "https://localhost:8080/",
          "height": 423
        },
        "id": "Bq3tqRNfj5U6",
        "outputId": "7e164aa4-c3f3-4e3d-dd88-2f38cb68f808"
      },
      "execution_count": null,
      "outputs": [
        {
          "output_type": "execute_result",
          "data": {
            "text/html": [
              "<div>\n",
              "<style scoped>\n",
              "    .dataframe tbody tr th:only-of-type {\n",
              "        vertical-align: middle;\n",
              "    }\n",
              "\n",
              "    .dataframe tbody tr th {\n",
              "        vertical-align: top;\n",
              "    }\n",
              "\n",
              "    .dataframe thead th {\n",
              "        text-align: right;\n",
              "    }\n",
              "</style>\n",
              "<table border=\"1\" class=\"dataframe\">\n",
              "  <thead>\n",
              "    <tr style=\"text-align: right;\">\n",
              "      <th></th>\n",
              "      <th>pclass</th>\n",
              "      <th>age</th>\n",
              "      <th>sex</th>\n",
              "      <th>survived</th>\n",
              "    </tr>\n",
              "  </thead>\n",
              "  <tbody>\n",
              "    <tr>\n",
              "      <th>0</th>\n",
              "      <td>1st</td>\n",
              "      <td>adult</td>\n",
              "      <td>male</td>\n",
              "      <td>yes</td>\n",
              "    </tr>\n",
              "    <tr>\n",
              "      <th>1</th>\n",
              "      <td>1st</td>\n",
              "      <td>adult</td>\n",
              "      <td>male</td>\n",
              "      <td>yes</td>\n",
              "    </tr>\n",
              "    <tr>\n",
              "      <th>2</th>\n",
              "      <td>1st</td>\n",
              "      <td>adult</td>\n",
              "      <td>male</td>\n",
              "      <td>yes</td>\n",
              "    </tr>\n",
              "    <tr>\n",
              "      <th>3</th>\n",
              "      <td>1st</td>\n",
              "      <td>adult</td>\n",
              "      <td>male</td>\n",
              "      <td>yes</td>\n",
              "    </tr>\n",
              "    <tr>\n",
              "      <th>4</th>\n",
              "      <td>1st</td>\n",
              "      <td>adult</td>\n",
              "      <td>male</td>\n",
              "      <td>yes</td>\n",
              "    </tr>\n",
              "    <tr>\n",
              "      <th>...</th>\n",
              "      <td>...</td>\n",
              "      <td>...</td>\n",
              "      <td>...</td>\n",
              "      <td>...</td>\n",
              "    </tr>\n",
              "    <tr>\n",
              "      <th>2195</th>\n",
              "      <td>crew</td>\n",
              "      <td>adult</td>\n",
              "      <td>female</td>\n",
              "      <td>yes</td>\n",
              "    </tr>\n",
              "    <tr>\n",
              "      <th>2196</th>\n",
              "      <td>crew</td>\n",
              "      <td>adult</td>\n",
              "      <td>female</td>\n",
              "      <td>yes</td>\n",
              "    </tr>\n",
              "    <tr>\n",
              "      <th>2197</th>\n",
              "      <td>crew</td>\n",
              "      <td>adult</td>\n",
              "      <td>female</td>\n",
              "      <td>no</td>\n",
              "    </tr>\n",
              "    <tr>\n",
              "      <th>2198</th>\n",
              "      <td>crew</td>\n",
              "      <td>adult</td>\n",
              "      <td>female</td>\n",
              "      <td>no</td>\n",
              "    </tr>\n",
              "    <tr>\n",
              "      <th>2199</th>\n",
              "      <td>crew</td>\n",
              "      <td>adult</td>\n",
              "      <td>female</td>\n",
              "      <td>no</td>\n",
              "    </tr>\n",
              "  </tbody>\n",
              "</table>\n",
              "<p>2200 rows × 4 columns</p>\n",
              "</div>"
            ],
            "text/plain": [
              "     pclass    age     sex survived\n",
              "0       1st  adult    male      yes\n",
              "1       1st  adult    male      yes\n",
              "2       1st  adult    male      yes\n",
              "3       1st  adult    male      yes\n",
              "4       1st  adult    male      yes\n",
              "...     ...    ...     ...      ...\n",
              "2195   crew  adult  female      yes\n",
              "2196   crew  adult  female      yes\n",
              "2197   crew  adult  female       no\n",
              "2198   crew  adult  female       no\n",
              "2199   crew  adult  female       no\n",
              "\n",
              "[2200 rows x 4 columns]"
            ]
          },
          "metadata": {},
          "execution_count": 14
        }
      ]
    },
    {
      "cell_type": "code",
      "source": [
        "df = df.replace({'survived': {'yes': 1, 'no': 0}})\n",
        "df"
      ],
      "metadata": {
        "colab": {
          "base_uri": "https://localhost:8080/",
          "height": 423
        },
        "id": "blFjaJFupBcS",
        "outputId": "7620cb83-8979-4a01-e385-f586bbe9aee3"
      },
      "execution_count": null,
      "outputs": [
        {
          "output_type": "execute_result",
          "data": {
            "text/html": [
              "<div>\n",
              "<style scoped>\n",
              "    .dataframe tbody tr th:only-of-type {\n",
              "        vertical-align: middle;\n",
              "    }\n",
              "\n",
              "    .dataframe tbody tr th {\n",
              "        vertical-align: top;\n",
              "    }\n",
              "\n",
              "    .dataframe thead th {\n",
              "        text-align: right;\n",
              "    }\n",
              "</style>\n",
              "<table border=\"1\" class=\"dataframe\">\n",
              "  <thead>\n",
              "    <tr style=\"text-align: right;\">\n",
              "      <th></th>\n",
              "      <th>pclass</th>\n",
              "      <th>age</th>\n",
              "      <th>sex</th>\n",
              "      <th>survived</th>\n",
              "    </tr>\n",
              "  </thead>\n",
              "  <tbody>\n",
              "    <tr>\n",
              "      <th>0</th>\n",
              "      <td>1st</td>\n",
              "      <td>adult</td>\n",
              "      <td>male</td>\n",
              "      <td>1</td>\n",
              "    </tr>\n",
              "    <tr>\n",
              "      <th>1</th>\n",
              "      <td>1st</td>\n",
              "      <td>adult</td>\n",
              "      <td>male</td>\n",
              "      <td>1</td>\n",
              "    </tr>\n",
              "    <tr>\n",
              "      <th>2</th>\n",
              "      <td>1st</td>\n",
              "      <td>adult</td>\n",
              "      <td>male</td>\n",
              "      <td>1</td>\n",
              "    </tr>\n",
              "    <tr>\n",
              "      <th>3</th>\n",
              "      <td>1st</td>\n",
              "      <td>adult</td>\n",
              "      <td>male</td>\n",
              "      <td>1</td>\n",
              "    </tr>\n",
              "    <tr>\n",
              "      <th>4</th>\n",
              "      <td>1st</td>\n",
              "      <td>adult</td>\n",
              "      <td>male</td>\n",
              "      <td>1</td>\n",
              "    </tr>\n",
              "    <tr>\n",
              "      <th>...</th>\n",
              "      <td>...</td>\n",
              "      <td>...</td>\n",
              "      <td>...</td>\n",
              "      <td>...</td>\n",
              "    </tr>\n",
              "    <tr>\n",
              "      <th>2195</th>\n",
              "      <td>crew</td>\n",
              "      <td>adult</td>\n",
              "      <td>female</td>\n",
              "      <td>1</td>\n",
              "    </tr>\n",
              "    <tr>\n",
              "      <th>2196</th>\n",
              "      <td>crew</td>\n",
              "      <td>adult</td>\n",
              "      <td>female</td>\n",
              "      <td>1</td>\n",
              "    </tr>\n",
              "    <tr>\n",
              "      <th>2197</th>\n",
              "      <td>crew</td>\n",
              "      <td>adult</td>\n",
              "      <td>female</td>\n",
              "      <td>0</td>\n",
              "    </tr>\n",
              "    <tr>\n",
              "      <th>2198</th>\n",
              "      <td>crew</td>\n",
              "      <td>adult</td>\n",
              "      <td>female</td>\n",
              "      <td>0</td>\n",
              "    </tr>\n",
              "    <tr>\n",
              "      <th>2199</th>\n",
              "      <td>crew</td>\n",
              "      <td>adult</td>\n",
              "      <td>female</td>\n",
              "      <td>0</td>\n",
              "    </tr>\n",
              "  </tbody>\n",
              "</table>\n",
              "<p>2200 rows × 4 columns</p>\n",
              "</div>"
            ],
            "text/plain": [
              "     pclass    age     sex  survived\n",
              "0       1st  adult    male         1\n",
              "1       1st  adult    male         1\n",
              "2       1st  adult    male         1\n",
              "3       1st  adult    male         1\n",
              "4       1st  adult    male         1\n",
              "...     ...    ...     ...       ...\n",
              "2195   crew  adult  female         1\n",
              "2196   crew  adult  female         1\n",
              "2197   crew  adult  female         0\n",
              "2198   crew  adult  female         0\n",
              "2199   crew  adult  female         0\n",
              "\n",
              "[2200 rows x 4 columns]"
            ]
          },
          "metadata": {},
          "execution_count": 15
        }
      ]
    },
    {
      "cell_type": "code",
      "source": [
        "print(df['pclass'].unique())\n",
        "print(df['sex'].unique())"
      ],
      "metadata": {
        "colab": {
          "base_uri": "https://localhost:8080/"
        },
        "id": "bFEkBadYpMtQ",
        "outputId": "1d5d8bd6-5cfc-4a3b-bc58-e3776584bc51"
      },
      "execution_count": null,
      "outputs": [
        {
          "output_type": "stream",
          "name": "stdout",
          "text": [
            "['1st' '2nd' '3rd' 'crew']\n",
            "['male' 'female']\n"
          ]
        }
      ]
    },
    {
      "cell_type": "code",
      "source": [
        "# Import label encoder\n",
        "from sklearn import preprocessing\n",
        "label_encoder = preprocessing.LabelEncoder()\n",
        "df['pclass'] = label_encoder.fit_transform(df['pclass'])\n",
        "df['age'] = label_encoder.fit_transform(df['age'])\n",
        "df['sex'] = label_encoder.fit_transform(df['sex'])"
      ],
      "metadata": {
        "id": "6NqYkZx9p5oI"
      },
      "execution_count": null,
      "outputs": []
    },
    {
      "cell_type": "code",
      "source": [
        "df"
      ],
      "metadata": {
        "colab": {
          "base_uri": "https://localhost:8080/",
          "height": 423
        },
        "id": "YlqGocFdsf1L",
        "outputId": "bb969094-5033-4f7f-e0a4-284db3ce2713"
      },
      "execution_count": null,
      "outputs": [
        {
          "output_type": "execute_result",
          "data": {
            "text/html": [
              "<div>\n",
              "<style scoped>\n",
              "    .dataframe tbody tr th:only-of-type {\n",
              "        vertical-align: middle;\n",
              "    }\n",
              "\n",
              "    .dataframe tbody tr th {\n",
              "        vertical-align: top;\n",
              "    }\n",
              "\n",
              "    .dataframe thead th {\n",
              "        text-align: right;\n",
              "    }\n",
              "</style>\n",
              "<table border=\"1\" class=\"dataframe\">\n",
              "  <thead>\n",
              "    <tr style=\"text-align: right;\">\n",
              "      <th></th>\n",
              "      <th>pclass</th>\n",
              "      <th>age</th>\n",
              "      <th>sex</th>\n",
              "      <th>survived</th>\n",
              "    </tr>\n",
              "  </thead>\n",
              "  <tbody>\n",
              "    <tr>\n",
              "      <th>0</th>\n",
              "      <td>0</td>\n",
              "      <td>0</td>\n",
              "      <td>1</td>\n",
              "      <td>1</td>\n",
              "    </tr>\n",
              "    <tr>\n",
              "      <th>1</th>\n",
              "      <td>0</td>\n",
              "      <td>0</td>\n",
              "      <td>1</td>\n",
              "      <td>1</td>\n",
              "    </tr>\n",
              "    <tr>\n",
              "      <th>2</th>\n",
              "      <td>0</td>\n",
              "      <td>0</td>\n",
              "      <td>1</td>\n",
              "      <td>1</td>\n",
              "    </tr>\n",
              "    <tr>\n",
              "      <th>3</th>\n",
              "      <td>0</td>\n",
              "      <td>0</td>\n",
              "      <td>1</td>\n",
              "      <td>1</td>\n",
              "    </tr>\n",
              "    <tr>\n",
              "      <th>4</th>\n",
              "      <td>0</td>\n",
              "      <td>0</td>\n",
              "      <td>1</td>\n",
              "      <td>1</td>\n",
              "    </tr>\n",
              "    <tr>\n",
              "      <th>...</th>\n",
              "      <td>...</td>\n",
              "      <td>...</td>\n",
              "      <td>...</td>\n",
              "      <td>...</td>\n",
              "    </tr>\n",
              "    <tr>\n",
              "      <th>2195</th>\n",
              "      <td>3</td>\n",
              "      <td>0</td>\n",
              "      <td>0</td>\n",
              "      <td>1</td>\n",
              "    </tr>\n",
              "    <tr>\n",
              "      <th>2196</th>\n",
              "      <td>3</td>\n",
              "      <td>0</td>\n",
              "      <td>0</td>\n",
              "      <td>1</td>\n",
              "    </tr>\n",
              "    <tr>\n",
              "      <th>2197</th>\n",
              "      <td>3</td>\n",
              "      <td>0</td>\n",
              "      <td>0</td>\n",
              "      <td>0</td>\n",
              "    </tr>\n",
              "    <tr>\n",
              "      <th>2198</th>\n",
              "      <td>3</td>\n",
              "      <td>0</td>\n",
              "      <td>0</td>\n",
              "      <td>0</td>\n",
              "    </tr>\n",
              "    <tr>\n",
              "      <th>2199</th>\n",
              "      <td>3</td>\n",
              "      <td>0</td>\n",
              "      <td>0</td>\n",
              "      <td>0</td>\n",
              "    </tr>\n",
              "  </tbody>\n",
              "</table>\n",
              "<p>2200 rows × 4 columns</p>\n",
              "</div>"
            ],
            "text/plain": [
              "      pclass  age  sex  survived\n",
              "0          0    0    1         1\n",
              "1          0    0    1         1\n",
              "2          0    0    1         1\n",
              "3          0    0    1         1\n",
              "4          0    0    1         1\n",
              "...      ...  ...  ...       ...\n",
              "2195       3    0    0         1\n",
              "2196       3    0    0         1\n",
              "2197       3    0    0         0\n",
              "2198       3    0    0         0\n",
              "2199       3    0    0         0\n",
              "\n",
              "[2200 rows x 4 columns]"
            ]
          },
          "metadata": {},
          "execution_count": 18
        }
      ]
    },
    {
      "cell_type": "code",
      "source": [
        "# Import Decision Tree Classifier\n",
        "from sklearn.tree import DecisionTreeClassifier \n",
        "from sklearn.model_selection import train_test_split \n",
        "from sklearn import metrics "
      ],
      "metadata": {
        "id": "oGY05ZUMsmsO"
      },
      "execution_count": null,
      "outputs": []
    },
    {
      "cell_type": "code",
      "source": [
        "feature_cols = ['pclass', 'age', 'sex']\n",
        "X = df[feature_cols] # Features\n",
        "Y = df.survived # Target variable"
      ],
      "metadata": {
        "id": "66XyWzNms2mI"
      },
      "execution_count": null,
      "outputs": []
    },
    {
      "cell_type": "code",
      "source": [
        "X_train, X_test, y_train, y_test = train_test_split(X, Y, test_size=0.3, random_state=11) "
      ],
      "metadata": {
        "id": "ZsTJYMsts-nE"
      },
      "execution_count": null,
      "outputs": []
    },
    {
      "cell_type": "code",
      "source": [
        "model = DecisionTreeClassifier().fit(X_train,y_train)\n",
        "#Predict the test dataset\n",
        "y_pred = model.predict(X_test)"
      ],
      "metadata": {
        "id": "56sk1ND-tIkh"
      },
      "execution_count": null,
      "outputs": []
    },
    {
      "cell_type": "code",
      "source": [
        "y_pred2 = model.predict(X_train)"
      ],
      "metadata": {
        "id": "ZIotzQEOtin8"
      },
      "execution_count": null,
      "outputs": []
    },
    {
      "cell_type": "code",
      "source": [
        "confusion_matrix(y_test,y_pred)"
      ],
      "metadata": {
        "colab": {
          "base_uri": "https://localhost:8080/"
        },
        "id": "GTpK88-GtpLU",
        "outputId": "a5a405ef-dc84-4bdc-c6fb-54cd16cc7b3d"
      },
      "execution_count": null,
      "outputs": [
        {
          "output_type": "execute_result",
          "data": {
            "text/plain": [
              "array([[426,   6],\n",
              "       [140,  88]])"
            ]
          },
          "metadata": {},
          "execution_count": 24
        }
      ]
    },
    {
      "cell_type": "code",
      "source": [
        "confusion_matrix(y_train,y_pred2)"
      ],
      "metadata": {
        "colab": {
          "base_uri": "https://localhost:8080/"
        },
        "id": "wJwbWC3U563g",
        "outputId": "3d4ba2a1-5685-43ce-fd42-fef66a4bf162"
      },
      "execution_count": null,
      "outputs": [
        {
          "output_type": "execute_result",
          "data": {
            "text/plain": [
              "array([[1044,   14],\n",
              "       [ 300,  182]])"
            ]
          },
          "metadata": {},
          "execution_count": 25
        }
      ]
    },
    {
      "cell_type": "code",
      "source": [
        "#accuracy of testing sample\n",
        "accuracy_score(y_test,y_pred)"
      ],
      "metadata": {
        "colab": {
          "base_uri": "https://localhost:8080/"
        },
        "id": "IIpzQStV6BZT",
        "outputId": "7e8e1dfc-377e-4678-82b5-92fa1cd7c095"
      },
      "execution_count": null,
      "outputs": [
        {
          "output_type": "execute_result",
          "data": {
            "text/plain": [
              "0.7787878787878788"
            ]
          },
          "metadata": {},
          "execution_count": 26
        }
      ]
    },
    {
      "cell_type": "code",
      "source": [
        "#recall of testing sample\n",
        "recall_score(y_test,y_pred,average='macro')"
      ],
      "metadata": {
        "colab": {
          "base_uri": "https://localhost:8080/"
        },
        "id": "DvNCqzn06Egb",
        "outputId": "c7508548-6434-4928-d8ab-bbcdd9f2a475"
      },
      "execution_count": null,
      "outputs": [
        {
          "output_type": "execute_result",
          "data": {
            "text/plain": [
              "0.6860380116959064"
            ]
          },
          "metadata": {},
          "execution_count": 27
        }
      ]
    },
    {
      "cell_type": "code",
      "source": [
        "#f1_score of testing sample\n",
        "f1_score(y_test,y_pred,average='macro')"
      ],
      "metadata": {
        "colab": {
          "base_uri": "https://localhost:8080/"
        },
        "id": "1VrX7xiS6GBC",
        "outputId": "f6f27729-a57a-4bbf-ce02-e52f884907ef"
      },
      "execution_count": null,
      "outputs": [
        {
          "output_type": "execute_result",
          "data": {
            "text/plain": [
              "0.7001456328806682"
            ]
          },
          "metadata": {},
          "execution_count": 28
        }
      ]
    },
    {
      "cell_type": "code",
      "source": [
        "#precision of testing sample\n",
        "precision_score(y_test,y_pred,average='macro')"
      ],
      "metadata": {
        "colab": {
          "base_uri": "https://localhost:8080/"
        },
        "id": "QP3kbZaG6bDE",
        "outputId": "61a90b63-1988-49ad-8299-6575d5c5417f"
      },
      "execution_count": null,
      "outputs": [
        {
          "output_type": "execute_result",
          "data": {
            "text/plain": [
              "0.8444101947222014"
            ]
          },
          "metadata": {},
          "execution_count": 29
        }
      ]
    },
    {
      "cell_type": "code",
      "source": [
        "#accuracy of training sample\n",
        "accuracy_score(y_train,y_pred2)"
      ],
      "metadata": {
        "colab": {
          "base_uri": "https://localhost:8080/"
        },
        "id": "a-j0pwkn6fBP",
        "outputId": "c731d22d-b8a5-4be3-e32a-3062f8d0b81b"
      },
      "execution_count": null,
      "outputs": [
        {
          "output_type": "execute_result",
          "data": {
            "text/plain": [
              "0.7961038961038961"
            ]
          },
          "metadata": {},
          "execution_count": 30
        }
      ]
    },
    {
      "cell_type": "code",
      "source": [
        "#recall of training sample\n",
        "recall_score(y_train,y_pred2,average='macro')"
      ],
      "metadata": {
        "colab": {
          "base_uri": "https://localhost:8080/"
        },
        "id": "v9202B816hQd",
        "outputId": "32dec28d-194e-4101-a0b8-cf576a0cff93"
      },
      "execution_count": null,
      "outputs": [
        {
          "output_type": "execute_result",
          "data": {
            "text/plain": [
              "0.6821804234090785"
            ]
          },
          "metadata": {},
          "execution_count": 31
        }
      ]
    },
    {
      "cell_type": "code",
      "source": [
        "#f1_score of training sample\n",
        "f1_score(y_train,y_pred2,average='macro')"
      ],
      "metadata": {
        "colab": {
          "base_uri": "https://localhost:8080/"
        },
        "id": "jrf0rJbY6hxL",
        "outputId": "32ed96a5-7825-47c2-9fce-fca1b608a3a9"
      },
      "execution_count": null,
      "outputs": [
        {
          "output_type": "execute_result",
          "data": {
            "text/plain": [
              "0.7030743800028982"
            ]
          },
          "metadata": {},
          "execution_count": 32
        }
      ]
    },
    {
      "cell_type": "code",
      "source": [
        "#precision of training sample\n",
        "precision_score(y_train,y_pred2,average='macro')"
      ],
      "metadata": {
        "colab": {
          "base_uri": "https://localhost:8080/"
        },
        "id": "QkbGlse86jLq",
        "outputId": "bcc82c09-6076-4ffb-ce1f-2a7faaa7988e"
      },
      "execution_count": null,
      "outputs": [
        {
          "output_type": "execute_result",
          "data": {
            "text/plain": [
              "0.8526785714285714"
            ]
          },
          "metadata": {},
          "execution_count": 33
        }
      ]
    },
    {
      "cell_type": "code",
      "source": [
        "TP=0\n",
        "TN=0\n",
        "FP=0\n",
        "FN=0\n",
        "y_test=np.array(y_test).reshape(-1,1)\n",
        "for i in range(len(y_pred)):\n",
        "    if(y_test[i]==1 and y_pred[i]==1):\n",
        "        TP=TP+1\n",
        "    if(y_test[i]==1 and y_pred[i]==0):\n",
        "        FN=FN+1\n",
        "    if(y_test[i]==0 and y_pred[i]==1):\n",
        "        FP=FP+1\n",
        "    if(y_test[i]==0 and y_pred[i]==0):\n",
        "        TN=TN+1\n",
        "print(TP,TN,FP,FN)"
      ],
      "metadata": {
        "colab": {
          "base_uri": "https://localhost:8080/"
        },
        "id": "QBWHpRMl6nIi",
        "outputId": "bf22acd9-c16d-475a-de46-883ea1e356e1"
      },
      "execution_count": null,
      "outputs": [
        {
          "output_type": "stream",
          "name": "stdout",
          "text": [
            "88 426 6 140\n"
          ]
        }
      ]
    }
  ]
}