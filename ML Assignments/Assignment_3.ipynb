{
  "nbformat": 4,
  "nbformat_minor": 0,
  "metadata": {
    "colab": {
      "name": "Assignment 3.ipynb",
      "provenance": []
    },
    "kernelspec": {
      "name": "python3",
      "display_name": "Python 3"
    },
    "language_info": {
      "name": "python"
    }
  },
  "cells": [
    {
      "cell_type": "markdown",
      "metadata": {
        "id": "8_smRaaaqmTt"
      },
      "source": [
        "# Assignment 3"
      ]
    },
    {
      "cell_type": "markdown",
      "metadata": {
        "id": "avffQF2xxYgo"
      },
      "source": [
        "***Part I: Based on Feature Selection, Cleaning, and Preprocessing to Construct an Input from Data Source***"
      ]
    },
    {
      "cell_type": "markdown",
      "metadata": {
        "id": "ekluGXD2u3qm"
      },
      "source": [
        "(A) Examine the values of each attribute and Select a set of attributes only that would affect to predict \n",
        "future bike buyers to create your input for data mining algorithms. Remove all the unnecessary \n",
        "attributes. (Select features just by analysis). "
      ]
    },
    {
      "cell_type": "code",
      "metadata": {
        "id": "eTNl8PKv4Oqv"
      },
      "source": [
        "import pandas as pd\n",
        "df1=pd.read_csv('/content/drive/MyDrive/ML/AWSales (1).csv')\n",
        "print(df1.columns)\n",
        "df1"
      ],
      "execution_count": null,
      "outputs": []
    },
    {
      "cell_type": "code",
      "metadata": {
        "id": "jmRJ8WPj64jf"
      },
      "source": [
        "import pandas as pd\n",
        "df2=pd.read_csv('/content/drive/MyDrive/ML/AWCustomers.csv (1).zip')\n",
        "print(df2.columns)\n",
        "df2"
      ],
      "execution_count": null,
      "outputs": []
    },
    {
      "cell_type": "markdown",
      "metadata": {
        "id": "yykMAxkPvJIb"
      },
      "source": [
        "(B) Create a new Data Frame with the selected attributes only. "
      ]
    },
    {
      "cell_type": "code",
      "metadata": {
        "id": "pSZ4t__KwF2a"
      },
      "source": [
        "df=df2.merge(df1)\n",
        "print(df.columns)\n",
        "df"
      ],
      "execution_count": null,
      "outputs": []
    },
    {
      "cell_type": "code",
      "metadata": {
        "id": "5adH3uiawa_n"
      },
      "source": [
        "df=df.iloc[:,[10,13,14,15,16,17,18,19,20,22,25]]\n",
        "df.head()"
      ],
      "execution_count": null,
      "outputs": []
    },
    {
      "cell_type": "code",
      "metadata": {
        "id": "b8ICh7-A4rqp"
      },
      "source": [
        "#convert birth-date into age as age would be better varible to decide whether it is legal to buy bike or not.\n",
        "for i,rows in df.iterrows():\n",
        "  age= 2021- int(df.loc[i,'BirthDate'][0:4])\n",
        "  df.at[i,'BirthDate']=age\n",
        "df.rename(columns={\"BirthDate\":\"Age\",\"CountryRegionName\":\"Country\"},inplace=True)\n",
        "df.nunique(axis=0)\n",
        "df.head()"
      ],
      "execution_count": null,
      "outputs": []
    },
    {
      "cell_type": "markdown",
      "metadata": {
        "id": "q3DUYi5wwe5E"
      },
      "source": [
        "(C) Determine a Data value type (Discrete, or Continuous, then Nominal, Ordinal, Interval, Ratio) of \n",
        "each attribute in your selection to identify preprocessing tasks to create input for your data mining. "
      ]
    },
    {
      "cell_type": "code",
      "metadata": {
        "id": "8_B8Qqi5wi-t"
      },
      "source": [
        "df.info()"
      ],
      "execution_count": null,
      "outputs": []
    },
    {
      "cell_type": "markdown",
      "metadata": {
        "id": "KFqolaLDxe3y"
      },
      "source": [
        "***Part II: Data Preprocessing and Transformation***"
      ]
    },
    {
      "cell_type": "code",
      "metadata": {
        "colab": {
          "base_uri": "https://localhost:8080/"
        },
        "id": "tis_K7TAxg7n",
        "outputId": "2e19c273-cacd-4689-be7d-f128cf993dbb"
      },
      "source": [
        "df.isnull().sum()"
      ],
      "execution_count": null,
      "outputs": [
        {
          "output_type": "execute_result",
          "data": {
            "text/plain": [
              "Country                 0\n",
              "Age                     0\n",
              "Education               0\n",
              "Occupation              0\n",
              "Gender                  0\n",
              "MaritalStatus           0\n",
              "HomeOwnerFlag           0\n",
              "NumberCarsOwned         0\n",
              "NumberChildrenAtHome    0\n",
              "YearlyIncome            0\n",
              "AvgMonthSpend           0\n",
              "dtype: int64"
            ]
          },
          "metadata": {},
          "execution_count": 55
        }
      ]
    },
    {
      "cell_type": "markdown",
      "metadata": {
        "id": "VWTkMWFI0P2S"
      },
      "source": [
        "As there are no null values thus we do not need to fill the gaps by interpolation or any process"
      ]
    },
    {
      "cell_type": "code",
      "metadata": {
        "colab": {
          "base_uri": "https://localhost:8080/",
          "height": 890
        },
        "id": "GStF277212Ld",
        "outputId": "59b8243e-d496-4a85-efe9-7e4983d110bb"
      },
      "source": [
        "from sklearn.preprocessing import StandardScaler\n",
        "#scaled_age=scalar.fit_transform(df[['Age']].values)\n",
        "df['Age']=scalar.fit_transform(df[['Age']].values)\n",
        "df['YearlyIncome']=scalar.fit_transform(df[['YearlyIncome']].values)\n",
        "df['AvgMonthSpend']=scalar.fit_transform(df[['AvgMonthSpend']].values)\n",
        "#df['Age']=scaled_age\n",
        "#df['YearlyIncome']=scaled_income\n",
        "#df['AvgMonthSpend']=scaled_spent\n",
        "df"
      ],
      "execution_count": null,
      "outputs": [
        {
          "output_type": "stream",
          "name": "stderr",
          "text": [
            "/usr/local/lib/python3.7/dist-packages/ipykernel_launcher.py:3: SettingWithCopyWarning: \n",
            "A value is trying to be set on a copy of a slice from a DataFrame.\n",
            "Try using .loc[row_indexer,col_indexer] = value instead\n",
            "\n",
            "See the caveats in the documentation: https://pandas.pydata.org/pandas-docs/stable/user_guide/indexing.html#returning-a-view-versus-a-copy\n",
            "  This is separate from the ipykernel package so we can avoid doing imports until\n",
            "/usr/local/lib/python3.7/dist-packages/ipykernel_launcher.py:4: SettingWithCopyWarning: \n",
            "A value is trying to be set on a copy of a slice from a DataFrame.\n",
            "Try using .loc[row_indexer,col_indexer] = value instead\n",
            "\n",
            "See the caveats in the documentation: https://pandas.pydata.org/pandas-docs/stable/user_guide/indexing.html#returning-a-view-versus-a-copy\n",
            "  after removing the cwd from sys.path.\n",
            "/usr/local/lib/python3.7/dist-packages/ipykernel_launcher.py:5: SettingWithCopyWarning: \n",
            "A value is trying to be set on a copy of a slice from a DataFrame.\n",
            "Try using .loc[row_indexer,col_indexer] = value instead\n",
            "\n",
            "See the caveats in the documentation: https://pandas.pydata.org/pandas-docs/stable/user_guide/indexing.html#returning-a-view-versus-a-copy\n",
            "  \"\"\"\n"
          ]
        },
        {
          "output_type": "execute_result",
          "data": {
            "text/html": [
              "<div>\n",
              "<style scoped>\n",
              "    .dataframe tbody tr th:only-of-type {\n",
              "        vertical-align: middle;\n",
              "    }\n",
              "\n",
              "    .dataframe tbody tr th {\n",
              "        vertical-align: top;\n",
              "    }\n",
              "\n",
              "    .dataframe thead th {\n",
              "        text-align: right;\n",
              "    }\n",
              "</style>\n",
              "<table border=\"1\" class=\"dataframe\">\n",
              "  <thead>\n",
              "    <tr style=\"text-align: right;\">\n",
              "      <th></th>\n",
              "      <th>Country</th>\n",
              "      <th>Age</th>\n",
              "      <th>Education</th>\n",
              "      <th>Occupation</th>\n",
              "      <th>Gender</th>\n",
              "      <th>MaritalStatus</th>\n",
              "      <th>HomeOwnerFlag</th>\n",
              "      <th>NumberCarsOwned</th>\n",
              "      <th>NumberChildrenAtHome</th>\n",
              "      <th>YearlyIncome</th>\n",
              "      <th>AvgMonthSpend</th>\n",
              "    </tr>\n",
              "  </thead>\n",
              "  <tbody>\n",
              "    <tr>\n",
              "      <th>0</th>\n",
              "      <td>Australia</td>\n",
              "      <td>-0.482516</td>\n",
              "      <td>Bachelors</td>\n",
              "      <td>Clerical</td>\n",
              "      <td>M</td>\n",
              "      <td>M</td>\n",
              "      <td>1</td>\n",
              "      <td>3</td>\n",
              "      <td>0</td>\n",
              "      <td>0.298555</td>\n",
              "      <td>-0.231774</td>\n",
              "    </tr>\n",
              "    <tr>\n",
              "      <th>1</th>\n",
              "      <td>Canada</td>\n",
              "      <td>0.851033</td>\n",
              "      <td>Partial College</td>\n",
              "      <td>Clerical</td>\n",
              "      <td>M</td>\n",
              "      <td>M</td>\n",
              "      <td>1</td>\n",
              "      <td>2</td>\n",
              "      <td>1</td>\n",
              "      <td>0.271180</td>\n",
              "      <td>0.390755</td>\n",
              "    </tr>\n",
              "    <tr>\n",
              "      <th>2</th>\n",
              "      <td>United States</td>\n",
              "      <td>-0.304710</td>\n",
              "      <td>Bachelors</td>\n",
              "      <td>Clerical</td>\n",
              "      <td>F</td>\n",
              "      <td>S</td>\n",
              "      <td>0</td>\n",
              "      <td>3</td>\n",
              "      <td>0</td>\n",
              "      <td>0.444261</td>\n",
              "      <td>0.672929</td>\n",
              "    </tr>\n",
              "    <tr>\n",
              "      <th>3</th>\n",
              "      <td>United Kingdom</td>\n",
              "      <td>0.406517</td>\n",
              "      <td>Partial College</td>\n",
              "      <td>Skilled Manual</td>\n",
              "      <td>M</td>\n",
              "      <td>M</td>\n",
              "      <td>1</td>\n",
              "      <td>2</td>\n",
              "      <td>1</td>\n",
              "      <td>-0.367401</td>\n",
              "      <td>1.501999</td>\n",
              "    </tr>\n",
              "    <tr>\n",
              "      <th>4</th>\n",
              "      <td>Germany</td>\n",
              "      <td>0.584324</td>\n",
              "      <td>Partial College</td>\n",
              "      <td>Skilled Manual</td>\n",
              "      <td>M</td>\n",
              "      <td>S</td>\n",
              "      <td>1</td>\n",
              "      <td>1</td>\n",
              "      <td>0</td>\n",
              "      <td>-0.682765</td>\n",
              "      <td>1.059828</td>\n",
              "    </tr>\n",
              "    <tr>\n",
              "      <th>...</th>\n",
              "      <td>...</td>\n",
              "      <td>...</td>\n",
              "      <td>...</td>\n",
              "      <td>...</td>\n",
              "      <td>...</td>\n",
              "      <td>...</td>\n",
              "      <td>...</td>\n",
              "      <td>...</td>\n",
              "      <td>...</td>\n",
              "      <td>...</td>\n",
              "      <td>...</td>\n",
              "    </tr>\n",
              "    <tr>\n",
              "      <th>18356</th>\n",
              "      <td>United States</td>\n",
              "      <td>-0.749226</td>\n",
              "      <td>Graduate Degree</td>\n",
              "      <td>Skilled Manual</td>\n",
              "      <td>F</td>\n",
              "      <td>M</td>\n",
              "      <td>0</td>\n",
              "      <td>1</td>\n",
              "      <td>0</td>\n",
              "      <td>-0.645321</td>\n",
              "      <td>-1.055025</td>\n",
              "    </tr>\n",
              "    <tr>\n",
              "      <th>18357</th>\n",
              "      <td>Australia</td>\n",
              "      <td>-0.927033</td>\n",
              "      <td>Bachelors</td>\n",
              "      <td>Skilled Manual</td>\n",
              "      <td>F</td>\n",
              "      <td>S</td>\n",
              "      <td>0</td>\n",
              "      <td>2</td>\n",
              "      <td>0</td>\n",
              "      <td>-0.383337</td>\n",
              "      <td>-0.447041</td>\n",
              "    </tr>\n",
              "    <tr>\n",
              "      <th>18358</th>\n",
              "      <td>United States</td>\n",
              "      <td>-0.126903</td>\n",
              "      <td>Partial College</td>\n",
              "      <td>Skilled Manual</td>\n",
              "      <td>F</td>\n",
              "      <td>S</td>\n",
              "      <td>0</td>\n",
              "      <td>2</td>\n",
              "      <td>0</td>\n",
              "      <td>-0.680973</td>\n",
              "      <td>-0.641945</td>\n",
              "    </tr>\n",
              "    <tr>\n",
              "      <th>18359</th>\n",
              "      <td>Canada</td>\n",
              "      <td>-1.193743</td>\n",
              "      <td>High School</td>\n",
              "      <td>Clerical</td>\n",
              "      <td>F</td>\n",
              "      <td>S</td>\n",
              "      <td>0</td>\n",
              "      <td>0</td>\n",
              "      <td>0</td>\n",
              "      <td>0.470006</td>\n",
              "      <td>-0.100868</td>\n",
              "    </tr>\n",
              "    <tr>\n",
              "      <th>18360</th>\n",
              "      <td>United States</td>\n",
              "      <td>-0.393613</td>\n",
              "      <td>Graduate Degree</td>\n",
              "      <td>Professional</td>\n",
              "      <td>F</td>\n",
              "      <td>M</td>\n",
              "      <td>1</td>\n",
              "      <td>2</td>\n",
              "      <td>0</td>\n",
              "      <td>2.088996</td>\n",
              "      <td>0.146398</td>\n",
              "    </tr>\n",
              "  </tbody>\n",
              "</table>\n",
              "<p>18361 rows × 11 columns</p>\n",
              "</div>"
            ],
            "text/plain": [
              "              Country       Age  ... YearlyIncome AvgMonthSpend\n",
              "0           Australia -0.482516  ...     0.298555     -0.231774\n",
              "1              Canada  0.851033  ...     0.271180      0.390755\n",
              "2       United States -0.304710  ...     0.444261      0.672929\n",
              "3      United Kingdom  0.406517  ...    -0.367401      1.501999\n",
              "4             Germany  0.584324  ...    -0.682765      1.059828\n",
              "...               ...       ...  ...          ...           ...\n",
              "18356   United States -0.749226  ...    -0.645321     -1.055025\n",
              "18357       Australia -0.927033  ...    -0.383337     -0.447041\n",
              "18358   United States -0.126903  ...    -0.680973     -0.641945\n",
              "18359          Canada -1.193743  ...     0.470006     -0.100868\n",
              "18360   United States -0.393613  ...     2.088996      0.146398\n",
              "\n",
              "[18361 rows x 11 columns]"
            ]
          },
          "metadata": {},
          "execution_count": 56
        }
      ]
    },
    {
      "cell_type": "markdown",
      "metadata": {
        "id": "2soJSo0L2n8h"
      },
      "source": [
        "(E) Binarization (One Hot Encoding) "
      ]
    },
    {
      "cell_type": "code",
      "metadata": {
        "colab": {
          "base_uri": "https://localhost:8080/",
          "height": 290
        },
        "id": "SKcnSEBH2tk9",
        "outputId": "75ef3997-25bf-4495-b1b6-08a10b3fd91e"
      },
      "source": [
        "#encoding the martialstatus and gender\n",
        "df['MaritalStatus'].unique()\n",
        "gender={'M':0,'F':1}\n",
        "marital={'M':1,'S':0}\n",
        "for i,row in df.iterrows():\n",
        "  entry1=df.loc[i,'Gender']\n",
        "  entry2=df.loc[i,'MaritalStatus']\n",
        "  df.at[i,'MaritalStatus']=marital[entry2]\n",
        "  df.at[i,'Gender']=gender[entry1]\n",
        "df.head()"
      ],
      "execution_count": null,
      "outputs": [
        {
          "output_type": "execute_result",
          "data": {
            "text/html": [
              "<div>\n",
              "<style scoped>\n",
              "    .dataframe tbody tr th:only-of-type {\n",
              "        vertical-align: middle;\n",
              "    }\n",
              "\n",
              "    .dataframe tbody tr th {\n",
              "        vertical-align: top;\n",
              "    }\n",
              "\n",
              "    .dataframe thead th {\n",
              "        text-align: right;\n",
              "    }\n",
              "</style>\n",
              "<table border=\"1\" class=\"dataframe\">\n",
              "  <thead>\n",
              "    <tr style=\"text-align: right;\">\n",
              "      <th></th>\n",
              "      <th>Country</th>\n",
              "      <th>Age</th>\n",
              "      <th>Education</th>\n",
              "      <th>Occupation</th>\n",
              "      <th>Gender</th>\n",
              "      <th>MaritalStatus</th>\n",
              "      <th>HomeOwnerFlag</th>\n",
              "      <th>NumberCarsOwned</th>\n",
              "      <th>NumberChildrenAtHome</th>\n",
              "      <th>YearlyIncome</th>\n",
              "      <th>AvgMonthSpend</th>\n",
              "    </tr>\n",
              "  </thead>\n",
              "  <tbody>\n",
              "    <tr>\n",
              "      <th>0</th>\n",
              "      <td>Australia</td>\n",
              "      <td>-0.482516</td>\n",
              "      <td>Bachelors</td>\n",
              "      <td>Clerical</td>\n",
              "      <td>0</td>\n",
              "      <td>1</td>\n",
              "      <td>1</td>\n",
              "      <td>3</td>\n",
              "      <td>0</td>\n",
              "      <td>0.298555</td>\n",
              "      <td>-0.231774</td>\n",
              "    </tr>\n",
              "    <tr>\n",
              "      <th>1</th>\n",
              "      <td>Canada</td>\n",
              "      <td>0.851033</td>\n",
              "      <td>Partial College</td>\n",
              "      <td>Clerical</td>\n",
              "      <td>0</td>\n",
              "      <td>1</td>\n",
              "      <td>1</td>\n",
              "      <td>2</td>\n",
              "      <td>1</td>\n",
              "      <td>0.271180</td>\n",
              "      <td>0.390755</td>\n",
              "    </tr>\n",
              "    <tr>\n",
              "      <th>2</th>\n",
              "      <td>United States</td>\n",
              "      <td>-0.304710</td>\n",
              "      <td>Bachelors</td>\n",
              "      <td>Clerical</td>\n",
              "      <td>1</td>\n",
              "      <td>0</td>\n",
              "      <td>0</td>\n",
              "      <td>3</td>\n",
              "      <td>0</td>\n",
              "      <td>0.444261</td>\n",
              "      <td>0.672929</td>\n",
              "    </tr>\n",
              "    <tr>\n",
              "      <th>3</th>\n",
              "      <td>United Kingdom</td>\n",
              "      <td>0.406517</td>\n",
              "      <td>Partial College</td>\n",
              "      <td>Skilled Manual</td>\n",
              "      <td>0</td>\n",
              "      <td>1</td>\n",
              "      <td>1</td>\n",
              "      <td>2</td>\n",
              "      <td>1</td>\n",
              "      <td>-0.367401</td>\n",
              "      <td>1.501999</td>\n",
              "    </tr>\n",
              "    <tr>\n",
              "      <th>4</th>\n",
              "      <td>Germany</td>\n",
              "      <td>0.584324</td>\n",
              "      <td>Partial College</td>\n",
              "      <td>Skilled Manual</td>\n",
              "      <td>0</td>\n",
              "      <td>0</td>\n",
              "      <td>1</td>\n",
              "      <td>1</td>\n",
              "      <td>0</td>\n",
              "      <td>-0.682765</td>\n",
              "      <td>1.059828</td>\n",
              "    </tr>\n",
              "  </tbody>\n",
              "</table>\n",
              "</div>"
            ],
            "text/plain": [
              "          Country       Age  ... YearlyIncome AvgMonthSpend\n",
              "0       Australia -0.482516  ...     0.298555     -0.231774\n",
              "1          Canada  0.851033  ...     0.271180      0.390755\n",
              "2   United States -0.304710  ...     0.444261      0.672929\n",
              "3  United Kingdom  0.406517  ...    -0.367401      1.501999\n",
              "4         Germany  0.584324  ...    -0.682765      1.059828\n",
              "\n",
              "[5 rows x 11 columns]"
            ]
          },
          "metadata": {},
          "execution_count": 57
        }
      ]
    },
    {
      "cell_type": "code",
      "metadata": {
        "colab": {
          "base_uri": "https://localhost:8080/"
        },
        "id": "n2MjRXdM2x3M",
        "outputId": "81a34216-f144-4d78-f391-28e782fc65fc"
      },
      "source": [
        "#encoding the Education\n",
        "df['Education'].unique()"
      ],
      "execution_count": null,
      "outputs": [
        {
          "output_type": "execute_result",
          "data": {
            "text/plain": [
              "array(['Bachelors', 'Partial College', 'High School',\n",
              "       'Partial High School', 'Graduate Degree'], dtype=object)"
            ]
          },
          "metadata": {},
          "execution_count": 58
        }
      ]
    },
    {
      "cell_type": "code",
      "metadata": {
        "colab": {
          "base_uri": "https://localhost:8080/",
          "height": 374
        },
        "id": "G_E5y0XQ20Mr",
        "outputId": "81ef594f-b3cd-4000-bd28-dcbb8efa8811"
      },
      "source": [
        "from sklearn.preprocessing import LabelEncoder\n",
        "encode=LabelEncoder()\n",
        "Edu=encode.fit_transform(df['Education'])\n",
        "df['Education']=Edu\n",
        "df.head()"
      ],
      "execution_count": null,
      "outputs": [
        {
          "output_type": "stream",
          "name": "stderr",
          "text": [
            "/usr/local/lib/python3.7/dist-packages/ipykernel_launcher.py:4: SettingWithCopyWarning: \n",
            "A value is trying to be set on a copy of a slice from a DataFrame.\n",
            "Try using .loc[row_indexer,col_indexer] = value instead\n",
            "\n",
            "See the caveats in the documentation: https://pandas.pydata.org/pandas-docs/stable/user_guide/indexing.html#returning-a-view-versus-a-copy\n",
            "  after removing the cwd from sys.path.\n"
          ]
        },
        {
          "output_type": "execute_result",
          "data": {
            "text/html": [
              "<div>\n",
              "<style scoped>\n",
              "    .dataframe tbody tr th:only-of-type {\n",
              "        vertical-align: middle;\n",
              "    }\n",
              "\n",
              "    .dataframe tbody tr th {\n",
              "        vertical-align: top;\n",
              "    }\n",
              "\n",
              "    .dataframe thead th {\n",
              "        text-align: right;\n",
              "    }\n",
              "</style>\n",
              "<table border=\"1\" class=\"dataframe\">\n",
              "  <thead>\n",
              "    <tr style=\"text-align: right;\">\n",
              "      <th></th>\n",
              "      <th>Country</th>\n",
              "      <th>Age</th>\n",
              "      <th>Education</th>\n",
              "      <th>Occupation</th>\n",
              "      <th>Gender</th>\n",
              "      <th>MaritalStatus</th>\n",
              "      <th>HomeOwnerFlag</th>\n",
              "      <th>NumberCarsOwned</th>\n",
              "      <th>NumberChildrenAtHome</th>\n",
              "      <th>YearlyIncome</th>\n",
              "      <th>AvgMonthSpend</th>\n",
              "    </tr>\n",
              "  </thead>\n",
              "  <tbody>\n",
              "    <tr>\n",
              "      <th>0</th>\n",
              "      <td>Australia</td>\n",
              "      <td>-0.482516</td>\n",
              "      <td>0</td>\n",
              "      <td>Clerical</td>\n",
              "      <td>0</td>\n",
              "      <td>1</td>\n",
              "      <td>1</td>\n",
              "      <td>3</td>\n",
              "      <td>0</td>\n",
              "      <td>0.298555</td>\n",
              "      <td>-0.231774</td>\n",
              "    </tr>\n",
              "    <tr>\n",
              "      <th>1</th>\n",
              "      <td>Canada</td>\n",
              "      <td>0.851033</td>\n",
              "      <td>3</td>\n",
              "      <td>Clerical</td>\n",
              "      <td>0</td>\n",
              "      <td>1</td>\n",
              "      <td>1</td>\n",
              "      <td>2</td>\n",
              "      <td>1</td>\n",
              "      <td>0.271180</td>\n",
              "      <td>0.390755</td>\n",
              "    </tr>\n",
              "    <tr>\n",
              "      <th>2</th>\n",
              "      <td>United States</td>\n",
              "      <td>-0.304710</td>\n",
              "      <td>0</td>\n",
              "      <td>Clerical</td>\n",
              "      <td>1</td>\n",
              "      <td>0</td>\n",
              "      <td>0</td>\n",
              "      <td>3</td>\n",
              "      <td>0</td>\n",
              "      <td>0.444261</td>\n",
              "      <td>0.672929</td>\n",
              "    </tr>\n",
              "    <tr>\n",
              "      <th>3</th>\n",
              "      <td>United Kingdom</td>\n",
              "      <td>0.406517</td>\n",
              "      <td>3</td>\n",
              "      <td>Skilled Manual</td>\n",
              "      <td>0</td>\n",
              "      <td>1</td>\n",
              "      <td>1</td>\n",
              "      <td>2</td>\n",
              "      <td>1</td>\n",
              "      <td>-0.367401</td>\n",
              "      <td>1.501999</td>\n",
              "    </tr>\n",
              "    <tr>\n",
              "      <th>4</th>\n",
              "      <td>Germany</td>\n",
              "      <td>0.584324</td>\n",
              "      <td>3</td>\n",
              "      <td>Skilled Manual</td>\n",
              "      <td>0</td>\n",
              "      <td>0</td>\n",
              "      <td>1</td>\n",
              "      <td>1</td>\n",
              "      <td>0</td>\n",
              "      <td>-0.682765</td>\n",
              "      <td>1.059828</td>\n",
              "    </tr>\n",
              "  </tbody>\n",
              "</table>\n",
              "</div>"
            ],
            "text/plain": [
              "          Country       Age  ...  YearlyIncome AvgMonthSpend\n",
              "0       Australia -0.482516  ...      0.298555     -0.231774\n",
              "1          Canada  0.851033  ...      0.271180      0.390755\n",
              "2   United States -0.304710  ...      0.444261      0.672929\n",
              "3  United Kingdom  0.406517  ...     -0.367401      1.501999\n",
              "4         Germany  0.584324  ...     -0.682765      1.059828\n",
              "\n",
              "[5 rows x 11 columns]"
            ]
          },
          "metadata": {},
          "execution_count": 60
        }
      ]
    },
    {
      "cell_type": "code",
      "metadata": {
        "colab": {
          "base_uri": "https://localhost:8080/"
        },
        "id": "Don-M_oA5zYQ",
        "outputId": "12254f2f-802e-4d06-d8cd-54b38fbcc825"
      },
      "source": [
        "df['Education'].unique()"
      ],
      "execution_count": null,
      "outputs": [
        {
          "output_type": "execute_result",
          "data": {
            "text/plain": [
              "array([0, 3, 2, 4, 1])"
            ]
          },
          "metadata": {},
          "execution_count": 62
        }
      ]
    },
    {
      "cell_type": "code",
      "metadata": {
        "colab": {
          "base_uri": "https://localhost:8080/"
        },
        "id": "1Li62wGY53q7",
        "outputId": "5df8c1d8-0edc-4462-f682-027c814cb382"
      },
      "source": [
        "df['Occupation'].unique()"
      ],
      "execution_count": null,
      "outputs": [
        {
          "output_type": "execute_result",
          "data": {
            "text/plain": [
              "array(['Clerical', 'Skilled Manual', 'Manual', 'Management',\n",
              "       'Professional'], dtype=object)"
            ]
          },
          "metadata": {},
          "execution_count": 63
        }
      ]
    },
    {
      "cell_type": "code",
      "metadata": {
        "colab": {
          "base_uri": "https://localhost:8080/"
        },
        "id": "OgAS4HhM56-C",
        "outputId": "7b3e57b1-cba9-456d-e050-0dbcefd0c7dc"
      },
      "source": [
        "df['Country'].unique()"
      ],
      "execution_count": null,
      "outputs": [
        {
          "output_type": "execute_result",
          "data": {
            "text/plain": [
              "array(['Australia', 'Canada', 'United States', 'United Kingdom',\n",
              "       'Germany', 'France'], dtype=object)"
            ]
          },
          "metadata": {},
          "execution_count": 64
        }
      ]
    },
    {
      "cell_type": "code",
      "metadata": {
        "id": "tCH6gBZp5-Rs"
      },
      "source": [
        "#from sklearn.preprocessing import OneHotEncoder\n",
        "#from sklearn.compose import ColumnTransformer\n",
        "#onehotencoder = OneHotEncoder()  \n",
        "#columnTransformer = ColumnTransformer([('encoder',OneHotEncoder(),[0])],remainder='passthrough')\n",
        "#df = np.array(columnTransformer.fit_transform(dataset), dtype = np.str)\n",
        "df1= pd.get_dummies(df.Country,drop_first=True)\n",
        "df2= pd.get_dummies(df.Occupation,drop_first=True)\n",
        "df=pd.concat([df,df1,df2],axis=1)\n"
      ],
      "execution_count": null,
      "outputs": []
    },
    {
      "cell_type": "code",
      "metadata": {
        "colab": {
          "base_uri": "https://localhost:8080/",
          "height": 571
        },
        "id": "_Tv9dQYh6Pzf",
        "outputId": "8eace264-e2f7-4358-84ab-ef6f1b8cca0a"
      },
      "source": [
        "df"
      ],
      "execution_count": null,
      "outputs": [
        {
          "output_type": "execute_result",
          "data": {
            "text/html": [
              "<div>\n",
              "<style scoped>\n",
              "    .dataframe tbody tr th:only-of-type {\n",
              "        vertical-align: middle;\n",
              "    }\n",
              "\n",
              "    .dataframe tbody tr th {\n",
              "        vertical-align: top;\n",
              "    }\n",
              "\n",
              "    .dataframe thead th {\n",
              "        text-align: right;\n",
              "    }\n",
              "</style>\n",
              "<table border=\"1\" class=\"dataframe\">\n",
              "  <thead>\n",
              "    <tr style=\"text-align: right;\">\n",
              "      <th></th>\n",
              "      <th>Country</th>\n",
              "      <th>Age</th>\n",
              "      <th>Education</th>\n",
              "      <th>Occupation</th>\n",
              "      <th>Gender</th>\n",
              "      <th>MaritalStatus</th>\n",
              "      <th>HomeOwnerFlag</th>\n",
              "      <th>NumberCarsOwned</th>\n",
              "      <th>NumberChildrenAtHome</th>\n",
              "      <th>YearlyIncome</th>\n",
              "      <th>AvgMonthSpend</th>\n",
              "      <th>Canada</th>\n",
              "      <th>France</th>\n",
              "      <th>Germany</th>\n",
              "      <th>United Kingdom</th>\n",
              "      <th>United States</th>\n",
              "      <th>Management</th>\n",
              "      <th>Manual</th>\n",
              "      <th>Professional</th>\n",
              "      <th>Skilled Manual</th>\n",
              "      <th>Canada</th>\n",
              "      <th>France</th>\n",
              "      <th>Germany</th>\n",
              "      <th>United Kingdom</th>\n",
              "      <th>United States</th>\n",
              "      <th>Management</th>\n",
              "      <th>Manual</th>\n",
              "      <th>Professional</th>\n",
              "      <th>Skilled Manual</th>\n",
              "      <th>Canada</th>\n",
              "      <th>France</th>\n",
              "      <th>Germany</th>\n",
              "      <th>United Kingdom</th>\n",
              "      <th>United States</th>\n",
              "      <th>Management</th>\n",
              "      <th>Manual</th>\n",
              "      <th>Professional</th>\n",
              "      <th>Skilled Manual</th>\n",
              "    </tr>\n",
              "  </thead>\n",
              "  <tbody>\n",
              "    <tr>\n",
              "      <th>0</th>\n",
              "      <td>Australia</td>\n",
              "      <td>-0.482516</td>\n",
              "      <td>0</td>\n",
              "      <td>Clerical</td>\n",
              "      <td>0</td>\n",
              "      <td>1</td>\n",
              "      <td>1</td>\n",
              "      <td>3</td>\n",
              "      <td>0</td>\n",
              "      <td>0.298555</td>\n",
              "      <td>-0.231774</td>\n",
              "      <td>0</td>\n",
              "      <td>0</td>\n",
              "      <td>0</td>\n",
              "      <td>0</td>\n",
              "      <td>0</td>\n",
              "      <td>0</td>\n",
              "      <td>0</td>\n",
              "      <td>0</td>\n",
              "      <td>0</td>\n",
              "      <td>0</td>\n",
              "      <td>0</td>\n",
              "      <td>0</td>\n",
              "      <td>0</td>\n",
              "      <td>0</td>\n",
              "      <td>0</td>\n",
              "      <td>0</td>\n",
              "      <td>0</td>\n",
              "      <td>0</td>\n",
              "      <td>0</td>\n",
              "      <td>0</td>\n",
              "      <td>0</td>\n",
              "      <td>0</td>\n",
              "      <td>0</td>\n",
              "      <td>0</td>\n",
              "      <td>0</td>\n",
              "      <td>0</td>\n",
              "      <td>0</td>\n",
              "    </tr>\n",
              "    <tr>\n",
              "      <th>1</th>\n",
              "      <td>Canada</td>\n",
              "      <td>0.851033</td>\n",
              "      <td>3</td>\n",
              "      <td>Clerical</td>\n",
              "      <td>0</td>\n",
              "      <td>1</td>\n",
              "      <td>1</td>\n",
              "      <td>2</td>\n",
              "      <td>1</td>\n",
              "      <td>0.271180</td>\n",
              "      <td>0.390755</td>\n",
              "      <td>1</td>\n",
              "      <td>0</td>\n",
              "      <td>0</td>\n",
              "      <td>0</td>\n",
              "      <td>0</td>\n",
              "      <td>0</td>\n",
              "      <td>0</td>\n",
              "      <td>0</td>\n",
              "      <td>0</td>\n",
              "      <td>1</td>\n",
              "      <td>0</td>\n",
              "      <td>0</td>\n",
              "      <td>0</td>\n",
              "      <td>0</td>\n",
              "      <td>0</td>\n",
              "      <td>0</td>\n",
              "      <td>0</td>\n",
              "      <td>0</td>\n",
              "      <td>1</td>\n",
              "      <td>0</td>\n",
              "      <td>0</td>\n",
              "      <td>0</td>\n",
              "      <td>0</td>\n",
              "      <td>0</td>\n",
              "      <td>0</td>\n",
              "      <td>0</td>\n",
              "      <td>0</td>\n",
              "    </tr>\n",
              "    <tr>\n",
              "      <th>2</th>\n",
              "      <td>United States</td>\n",
              "      <td>-0.304710</td>\n",
              "      <td>0</td>\n",
              "      <td>Clerical</td>\n",
              "      <td>1</td>\n",
              "      <td>0</td>\n",
              "      <td>0</td>\n",
              "      <td>3</td>\n",
              "      <td>0</td>\n",
              "      <td>0.444261</td>\n",
              "      <td>0.672929</td>\n",
              "      <td>0</td>\n",
              "      <td>0</td>\n",
              "      <td>0</td>\n",
              "      <td>0</td>\n",
              "      <td>1</td>\n",
              "      <td>0</td>\n",
              "      <td>0</td>\n",
              "      <td>0</td>\n",
              "      <td>0</td>\n",
              "      <td>0</td>\n",
              "      <td>0</td>\n",
              "      <td>0</td>\n",
              "      <td>0</td>\n",
              "      <td>1</td>\n",
              "      <td>0</td>\n",
              "      <td>0</td>\n",
              "      <td>0</td>\n",
              "      <td>0</td>\n",
              "      <td>0</td>\n",
              "      <td>0</td>\n",
              "      <td>0</td>\n",
              "      <td>0</td>\n",
              "      <td>1</td>\n",
              "      <td>0</td>\n",
              "      <td>0</td>\n",
              "      <td>0</td>\n",
              "      <td>0</td>\n",
              "    </tr>\n",
              "    <tr>\n",
              "      <th>3</th>\n",
              "      <td>United Kingdom</td>\n",
              "      <td>0.406517</td>\n",
              "      <td>3</td>\n",
              "      <td>Skilled Manual</td>\n",
              "      <td>0</td>\n",
              "      <td>1</td>\n",
              "      <td>1</td>\n",
              "      <td>2</td>\n",
              "      <td>1</td>\n",
              "      <td>-0.367401</td>\n",
              "      <td>1.501999</td>\n",
              "      <td>0</td>\n",
              "      <td>0</td>\n",
              "      <td>0</td>\n",
              "      <td>1</td>\n",
              "      <td>0</td>\n",
              "      <td>0</td>\n",
              "      <td>0</td>\n",
              "      <td>0</td>\n",
              "      <td>1</td>\n",
              "      <td>0</td>\n",
              "      <td>0</td>\n",
              "      <td>0</td>\n",
              "      <td>1</td>\n",
              "      <td>0</td>\n",
              "      <td>0</td>\n",
              "      <td>0</td>\n",
              "      <td>0</td>\n",
              "      <td>1</td>\n",
              "      <td>0</td>\n",
              "      <td>0</td>\n",
              "      <td>0</td>\n",
              "      <td>1</td>\n",
              "      <td>0</td>\n",
              "      <td>0</td>\n",
              "      <td>0</td>\n",
              "      <td>0</td>\n",
              "      <td>1</td>\n",
              "    </tr>\n",
              "    <tr>\n",
              "      <th>4</th>\n",
              "      <td>Germany</td>\n",
              "      <td>0.584324</td>\n",
              "      <td>3</td>\n",
              "      <td>Skilled Manual</td>\n",
              "      <td>0</td>\n",
              "      <td>0</td>\n",
              "      <td>1</td>\n",
              "      <td>1</td>\n",
              "      <td>0</td>\n",
              "      <td>-0.682765</td>\n",
              "      <td>1.059828</td>\n",
              "      <td>0</td>\n",
              "      <td>0</td>\n",
              "      <td>1</td>\n",
              "      <td>0</td>\n",
              "      <td>0</td>\n",
              "      <td>0</td>\n",
              "      <td>0</td>\n",
              "      <td>0</td>\n",
              "      <td>1</td>\n",
              "      <td>0</td>\n",
              "      <td>0</td>\n",
              "      <td>1</td>\n",
              "      <td>0</td>\n",
              "      <td>0</td>\n",
              "      <td>0</td>\n",
              "      <td>0</td>\n",
              "      <td>0</td>\n",
              "      <td>1</td>\n",
              "      <td>0</td>\n",
              "      <td>0</td>\n",
              "      <td>1</td>\n",
              "      <td>0</td>\n",
              "      <td>0</td>\n",
              "      <td>0</td>\n",
              "      <td>0</td>\n",
              "      <td>0</td>\n",
              "      <td>1</td>\n",
              "    </tr>\n",
              "    <tr>\n",
              "      <th>...</th>\n",
              "      <td>...</td>\n",
              "      <td>...</td>\n",
              "      <td>...</td>\n",
              "      <td>...</td>\n",
              "      <td>...</td>\n",
              "      <td>...</td>\n",
              "      <td>...</td>\n",
              "      <td>...</td>\n",
              "      <td>...</td>\n",
              "      <td>...</td>\n",
              "      <td>...</td>\n",
              "      <td>...</td>\n",
              "      <td>...</td>\n",
              "      <td>...</td>\n",
              "      <td>...</td>\n",
              "      <td>...</td>\n",
              "      <td>...</td>\n",
              "      <td>...</td>\n",
              "      <td>...</td>\n",
              "      <td>...</td>\n",
              "      <td>...</td>\n",
              "      <td>...</td>\n",
              "      <td>...</td>\n",
              "      <td>...</td>\n",
              "      <td>...</td>\n",
              "      <td>...</td>\n",
              "      <td>...</td>\n",
              "      <td>...</td>\n",
              "      <td>...</td>\n",
              "      <td>...</td>\n",
              "      <td>...</td>\n",
              "      <td>...</td>\n",
              "      <td>...</td>\n",
              "      <td>...</td>\n",
              "      <td>...</td>\n",
              "      <td>...</td>\n",
              "      <td>...</td>\n",
              "      <td>...</td>\n",
              "    </tr>\n",
              "    <tr>\n",
              "      <th>18356</th>\n",
              "      <td>United States</td>\n",
              "      <td>-0.749226</td>\n",
              "      <td>1</td>\n",
              "      <td>Skilled Manual</td>\n",
              "      <td>1</td>\n",
              "      <td>1</td>\n",
              "      <td>0</td>\n",
              "      <td>1</td>\n",
              "      <td>0</td>\n",
              "      <td>-0.645321</td>\n",
              "      <td>-1.055025</td>\n",
              "      <td>0</td>\n",
              "      <td>0</td>\n",
              "      <td>0</td>\n",
              "      <td>0</td>\n",
              "      <td>1</td>\n",
              "      <td>0</td>\n",
              "      <td>0</td>\n",
              "      <td>0</td>\n",
              "      <td>1</td>\n",
              "      <td>0</td>\n",
              "      <td>0</td>\n",
              "      <td>0</td>\n",
              "      <td>0</td>\n",
              "      <td>1</td>\n",
              "      <td>0</td>\n",
              "      <td>0</td>\n",
              "      <td>0</td>\n",
              "      <td>1</td>\n",
              "      <td>0</td>\n",
              "      <td>0</td>\n",
              "      <td>0</td>\n",
              "      <td>0</td>\n",
              "      <td>1</td>\n",
              "      <td>0</td>\n",
              "      <td>0</td>\n",
              "      <td>0</td>\n",
              "      <td>1</td>\n",
              "    </tr>\n",
              "    <tr>\n",
              "      <th>18357</th>\n",
              "      <td>Australia</td>\n",
              "      <td>-0.927033</td>\n",
              "      <td>0</td>\n",
              "      <td>Skilled Manual</td>\n",
              "      <td>1</td>\n",
              "      <td>0</td>\n",
              "      <td>0</td>\n",
              "      <td>2</td>\n",
              "      <td>0</td>\n",
              "      <td>-0.383337</td>\n",
              "      <td>-0.447041</td>\n",
              "      <td>0</td>\n",
              "      <td>0</td>\n",
              "      <td>0</td>\n",
              "      <td>0</td>\n",
              "      <td>0</td>\n",
              "      <td>0</td>\n",
              "      <td>0</td>\n",
              "      <td>0</td>\n",
              "      <td>1</td>\n",
              "      <td>0</td>\n",
              "      <td>0</td>\n",
              "      <td>0</td>\n",
              "      <td>0</td>\n",
              "      <td>0</td>\n",
              "      <td>0</td>\n",
              "      <td>0</td>\n",
              "      <td>0</td>\n",
              "      <td>1</td>\n",
              "      <td>0</td>\n",
              "      <td>0</td>\n",
              "      <td>0</td>\n",
              "      <td>0</td>\n",
              "      <td>0</td>\n",
              "      <td>0</td>\n",
              "      <td>0</td>\n",
              "      <td>0</td>\n",
              "      <td>1</td>\n",
              "    </tr>\n",
              "    <tr>\n",
              "      <th>18358</th>\n",
              "      <td>United States</td>\n",
              "      <td>-0.126903</td>\n",
              "      <td>3</td>\n",
              "      <td>Skilled Manual</td>\n",
              "      <td>1</td>\n",
              "      <td>0</td>\n",
              "      <td>0</td>\n",
              "      <td>2</td>\n",
              "      <td>0</td>\n",
              "      <td>-0.680973</td>\n",
              "      <td>-0.641945</td>\n",
              "      <td>0</td>\n",
              "      <td>0</td>\n",
              "      <td>0</td>\n",
              "      <td>0</td>\n",
              "      <td>1</td>\n",
              "      <td>0</td>\n",
              "      <td>0</td>\n",
              "      <td>0</td>\n",
              "      <td>1</td>\n",
              "      <td>0</td>\n",
              "      <td>0</td>\n",
              "      <td>0</td>\n",
              "      <td>0</td>\n",
              "      <td>1</td>\n",
              "      <td>0</td>\n",
              "      <td>0</td>\n",
              "      <td>0</td>\n",
              "      <td>1</td>\n",
              "      <td>0</td>\n",
              "      <td>0</td>\n",
              "      <td>0</td>\n",
              "      <td>0</td>\n",
              "      <td>1</td>\n",
              "      <td>0</td>\n",
              "      <td>0</td>\n",
              "      <td>0</td>\n",
              "      <td>1</td>\n",
              "    </tr>\n",
              "    <tr>\n",
              "      <th>18359</th>\n",
              "      <td>Canada</td>\n",
              "      <td>-1.193743</td>\n",
              "      <td>2</td>\n",
              "      <td>Clerical</td>\n",
              "      <td>1</td>\n",
              "      <td>0</td>\n",
              "      <td>0</td>\n",
              "      <td>0</td>\n",
              "      <td>0</td>\n",
              "      <td>0.470006</td>\n",
              "      <td>-0.100868</td>\n",
              "      <td>1</td>\n",
              "      <td>0</td>\n",
              "      <td>0</td>\n",
              "      <td>0</td>\n",
              "      <td>0</td>\n",
              "      <td>0</td>\n",
              "      <td>0</td>\n",
              "      <td>0</td>\n",
              "      <td>0</td>\n",
              "      <td>1</td>\n",
              "      <td>0</td>\n",
              "      <td>0</td>\n",
              "      <td>0</td>\n",
              "      <td>0</td>\n",
              "      <td>0</td>\n",
              "      <td>0</td>\n",
              "      <td>0</td>\n",
              "      <td>0</td>\n",
              "      <td>1</td>\n",
              "      <td>0</td>\n",
              "      <td>0</td>\n",
              "      <td>0</td>\n",
              "      <td>0</td>\n",
              "      <td>0</td>\n",
              "      <td>0</td>\n",
              "      <td>0</td>\n",
              "      <td>0</td>\n",
              "    </tr>\n",
              "    <tr>\n",
              "      <th>18360</th>\n",
              "      <td>United States</td>\n",
              "      <td>-0.393613</td>\n",
              "      <td>1</td>\n",
              "      <td>Professional</td>\n",
              "      <td>1</td>\n",
              "      <td>1</td>\n",
              "      <td>1</td>\n",
              "      <td>2</td>\n",
              "      <td>0</td>\n",
              "      <td>2.088996</td>\n",
              "      <td>0.146398</td>\n",
              "      <td>0</td>\n",
              "      <td>0</td>\n",
              "      <td>0</td>\n",
              "      <td>0</td>\n",
              "      <td>1</td>\n",
              "      <td>0</td>\n",
              "      <td>0</td>\n",
              "      <td>1</td>\n",
              "      <td>0</td>\n",
              "      <td>0</td>\n",
              "      <td>0</td>\n",
              "      <td>0</td>\n",
              "      <td>0</td>\n",
              "      <td>1</td>\n",
              "      <td>0</td>\n",
              "      <td>0</td>\n",
              "      <td>1</td>\n",
              "      <td>0</td>\n",
              "      <td>0</td>\n",
              "      <td>0</td>\n",
              "      <td>0</td>\n",
              "      <td>0</td>\n",
              "      <td>1</td>\n",
              "      <td>0</td>\n",
              "      <td>0</td>\n",
              "      <td>1</td>\n",
              "      <td>0</td>\n",
              "    </tr>\n",
              "  </tbody>\n",
              "</table>\n",
              "<p>18361 rows × 38 columns</p>\n",
              "</div>"
            ],
            "text/plain": [
              "              Country       Age  ...  Professional Skilled Manual\n",
              "0           Australia -0.482516  ...             0              0\n",
              "1              Canada  0.851033  ...             0              0\n",
              "2       United States -0.304710  ...             0              0\n",
              "3      United Kingdom  0.406517  ...             0              1\n",
              "4             Germany  0.584324  ...             0              1\n",
              "...               ...       ...  ...           ...            ...\n",
              "18356   United States -0.749226  ...             0              1\n",
              "18357       Australia -0.927033  ...             0              1\n",
              "18358   United States -0.126903  ...             0              1\n",
              "18359          Canada -1.193743  ...             0              0\n",
              "18360   United States -0.393613  ...             1              0\n",
              "\n",
              "[18361 rows x 38 columns]"
            ]
          },
          "metadata": {},
          "execution_count": 68
        }
      ]
    },
    {
      "cell_type": "code",
      "metadata": {
        "id": "rbnhGMW06xnV"
      },
      "source": [
        "df.drop(columns=['Country','Occupation'],inplace=True)"
      ],
      "execution_count": null,
      "outputs": []
    },
    {
      "cell_type": "markdown",
      "metadata": {
        "id": "SXlxQhT261bv"
      },
      "source": [
        "***Part III: Calculating Proximity /Correlation Analysis of two features***"
      ]
    },
    {
      "cell_type": "markdown",
      "metadata": {
        "id": "6F0Vgr458euZ"
      },
      "source": [
        "(A) Calculate Similarity in Simple Matching, Jaccard Similarity, and Cosine Similarity between two \n",
        "following objects of your transformed input data. "
      ]
    },
    {
      "cell_type": "code",
      "metadata": {
        "id": "vUAF_YKP6738"
      },
      "source": [
        "def SMC(x,y):\n",
        "    x,y = x.values, y.values\n",
        "    return np.sum(x==y)/len(x)"
      ],
      "execution_count": null,
      "outputs": []
    },
    {
      "cell_type": "code",
      "metadata": {
        "colab": {
          "base_uri": "https://localhost:8080/"
        },
        "id": "LGPbpYth7HBE",
        "outputId": "4ed8f2ab-d315-44a0-aeec-0b30be69d1f7"
      },
      "source": [
        "df.isnull().sum()"
      ],
      "execution_count": null,
      "outputs": [
        {
          "output_type": "execute_result",
          "data": {
            "text/plain": [
              "Age                     0\n",
              "Education               0\n",
              "Gender                  0\n",
              "MaritalStatus           0\n",
              "HomeOwnerFlag           0\n",
              "NumberCarsOwned         0\n",
              "NumberChildrenAtHome    0\n",
              "YearlyIncome            0\n",
              "AvgMonthSpend           0\n",
              "Canada                  0\n",
              "France                  0\n",
              "Germany                 0\n",
              "United Kingdom          0\n",
              "United States           0\n",
              "Management              0\n",
              "Manual                  0\n",
              "Professional            0\n",
              "Skilled Manual          0\n",
              "Canada                  0\n",
              "France                  0\n",
              "Germany                 0\n",
              "United Kingdom          0\n",
              "United States           0\n",
              "Management              0\n",
              "Manual                  0\n",
              "Professional            0\n",
              "Skilled Manual          0\n",
              "Canada                  0\n",
              "France                  0\n",
              "Germany                 0\n",
              "United Kingdom          0\n",
              "United States           0\n",
              "Management              0\n",
              "Manual                  0\n",
              "Professional            0\n",
              "Skilled Manual          0\n",
              "dtype: int64"
            ]
          },
          "metadata": {},
          "execution_count": 71
        }
      ]
    },
    {
      "cell_type": "code",
      "metadata": {
        "colab": {
          "base_uri": "https://localhost:8080/"
        },
        "id": "iHhFzD1D7LC7",
        "outputId": "57319c40-473d-4b3c-e9c3-723b1442d47f"
      },
      "source": [
        "df.info()"
      ],
      "execution_count": null,
      "outputs": [
        {
          "output_type": "stream",
          "name": "stdout",
          "text": [
            "<class 'pandas.core.frame.DataFrame'>\n",
            "Int64Index: 18361 entries, 0 to 18360\n",
            "Data columns (total 36 columns):\n",
            " #   Column                Non-Null Count  Dtype  \n",
            "---  ------                --------------  -----  \n",
            " 0   Age                   18361 non-null  float64\n",
            " 1   Education             18361 non-null  int64  \n",
            " 2   Gender                18361 non-null  object \n",
            " 3   MaritalStatus         18361 non-null  object \n",
            " 4   HomeOwnerFlag         18361 non-null  int64  \n",
            " 5   NumberCarsOwned       18361 non-null  int64  \n",
            " 6   NumberChildrenAtHome  18361 non-null  int64  \n",
            " 7   YearlyIncome          18361 non-null  float64\n",
            " 8   AvgMonthSpend         18361 non-null  float64\n",
            " 9   Canada                18361 non-null  uint8  \n",
            " 10  France                18361 non-null  uint8  \n",
            " 11  Germany               18361 non-null  uint8  \n",
            " 12  United Kingdom        18361 non-null  uint8  \n",
            " 13  United States         18361 non-null  uint8  \n",
            " 14  Management            18361 non-null  uint8  \n",
            " 15  Manual                18361 non-null  uint8  \n",
            " 16  Professional          18361 non-null  uint8  \n",
            " 17  Skilled Manual        18361 non-null  uint8  \n",
            " 18  Canada                18361 non-null  uint8  \n",
            " 19  France                18361 non-null  uint8  \n",
            " 20  Germany               18361 non-null  uint8  \n",
            " 21  United Kingdom        18361 non-null  uint8  \n",
            " 22  United States         18361 non-null  uint8  \n",
            " 23  Management            18361 non-null  uint8  \n",
            " 24  Manual                18361 non-null  uint8  \n",
            " 25  Professional          18361 non-null  uint8  \n",
            " 26  Skilled Manual        18361 non-null  uint8  \n",
            " 27  Canada                18361 non-null  uint8  \n",
            " 28  France                18361 non-null  uint8  \n",
            " 29  Germany               18361 non-null  uint8  \n",
            " 30  United Kingdom        18361 non-null  uint8  \n",
            " 31  United States         18361 non-null  uint8  \n",
            " 32  Management            18361 non-null  uint8  \n",
            " 33  Manual                18361 non-null  uint8  \n",
            " 34  Professional          18361 non-null  uint8  \n",
            " 35  Skilled Manual        18361 non-null  uint8  \n",
            "dtypes: float64(3), int64(4), object(2), uint8(27)\n",
            "memory usage: 2.5+ MB\n"
          ]
        }
      ]
    },
    {
      "cell_type": "code",
      "metadata": {
        "colab": {
          "base_uri": "https://localhost:8080/"
        },
        "id": "NEvNcGkz7OAA",
        "outputId": "9dcaaf65-cbb7-460b-cafd-6710b9d14cf7"
      },
      "source": [
        "print(df['HomeOwnerFlag'].unique())\n",
        "print(df['Gender'].unique())"
      ],
      "execution_count": null,
      "outputs": [
        {
          "output_type": "stream",
          "name": "stdout",
          "text": [
            "[1 0]\n",
            "[0 1]\n"
          ]
        }
      ]
    },
    {
      "cell_type": "code",
      "metadata": {
        "colab": {
          "base_uri": "https://localhost:8080/"
        },
        "id": "k3NMPi007y4i",
        "outputId": "ccd3a321-cbe3-46d4-9ab7-155a4cf9562e"
      },
      "source": [
        "#Calculate similarity between HomeOwnerFlag and Gender\n",
        "from sklearn.metrics import jaccard_score\n",
        "from scipy.spatial.distance import cosine\n",
        "print('Simple Matching Coefficient:',SMC(df['HomeOwnerFlag'], df['Gender']))\n",
        "#print('Jaccard Similarity Score:',jaccard_score(df['Canada'], df['France']))\n",
        "#print('Cosine Similarity Score:',1-cosine(df['Canada'], df['United Kingdom']))"
      ],
      "execution_count": null,
      "outputs": [
        {
          "output_type": "stream",
          "name": "stdout",
          "text": [
            "Simple Matching Coefficient: 0.4938728827405915\n"
          ]
        }
      ]
    },
    {
      "cell_type": "markdown",
      "metadata": {
        "id": "OszAna9U8hbh"
      },
      "source": [
        "(B) Making a correlation heatmap between all features using seaborn and matplot library"
      ]
    },
    {
      "cell_type": "code",
      "metadata": {
        "colab": {
          "base_uri": "https://localhost:8080/",
          "height": 381
        },
        "id": "70K8zZgB8K7z",
        "outputId": "6c1bc7a1-3679-4e93-efff-8249b97c28f0"
      },
      "source": [
        "import seaborn as sns \n",
        "import matplotlib.pyplot as plt\n",
        "\n",
        "covar_mat=df.corr()\n",
        "sns.heatmap(covar_mat)\n",
        "plt.show()"
      ],
      "execution_count": null,
      "outputs": [
        {
          "output_type": "display_data",
          "data": {
            "image/png": "[encoded data removed]",
            "text/plain": [
              "<Figure size 432x288 with 2 Axes>"
            ]
          },
          "metadata": {
            "needs_background": "light"
          }
        }
      ]
    }
  ]
}