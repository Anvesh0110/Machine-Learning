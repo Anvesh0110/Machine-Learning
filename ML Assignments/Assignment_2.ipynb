{
  "nbformat": 4,
  "nbformat_minor": 0,
  "metadata": {
    "colab": {
      "name": "Assignment 2.ipynb",
      "provenance": []
    },
    "kernelspec": {
      "name": "python3",
      "display_name": "Python 3"
    },
    "language_info": {
      "name": "python"
    }
  },
  "cells": [
    {
      "cell_type": "markdown",
      "metadata": {
        "id": "eP15uuofrEU5"
      },
      "source": [
        "# Assignment 2 - NumPy"
      ]
    },
    {
      "cell_type": "markdown",
      "metadata": {
        "id": "u-eIbscmMau6"
      },
      "source": [
        "Q1. Create an array of 10 fives\n"
      ]
    },
    {
      "cell_type": "code",
      "metadata": {
        "colab": {
          "base_uri": "https://localhost:8080/"
        },
        "id": "jTPXVx8HMe-K",
        "outputId": "b05c98a4-0648-453b-ef93-2be4c12cafac"
      },
      "source": [
        "import numpy as np\n",
        "arr = np.zeros(10)\n",
        "arr+5"
      ],
      "execution_count": 19,
      "outputs": [
        {
          "output_type": "execute_result",
          "data": {
            "text/plain": [
              "array([5., 5., 5., 5., 5., 5., 5., 5., 5., 5.])"
            ]
          },
          "metadata": {},
          "execution_count": 19
        }
      ]
    },
    {
      "cell_type": "markdown",
      "metadata": {
        "id": "Vnhu76GjUASk"
      },
      "source": [
        "Q2. Create an array of the integers from 10 to 50"
      ]
    },
    {
      "cell_type": "code",
      "metadata": {
        "colab": {
          "base_uri": "https://localhost:8080/"
        },
        "id": "zJT_yX3XUNUC",
        "outputId": "9eee0ccc-1dca-4c0a-91bd-83ea41868475"
      },
      "source": [
        "import numpy as np\n",
        "arr = np.arange(10,51)\n",
        "arr"
      ],
      "execution_count": 20,
      "outputs": [
        {
          "output_type": "execute_result",
          "data": {
            "text/plain": [
              "array([10, 11, 12, 13, 14, 15, 16, 17, 18, 19, 20, 21, 22, 23, 24, 25, 26,\n",
              "       27, 28, 29, 30, 31, 32, 33, 34, 35, 36, 37, 38, 39, 40, 41, 42, 43,\n",
              "       44, 45, 46, 47, 48, 49, 50])"
            ]
          },
          "metadata": {},
          "execution_count": 20
        }
      ]
    },
    {
      "cell_type": "markdown",
      "metadata": {
        "id": "YWa-i0bZZEsx"
      },
      "source": [
        "Q3. Create an array of all the even integers from 10 to 50"
      ]
    },
    {
      "cell_type": "code",
      "metadata": {
        "colab": {
          "base_uri": "https://localhost:8080/"
        },
        "id": "LFVnKVn7ZG2q",
        "outputId": "60a0352c-4f5e-4df5-a906-a493285c2a82"
      },
      "source": [
        "import numpy as np\n",
        "arr = np.arange(10,51,2)\n",
        "arr"
      ],
      "execution_count": 21,
      "outputs": [
        {
          "output_type": "execute_result",
          "data": {
            "text/plain": [
              "array([10, 12, 14, 16, 18, 20, 22, 24, 26, 28, 30, 32, 34, 36, 38, 40, 42,\n",
              "       44, 46, 48, 50])"
            ]
          },
          "metadata": {},
          "execution_count": 21
        }
      ]
    },
    {
      "cell_type": "markdown",
      "metadata": {
        "id": "o4vYRXZ9ZWFq"
      },
      "source": [
        "Q4. Create a 3x3 matrix with values ranging from 0 to 8\n"
      ]
    },
    {
      "cell_type": "code",
      "metadata": {
        "colab": {
          "base_uri": "https://localhost:8080/"
        },
        "id": "uPy9_cT-ZYai",
        "outputId": "802befd4-4693-4382-dcf7-23098e6aca4d"
      },
      "source": [
        "import numpy as np\n",
        "arr=np.arange(0,9)\n",
        "arr=arr.reshape(3,3)\n",
        "arr\n"
      ],
      "execution_count": 22,
      "outputs": [
        {
          "output_type": "execute_result",
          "data": {
            "text/plain": [
              "array([[0, 1, 2],\n",
              "       [3, 4, 5],\n",
              "       [6, 7, 8]])"
            ]
          },
          "metadata": {},
          "execution_count": 22
        }
      ]
    },
    {
      "cell_type": "markdown",
      "metadata": {
        "id": "YGaNAPU0ZzOT"
      },
      "source": [
        "Q5. Use NumPy to generate an array of 25 random numbers sampled from a standard normal distribution"
      ]
    },
    {
      "cell_type": "code",
      "metadata": {
        "colab": {
          "base_uri": "https://localhost:8080/"
        },
        "id": "oPsT2HmsZ6kV",
        "outputId": "199b87a1-2203-4750-8849-697cd95a27dd"
      },
      "source": [
        "import numpy as np\n",
        "arr=np.random.normal(0,100,25)\n",
        "arr"
      ],
      "execution_count": 23,
      "outputs": [
        {
          "output_type": "execute_result",
          "data": {
            "text/plain": [
              "array([ -80.17636029,  -31.57546258,  -29.99160371,  -14.89471415,\n",
              "         30.18629833,   28.80182394,    3.78667865,   50.45810715,\n",
              "        -46.18977932, -145.87071893,   63.75657833,  -99.32287939,\n",
              "         53.88289552,   51.25564647,  -15.76724737, -112.61023833,\n",
              "         22.74603842,   53.54873439, -112.18250651,  102.11194898,\n",
              "        175.53609519,  -44.36795531,   59.99124586,  -78.59968765,\n",
              "        162.2413895 ])"
            ]
          },
          "metadata": {},
          "execution_count": 23
        }
      ]
    },
    {
      "cell_type": "markdown",
      "metadata": {
        "id": "KSB6Bu2tbcCs"
      },
      "source": [
        "Q6. Create the following array:\n",
        "\n",
        "array([0. , 0.01, 0.02, 0.03, 0.04, 0.05, 0.06, 0.07, 0.08, 0.09, 0.1 ,\n",
        " 0.11, 0.12, 0.13, 0.14, 0.15, 0.16, 0.17, 0.18, 0.19, 0.2 , 0.21,\n",
        " 0.22, 0.23, 0.24, 0.25, 0.26, 0.27, 0.28, 0.29, 0.3 , 0.31, 0.32,\n",
        " 0.33, 0.34, 0.35, 0.36, 0.37, 0.38, 0.39, 0.4 , 0.41, 0.42, 0.43,\n",
        " 0.44, 0.45, 0.46, 0.47, 0.48, 0.49, 0.5 , 0.51, 0.52, 0.53, 0.54,\n",
        " 0.55, 0.56, 0.57, 0.58, 0.59, 0.6 , 0.61, 0.62, 0.63, 0.64, 0.65,\n",
        " 0.66, 0.67, 0.68, 0.69, 0.7 , 0.71, 0.72, 0.73, 0.74, 0.75, 0.76,\n",
        " 0.77, 0.78, 0.79, 0.8 , 0.81, 0.82, 0.83, 0.84, 0.85, 0.86, 0.87,\n",
        " 0.88, 0.89, 0.9 , 0.91, 0.92, 0.93, 0.94, 0.95, 0.96, 0.97, 0.98,\n",
        " 0.99, 1. ])"
      ]
    },
    {
      "cell_type": "code",
      "metadata": {
        "colab": {
          "base_uri": "https://localhost:8080/"
        },
        "id": "C94GKO3KbuUC",
        "outputId": "996b0b9f-33b6-406b-e1be-f86881c62991"
      },
      "source": [
        "import numpy as np\n",
        "arr=np.arange(0,1.01,0.01)\n",
        "arr"
      ],
      "execution_count": 24,
      "outputs": [
        {
          "output_type": "execute_result",
          "data": {
            "text/plain": [
              "array([0.  , 0.01, 0.02, 0.03, 0.04, 0.05, 0.06, 0.07, 0.08, 0.09, 0.1 ,\n",
              "       0.11, 0.12, 0.13, 0.14, 0.15, 0.16, 0.17, 0.18, 0.19, 0.2 , 0.21,\n",
              "       0.22, 0.23, 0.24, 0.25, 0.26, 0.27, 0.28, 0.29, 0.3 , 0.31, 0.32,\n",
              "       0.33, 0.34, 0.35, 0.36, 0.37, 0.38, 0.39, 0.4 , 0.41, 0.42, 0.43,\n",
              "       0.44, 0.45, 0.46, 0.47, 0.48, 0.49, 0.5 , 0.51, 0.52, 0.53, 0.54,\n",
              "       0.55, 0.56, 0.57, 0.58, 0.59, 0.6 , 0.61, 0.62, 0.63, 0.64, 0.65,\n",
              "       0.66, 0.67, 0.68, 0.69, 0.7 , 0.71, 0.72, 0.73, 0.74, 0.75, 0.76,\n",
              "       0.77, 0.78, 0.79, 0.8 , 0.81, 0.82, 0.83, 0.84, 0.85, 0.86, 0.87,\n",
              "       0.88, 0.89, 0.9 , 0.91, 0.92, 0.93, 0.94, 0.95, 0.96, 0.97, 0.98,\n",
              "       0.99, 1.  ])"
            ]
          },
          "metadata": {},
          "execution_count": 24
        }
      ]
    },
    {
      "cell_type": "markdown",
      "metadata": {
        "id": "VWA4jz27cIFq"
      },
      "source": [
        "Q7. Create an array of 20 linearly spaced points between 0 and 1\n"
      ]
    },
    {
      "cell_type": "code",
      "metadata": {
        "colab": {
          "base_uri": "https://localhost:8080/"
        },
        "id": "otk7EsyecMP8",
        "outputId": "50e6ff65-d9f1-411b-c8ee-66c41e475ac1"
      },
      "source": [
        "import numpy as np\n",
        "arr=np.linspace(0,1,20)\n",
        "arr"
      ],
      "execution_count": 25,
      "outputs": [
        {
          "output_type": "execute_result",
          "data": {
            "text/plain": [
              "array([0.        , 0.05263158, 0.10526316, 0.15789474, 0.21052632,\n",
              "       0.26315789, 0.31578947, 0.36842105, 0.42105263, 0.47368421,\n",
              "       0.52631579, 0.57894737, 0.63157895, 0.68421053, 0.73684211,\n",
              "       0.78947368, 0.84210526, 0.89473684, 0.94736842, 1.        ])"
            ]
          },
          "metadata": {},
          "execution_count": 25
        }
      ]
    },
    {
      "cell_type": "markdown",
      "metadata": {
        "id": "Jbx4jn3Tc8jK"
      },
      "source": [
        "Q8. Generate the following matrix :\n",
        "\n",
        "array([[ 1, 2, 3, 4, 5],\n",
        " [ 6, 7, 8, 9, 10],\n",
        " [11, 12, 13, 14, 15],\n",
        " [16, 17, 18, 19, 20],\n",
        " [21, 22, 23, 24, 25]])\n",
        "\n",
        "and extract the following using the indexing and slicing :\n",
        "\n",
        "array([[12, 13, 14, 15],\n",
        " [17, 18, 19, 20],\n",
        " [22, 23, 24, 25]])\n",
        "\n",
        "array([[ 2],\n",
        " [ 7],\n",
        " [12]])\n",
        "\n",
        "Get the sum of all the values in mat\n",
        "\n",
        "Get the sum of all the rows and columns in mat\n"
      ]
    },
    {
      "cell_type": "code",
      "metadata": {
        "colab": {
          "base_uri": "https://localhost:8080/"
        },
        "id": "Us6znPpcegMj",
        "outputId": "ad53865b-2688-43ac-a057-ac58e436bcd6"
      },
      "source": [
        "import numpy as np\n",
        "arr=np.arange(1,26)\n",
        "mat=arr.reshape(5,5)\n",
        "print(\"mat = \\n\",mat)\n",
        "print(\"\\n\")\n",
        "\n",
        "arr1=mat[2:,1:]\n",
        "print(\"arr1 = \\n\",arr1)\n",
        "print(\"\\n\")\n",
        "\n",
        "arr2=mat[0:3,1]\n",
        "print(\"arr2 = \\n\",arr2.reshape(3,1))\n",
        "print(\"\\n\")\n",
        "\n",
        "print(\"Sum of all values in matrix : \",np.sum(mat))\n",
        "print(\"\\n\")\n",
        "print(\"Sum of values along row : \",np.sum(mat,axis=1).reshape(5,1))\n",
        "print(\"\\n\")\n",
        "print(\"Sum of values along column : \",np.sum(mat,axis=0).reshape(1,5))"
      ],
      "execution_count": 26,
      "outputs": [
        {
          "output_type": "stream",
          "name": "stdout",
          "text": [
            "mat = \n",
            " [[ 1  2  3  4  5]\n",
            " [ 6  7  8  9 10]\n",
            " [11 12 13 14 15]\n",
            " [16 17 18 19 20]\n",
            " [21 22 23 24 25]]\n",
            "\n",
            "\n",
            "arr1 = \n",
            " [[12 13 14 15]\n",
            " [17 18 19 20]\n",
            " [22 23 24 25]]\n",
            "\n",
            "\n",
            "arr2 = \n",
            " [[ 2]\n",
            " [ 7]\n",
            " [12]]\n",
            "\n",
            "\n",
            "Sum of all values in matrix :  325\n",
            "\n",
            "\n",
            "Sum of values along row :  [[ 15]\n",
            " [ 40]\n",
            " [ 65]\n",
            " [ 90]\n",
            " [115]]\n",
            "\n",
            "\n",
            "Sum of values along column :  [[55 60 65 70 75]]\n"
          ]
        }
      ]
    }
  ]
}