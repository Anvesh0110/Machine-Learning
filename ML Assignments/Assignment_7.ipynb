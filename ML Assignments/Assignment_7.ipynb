{
  "nbformat": 4,
  "nbformat_minor": 0,
  "metadata": {
    "colab": {
      "name": "Assignment 7.ipynb",
      "provenance": []
    },
    "kernelspec": {
      "name": "python3",
      "display_name": "Python 3"
    },
    "language_info": {
      "name": "python"
    }
  },
  "cells": [
    {
      "cell_type": "markdown",
      "metadata": {
        "id": "drKv6cslI_tY"
      },
      "source": [
        "# Assignment 7 - Naive Bayes\n"
      ]
    },
    {
      "cell_type": "markdown",
      "metadata": {
        "id": "J6KGfXZtJEnp"
      },
      "source": [
        "Q1: Gaussian Naïve Bayes Classifier\n",
        "\n",
        "    Implement Gaussian Naïve Bayes Classifier on the Iris dataset or any other relevant dataset from sklearn.datasets using in-built function.\n"
      ]
    },
    {
      "cell_type": "code",
      "metadata": {
        "id": "h61SBxtRJDti"
      },
      "source": [
        "from sklearn.datasets import load_iris\n",
        "from sklearn.model_selection import train_test_split\n",
        "from sklearn.naive_bayes import GaussianNB"
      ],
      "execution_count": null,
      "outputs": []
    },
    {
      "cell_type": "code",
      "metadata": {
        "id": "uinwDNwyKRpF"
      },
      "source": [
        "dataset = load_iris()\n",
        "X = dataset.data\n",
        "Y = dataset.target\n",
        "\n",
        "x_train,x_test,y_train,y_test = train_test_split(X,Y,test_size = 0.25,random_state = 1)\n"
      ],
      "execution_count": null,
      "outputs": []
    },
    {
      "cell_type": "code",
      "metadata": {
        "colab": {
          "base_uri": "https://localhost:8080/"
        },
        "id": "Dmm5vx-yK25K",
        "outputId": "a57f864a-62a9-4101-f47c-4fdd8dd925df"
      },
      "source": [
        "gauss = GaussianNB().fit(x_train,y_train)\n",
        "\n",
        "y_pred = gauss.predict(x_test)\n",
        "print(y_pred)"
      ],
      "execution_count": null,
      "outputs": [
        {
          "output_type": "stream",
          "name": "stdout",
          "text": [
            "[0 1 1 0 2 1 2 0 0 2 1 0 2 1 1 0 1 1 0 0 1 1 2 0 2 1 0 0 1 2 1 2 1 2 2 0 1\n",
            " 0]\n"
          ]
        }
      ]
    },
    {
      "cell_type": "markdown",
      "metadata": {
        "id": "A2TumKamNXoe"
      },
      "source": [
        "Q2. Performance Evaluation of the Classifier:\n",
        "\n",
        "    Evaluate the performance of the classifier using metrics library based on the parameters like confusion matrix, accuracy, precision, recall, F-1 Score, TPR, TNR, FPR and FNR.  \n"
      ]
    },
    {
      "cell_type": "code",
      "metadata": {
        "id": "-3Ab4AyrNdYk"
      },
      "source": [
        "from sklearn.metrics import accuracy_score,confusion_matrix,classification_report"
      ],
      "execution_count": null,
      "outputs": []
    },
    
    {
      "cell_type": "code",
      "metadata": {
        "colab": {
          "base_uri": "https://localhost:8080/"
        },
        "id": "9YZJPqOOPKYI",
        "outputId": "550462ec-a9ae-49f7-df2e-fd22655bebc3"
      },
      "source": [
        "print(\"Gaussian Naive Bayes model accuracy : \",accuracy_score(y_test,y_pred))"
      ],
      "execution_count": null,
      "outputs": [
        {
          "output_type": "stream",
          "name": "stdout",
          "text": [
            "Gaussian Naive Bayes model accuracy :  0.9736842105263158\n"
          ]
        }
      ]
    },
    {
      "cell_type": "code",
      "metadata": {
        "colab": {
          "base_uri": "https://localhost:8080/"
        },
        "id": "DDoDHdfGPjBA",
        "outputId": "cc9a3a14-5eb8-401e-8700-222800dda01e"
      },
      "source": [
        "print(\"Confusion Matrix :\\n\",confusion_matrix(y_test,y_pred,labels=[1,0]))"
      ],
      "execution_count": null,
      "outputs": [
        {
          "output_type": "stream",
          "name": "stdout",
          "text": [
            "Confusion Matrix :\n",
            " [[15  0]\n",
            " [ 0 13]]\n"
          ]
        }
      ]
    },
    {
      "cell_type": "code",
      "metadata": {
        "colab": {
          "base_uri": "https://localhost:8080/"
        },
        "id": "gBuFh_XtQBdz",
        "outputId": "0d6f2ad6-1cfa-406b-dbd9-e29eadfdfefe"
      },
      "source": [
        "# outcome values order in sklearn\n",
        "tp, fn, fp, tn = confusion_matrix(y_test,y_pred,labels=[1,0]).reshape(-1)\n",
        "print('Outcome values : \\n', tp, fn, fp, tn)"
      ],
      "execution_count": null,
      "outputs": [
        {
          "output_type": "stream",
          "name": "stdout",
          "text": [
            "Outcome values : \n",
            " 15 0 0 13\n"
          ]
        }
      ]
    },
    {
      "cell_type": "code",
      "metadata": {
        "colab": {
          "base_uri": "https://localhost:8080/"
        },
        "id": "bYPnDo9pQyTY",
        "outputId": "c70607eb-1d77-460b-ca4f-e613b0793db9"
      },
      "source": [
        "# classification report for precision, recall, f1-score \n",
        "print('Classification report :\\n',classification_report(y_test,y_pred,labels=[1,0]))"
      ],
      "execution_count": null,
      "outputs": [
        {
          "output_type": "stream",
          "name": "stdout",
          "text": [
            "Classification report :\n",
            "               precision    recall  f1-score   support\n",
            "\n",
            "           1       1.00      0.94      0.97        16\n",
            "           0       1.00      1.00      1.00        13\n",
            "\n",
            "   micro avg       1.00      0.97      0.98        29\n",
            "   macro avg       1.00      0.97      0.98        29\n",
            "weighted avg       1.00      0.97      0.98        29\n",
            "\n"
          ]
        }
      ]
    }
  ]
}
