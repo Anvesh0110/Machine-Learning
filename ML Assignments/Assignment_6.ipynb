{
  "nbformat": 4,
  "nbformat_minor": 0,
  "metadata": {
    "colab": {
      "name": "Assignment 6.ipynb",
      "provenance": []
    },
    "kernelspec": {
      "name": "python3",
      "display_name": "Python 3"
    },
    "language_info": {
      "name": "python"
    }
  },
  "cells": [
    {
      "cell_type": "markdown",
      "metadata": {
        "id": "FKoNWqBWIwJj"
      },
      "source": [
        "# Assignment 6 - Logistic Regression"
      ]
    },
    {
      "cell_type": "markdown",
      "metadata": {
        "id": "UHhTn0d2I5mh"
      },
      "source": [
        "Q1: Implement Multiclass Logistic Regression (step-by-step) on Iris dataset using one vs. rest strategy?"
      ]
    },
    {
      "cell_type": "code",
      "metadata": {
        "id": "dxCD0dDvI44k"
      },
      "source": [
        "from sklearn.datasets import load_iris\n",
        "from sklearn.multiclass import OneVsRestClassifier\n",
        "from sklearn.svm import SVC\n",
        "from sklearn.metrics import accuracy_score,classification_report\n",
        "from sklearn.model_selection import train_test_split\n"
      ],
      "execution_count": null,
      "outputs": []
    },
    {
      "cell_type": "code",
      "metadata": {
        "id": "dvS9VglBBJJJ"
      },
      "source": [
        "# Loading the dataset\n",
        "dataset = load_iris()\n",
        "X = dataset.data\n",
        "Y = dataset.target\n",
        "\n"
      ],
      "execution_count": null,
      "outputs": []
    },
    {
      "cell_type": "code",
      "metadata": {
        "id": "smPEk6B99keV"
      },
      "source": [
        "\n",
        "\n",
        "# Splitting the dataset into training and testing sets\n",
        "x_train,x_test,y_train,y_test = train_test_split(X,Y,test_size = 0.20,random_state = 2)\n",
        "\n",
        "# Creating the SVM model and fitting the model with training data\n",
        "model = OneVsRestClassifier(SVC()).fit(x_train,y_train)"
      ],
      "execution_count": null,
      "outputs": []
    },
    {
      "cell_type": "code",
      "metadata": {
        "colab": {
          "base_uri": "https://localhost:8080/"
        },
        "id": "Qul_llT7-zSR",
        "outputId": "44d02e34-6862-46fc-9802-6779ab1ebd3e"
      },
      "source": [
        "y_pred = model.predict(x_test)\n",
        "\n",
        "#Evaluating the model\n",
        "print(f\"Test Set Accuracy\\t: {accuracy_score(y_test, y_pred) * 100} %\\n\")\n",
        "print(f\"Classification Report\\t:\\n\\n{classification_report(y_test,y_pred)}\")"
      ],
      "execution_count": null,
      "outputs": [
        {
          "output_type": "stream",
          "name": "stdout",
          "text": [
            "Test Set Accuracy\t: 96.66666666666667 %\n",
            "\n",
            "Classification Report\t:\n",
            "\n",
            "              precision    recall  f1-score   support\n",
            "\n",
            "           0       1.00      1.00      1.00        14\n",
            "           1       1.00      0.88      0.93         8\n",
            "           2       0.89      1.00      0.94         8\n",
            "\n",
            "    accuracy                           0.97        30\n",
            "   macro avg       0.96      0.96      0.96        30\n",
            "weighted avg       0.97      0.97      0.97        30\n",
            "\n"
          ]
        }
      ]
    }
  ]
}