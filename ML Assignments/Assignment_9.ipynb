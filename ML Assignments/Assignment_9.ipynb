{
  "nbformat": 4,
  "nbformat_minor": 0,
  "metadata": {
    "colab": {
      "name": "Assignment 9.ipynb",
      "provenance": []
    },
    "kernelspec": {
      "name": "python3",
      "display_name": "Python 3"
    },
    "language_info": {
      "name": "python"
    }
  },
  "cells": [
    {
      "cell_type": "markdown",
      "source": [
        "# Assignment 9 - SVM Classifier"
      ],
      "metadata": {
        "id": "seUnGnxJnP-G"
      }
    },
    {
      "cell_type": "markdown",
      "source": [
        "**Q1 : SVM Classifier - \n",
        "Implement SVM Classifier on the given dataset using in-built \n",
        "function.**"
      ],
      "metadata": {
        "id": "xhPI3g-yn1fS"
      }
    },
    {
      "cell_type": "code",
      "source": [
        "import numpy as np\n",
        "import pandas as pd\n",
        "from sklearn import svm, datasets\n",
        "from sklearn.model_selection import train_test_split\n",
        "from sklearn.metrics import confusion_matrix,accuracy_score,f1_score,recall_score,precision_score,r2_score\n",
        "import seaborn as sns\n",
        "import csv"
      ],
      "metadata": {
        "id": "JIbP7FMNn-he"
      },
      "execution_count": null,
      "outputs": []
    },
    {
      "cell_type": "code",
      "source": [
        "#Create a csv file\n",
        "fields = [\"Index\",\"Weight\",\"Size\",\"Class\"]\n",
        "rows = [[0,69,4.39,\"orange\"],\n",
        "        [1,69,4.21,\"orange\"],\n",
        "        [2,65,4.09,\"orange\"],\n",
        "        [3,72,5.85,\"apple\"],\n",
        "        [4,67,4.7,\"orange\"],\n",
        "        [5,73,5.68,\"apple\"],\n",
        "        [6,70,5.56,\"apple\"],\n",
        "        [7,75,5.11,\"apple\"],\n",
        "        [8,74,5.36,\"apple\"],\n",
        "        [9,65,4.27,\"orange\"],\n",
        "        [10,73,5.79,\"apple\"],\n",
        "        [11,70,5.47,\"apple\"],\n",
        "        [12,74,5.53,\"apple\"],\n",
        "        [13,68,4.47,\"orange\"],\n",
        "        [14,74,5.22,\"apple\"]]\n",
        "\n",
        "with open(\"data.csv\",'w') as csvfile:\n",
        "  csvwriter = csv.writer(csvfile)\n",
        "  csvwriter.writerow(fields)\n",
        "  csvwriter.writerows(rows)\n",
        "\n"
      ],
      "metadata": {
        "id": "zqvzvuJ7uf3l"
      },
      "execution_count": null,
      "outputs": []
    },
    {
      "cell_type": "code",
      "source": [
        "df = pd.read_csv(\"/content/data.csv\")\n",
        "df"
      ],
      "metadata": {
        "colab": {
          "base_uri": "https://localhost:8080/",
          "height": 520
        },
        "id": "hXJK1xGqushs",
        "outputId": "6a7f821d-f8c7-453e-e5c2-8856ca9253a8"
      },
      "execution_count": null,
      "outputs": [
        {
          "output_type": "execute_result",
          "data": {
            "text/html": [
              "<div>\n",
              "<style scoped>\n",
              "    .dataframe tbody tr th:only-of-type {\n",
              "        vertical-align: middle;\n",
              "    }\n",
              "\n",
              "    .dataframe tbody tr th {\n",
              "        vertical-align: top;\n",
              "    }\n",
              "\n",
              "    .dataframe thead th {\n",
              "        text-align: right;\n",
              "    }\n",
              "</style>\n",
              "<table border=\"1\" class=\"dataframe\">\n",
              "  <thead>\n",
              "    <tr style=\"text-align: right;\">\n",
              "      <th></th>\n",
              "      <th>Index</th>\n",
              "      <th>Weight</th>\n",
              "      <th>Size</th>\n",
              "      <th>Class</th>\n",
              "    </tr>\n",
              "  </thead>\n",
              "  <tbody>\n",
              "    <tr>\n",
              "      <th>0</th>\n",
              "      <td>0</td>\n",
              "      <td>69</td>\n",
              "      <td>4.39</td>\n",
              "      <td>orange</td>\n",
              "    </tr>\n",
              "    <tr>\n",
              "      <th>1</th>\n",
              "      <td>1</td>\n",
              "      <td>69</td>\n",
              "      <td>4.21</td>\n",
              "      <td>orange</td>\n",
              "    </tr>\n",
              "    <tr>\n",
              "      <th>2</th>\n",
              "      <td>2</td>\n",
              "      <td>65</td>\n",
              "      <td>4.09</td>\n",
              "      <td>orange</td>\n",
              "    </tr>\n",
              "    <tr>\n",
              "      <th>3</th>\n",
              "      <td>3</td>\n",
              "      <td>72</td>\n",
              "      <td>5.85</td>\n",
              "      <td>apple</td>\n",
              "    </tr>\n",
              "    <tr>\n",
              "      <th>4</th>\n",
              "      <td>4</td>\n",
              "      <td>67</td>\n",
              "      <td>4.70</td>\n",
              "      <td>orange</td>\n",
              "    </tr>\n",
              "    <tr>\n",
              "      <th>5</th>\n",
              "      <td>5</td>\n",
              "      <td>73</td>\n",
              "      <td>5.68</td>\n",
              "      <td>apple</td>\n",
              "    </tr>\n",
              "    <tr>\n",
              "      <th>6</th>\n",
              "      <td>6</td>\n",
              "      <td>70</td>\n",
              "      <td>5.56</td>\n",
              "      <td>apple</td>\n",
              "    </tr>\n",
              "    <tr>\n",
              "      <th>7</th>\n",
              "      <td>7</td>\n",
              "      <td>75</td>\n",
              "      <td>5.11</td>\n",
              "      <td>apple</td>\n",
              "    </tr>\n",
              "    <tr>\n",
              "      <th>8</th>\n",
              "      <td>8</td>\n",
              "      <td>74</td>\n",
              "      <td>5.36</td>\n",
              "      <td>apple</td>\n",
              "    </tr>\n",
              "    <tr>\n",
              "      <th>9</th>\n",
              "      <td>9</td>\n",
              "      <td>65</td>\n",
              "      <td>4.27</td>\n",
              "      <td>orange</td>\n",
              "    </tr>\n",
              "    <tr>\n",
              "      <th>10</th>\n",
              "      <td>10</td>\n",
              "      <td>73</td>\n",
              "      <td>5.79</td>\n",
              "      <td>apple</td>\n",
              "    </tr>\n",
              "    <tr>\n",
              "      <th>11</th>\n",
              "      <td>11</td>\n",
              "      <td>70</td>\n",
              "      <td>5.47</td>\n",
              "      <td>apple</td>\n",
              "    </tr>\n",
              "    <tr>\n",
              "      <th>12</th>\n",
              "      <td>12</td>\n",
              "      <td>74</td>\n",
              "      <td>5.53</td>\n",
              "      <td>apple</td>\n",
              "    </tr>\n",
              "    <tr>\n",
              "      <th>13</th>\n",
              "      <td>13</td>\n",
              "      <td>68</td>\n",
              "      <td>4.47</td>\n",
              "      <td>orange</td>\n",
              "    </tr>\n",
              "    <tr>\n",
              "      <th>14</th>\n",
              "      <td>14</td>\n",
              "      <td>74</td>\n",
              "      <td>5.22</td>\n",
              "      <td>apple</td>\n",
              "    </tr>\n",
              "  </tbody>\n",
              "</table>\n",
              "</div>"
            ],
            "text/plain": [
              "    Index  Weight  Size   Class\n",
              "0       0      69  4.39  orange\n",
              "1       1      69  4.21  orange\n",
              "2       2      65  4.09  orange\n",
              "3       3      72  5.85   apple\n",
              "4       4      67  4.70  orange\n",
              "5       5      73  5.68   apple\n",
              "6       6      70  5.56   apple\n",
              "7       7      75  5.11   apple\n",
              "8       8      74  5.36   apple\n",
              "9       9      65  4.27  orange\n",
              "10     10      73  5.79   apple\n",
              "11     11      70  5.47   apple\n",
              "12     12      74  5.53   apple\n",
              "13     13      68  4.47  orange\n",
              "14     14      74  5.22   apple"
            ]
          },
          "metadata": {},
          "execution_count": 24
        }
      ]
    },
    {
      "cell_type": "code",
      "source": [
        "X = df.iloc[:,0:2]\n",
        "Y = df.iloc[:,-1]\n",
        "x_train,x_test,y_train,y_test = train_test_split(X,Y,test_size=0.3,random_state = 2)\n",
        "y_test"
      ],
      "metadata": {
        "colab": {
          "base_uri": "https://localhost:8080/"
        },
        "id": "fLnvf-KbvQZc",
        "outputId": "be4d212a-8caf-4e5b-f05f-b8758ff81dc0"
      },
      "execution_count": null,
      "outputs": [
        {
          "output_type": "execute_result",
          "data": {
            "text/plain": [
              "11     apple\n",
              "4     orange\n",
              "5      apple\n",
              "0     orange\n",
              "9     orange\n",
              "Name: Class, dtype: object"
            ]
          },
          "metadata": {},
          "execution_count": 25
        }
      ]
    },
    {
      "cell_type": "code",
      "source": [
        "from sklearn.svm import SVC\n",
        "svc_classifier = SVC(kernel='linear')\n",
        "svc_classifier.fit(x_train,y_train)"
      ],
      "metadata": {
        "id": "Vt1-JYQ1xP7L",
        "colab": {
          "base_uri": "https://localhost:8080/"
        },
        "outputId": "c72efc11-2396-43f3-bbba-025607a82bc7"
      },
      "execution_count": null,
      "outputs": [
        {
          "output_type": "execute_result",
          "data": {
            "text/plain": [
              "SVC(kernel='linear')"
            ]
          },
          "metadata": {},
          "execution_count": 26
        }
      ]
    },
    {
      "cell_type": "code",
      "source": [
        "y_pred = svc_classifier.predict(x_test)\n",
        "y_pred"
      ],
      "metadata": {
        "colab": {
          "base_uri": "https://localhost:8080/"
        },
        "id": "ghF8UrHmWJh8",
        "outputId": "6a5db5cb-2ed3-48c2-beb5-1201edce3f37"
      },
      "execution_count": null,
      "outputs": [
        {
          "output_type": "execute_result",
          "data": {
            "text/plain": [
              "array(['apple', 'orange', 'apple', 'orange', 'orange'], dtype=object)"
            ]
          },
          "metadata": {},
          "execution_count": 27
        }
      ]
    },
    {
      "cell_type": "markdown",
      "source": [
        "**Q2 : Performance Evaluation of the Classifier :\n",
        "Evaluate the performance of the classifier using metrics library based on the parameters like confusion matrix, accuracy, precision, recall, F-1 Score, TPR, TNR, FPR and FNR.**"
      ],
      "metadata": {
        "id": "lS1wUVVUZoJr"
      }
    },
    {
      "cell_type": "code",
      "source": [
        "print(confusion_matrix(y_test,y_pred))"
      ],
      "metadata": {
        "colab": {
          "base_uri": "https://localhost:8080/"
        },
        "id": "5wW8KYUfWmAz",
        "outputId": "e9521065-bb55-4bae-ab5c-76655d2a7616"
      },
      "execution_count": null,
      "outputs": [
        {
          "output_type": "stream",
          "name": "stdout",
          "text": [
            "[[2 0]\n",
            " [0 3]]\n"
          ]
        }
      ]
    },
    {
      "cell_type": "code",
      "source": [
        "TP = 0\n",
        "TN = 0\n",
        "FP = 0\n",
        "FN = 0\n",
        "y_test=np.array(y_test).reshape(-1,1)\n",
        "for i in range(len(y_pred)):\n",
        "    if(y_test[i]==1 and y_pred[i]==1):\n",
        "        TP=TP+1\n",
        "    if(y_test[i]==1 and y_pred[i]==0):\n",
        "        FN=FN+1\n",
        "    if(y_test[i]==0 and y_pred[i]==1):\n",
        "        FP=FP+1\n",
        "    if(y_test[i]==0 and y_pred[i]==0):\n",
        "        TN=TN+1\n",
        "print(TP,TN,FP,FN)"
      ],
      "metadata": {
        "colab": {
          "base_uri": "https://localhost:8080/"
        },
        "id": "bctCOlm8XI1e",
        "outputId": "dd2e9232-ba85-4739-c92e-4c37162eb933"
      },
      "execution_count": null,
      "outputs": [
        {
          "output_type": "stream",
          "name": "stdout",
          "text": [
            "0 0 0 0\n"
          ]
        }
      ]
    },
    {
      "cell_type": "code",
      "source": [
        "#accuracy of testing sample\n",
        "accuracy_score(y_test,y_pred)"
      ],
      "metadata": {
        "colab": {
          "base_uri": "https://localhost:8080/"
        },
        "id": "IkncIkOLZ_zr",
        "outputId": "cebdbd41-6a9f-461d-c8c7-67ec632e6a5c"
      },
      "execution_count": null,
      "outputs": [
        {
          "output_type": "execute_result",
          "data": {
            "text/plain": [
              "1.0"
            ]
          },
          "metadata": {},
          "execution_count": 30
        }
      ]
    },
    {
      "cell_type": "code",
      "source": [
        "#recall of testing sample\n",
        "recall_score(y_test,y_pred,average='macro')"
      ],
      "metadata": {
        "colab": {
          "base_uri": "https://localhost:8080/"
        },
        "id": "2p5eGF8VaPkO",
        "outputId": "f8bdff52-d998-42c8-d5c1-e811e84d9541"
      },
      "execution_count": null,
      "outputs": [
        {
          "output_type": "execute_result",
          "data": {
            "text/plain": [
              "1.0"
            ]
          },
          "metadata": {},
          "execution_count": 31
        }
      ]
    },
    {
      "cell_type": "code",
      "source": [
        "#f1_score of testing sample\n",
        "f1_score(y_test,y_pred,average='macro')"
      ],
      "metadata": {
        "colab": {
          "base_uri": "https://localhost:8080/"
        },
        "id": "HhobXkgoaTCH",
        "outputId": "8be8ab3c-eae8-4c61-a85c-6d7ec99090bf"
      },
      "execution_count": null,
      "outputs": [
        {
          "output_type": "execute_result",
          "data": {
            "text/plain": [
              "1.0"
            ]
          },
          "metadata": {},
          "execution_count": 32
        }
      ]
    },
    {
      "cell_type": "code",
      "source": [
        "#precision of testing sample\n",
        "precision_score(y_test,y_pred,average='macro')"
      ],
      "metadata": {
        "colab": {
          "base_uri": "https://localhost:8080/"
        },
        "id": "V0WGyoWYaYOi",
        "outputId": "f2d291df-0d91-44ff-d122-fb330dc4649d"
      },
      "execution_count": null,
      "outputs": [
        {
          "output_type": "execute_result",
          "data": {
            "text/plain": [
              "1.0"
            ]
          },
          "metadata": {},
          "execution_count": 33
        }
      ]
    },
    {
      "cell_type": "code",
      "source": [
        "sns.heatmap(confusion_matrix(y_test,y_pred),annot=True)"
      ],
      "metadata": {
        "colab": {
          "base_uri": "https://localhost:8080/",
          "height": 286
        },
        "id": "60NKoY4ybWYJ",
        "outputId": "7c93f6dc-1733-4514-bac7-ac3a82fcece0"
      },
      "execution_count": null,
      "outputs": [
        {
          "output_type": "execute_result",
          "data": {
            "text/plain": [
              "<matplotlib.axes._subplots.AxesSubplot at 0x7f5abb1a6150>"
            ]
          },
          "metadata": {},
          "execution_count": 34
        },
        {
          "output_type": "display_data",
          "data": {
            "image/png": "[encoded data removed]",
            "text/plain": [
              "<Figure size 432x288 with 2 Axes>"
            ]
          },
          "metadata": {
            "needs_background": "light"
          }
        }
      ]
    }
  ]
}