{
  "nbformat": 4,
  "nbformat_minor": 0,
  "metadata": {
    "colab": {
      "name": "Assignment 8.ipynb",
      "provenance": []
    },
    "kernelspec": {
      "name": "python3",
      "display_name": "Python 3"
    },
    "language_info": {
      "name": "python"
    }
  },
  "cells": [
    {
      "cell_type": "markdown",
      "metadata": {
        "id": "PwICvx2pRh7C"
      },
      "source": [
        "# Assignment 8 - KNN Classifier"
      ]
    },
    {
      "cell_type": "markdown",
      "metadata": {
        "id": "gGKDOiqohIle"
      },
      "source": [
        "Explore about GridSearchCV tool in scikit-learn. This is a tool that is often used for tuning hyperparameters of machine learning models.\n",
        "Use this tool to find the best value of K for K-NN Classifier using any dataset."
      ]
    },
    {
      "cell_type": "code",
      "metadata": {
        "colab": {
          "base_uri": "https://localhost:8080/"
        },
        "id": "DkS6wtT6Rnew",
        "outputId": "46132843-a176-4c9e-ff13-9f09cc2b378e"
      },
      "source": [
        "import pandas as pd\n",
        "from sklearn.linear_model import LogisticRegression\n",
        "from sklearn.svm import SVC\n",
        "from sklearn.model_selection import GridSearchCV\n",
        " \n",
        "# Loading the Dataset\n",
        "# A standard dataset here is taken for better understanding.\n",
        "iris = pd.read_csv('https://raw.githubusercontent.com/pranavkotak8/Datasets/master/Iris.csv')\n",
        "print(iris)\n",
        "target=iris['Species']\n",
        "print(iris.columns)\n",
        "iris.drop(columns={'Id','Species'},inplace=True)\n",
        " \n",
        "# Assigning the parameters and its values which need to be tuned.\n",
        "parameters = {'kernel': ['linear', 'rbf'], 'C':[1,3,5,51,71,101,140]}\n",
        " \n",
        "# Fitting the SVM model\n",
        "modelsvc = SVC()\n",
        " \n",
        "# Performing the GridSearchCV\n",
        "clf = GridSearchCV(modelsvc, parameters)\n",
        "clf.fit(iris, target)\n",
        "print(clf.best_params_)"
      ],
      "execution_count": null,
      "outputs": [
        {
          "output_type": "stream",
          "name": "stdout",
          "text": [
            "      Id  SepalLengthCm  ...  PetalWidthCm         Species\n",
            "0      1            5.1  ...           0.2     Iris-setosa\n",
            "1      2            4.9  ...           0.2     Iris-setosa\n",
            "2      3            4.7  ...           0.2     Iris-setosa\n",
            "3      4            4.6  ...           0.2     Iris-setosa\n",
            "4      5            5.0  ...           0.2     Iris-setosa\n",
            "..   ...            ...  ...           ...             ...\n",
            "145  146            6.7  ...           2.3  Iris-virginica\n",
            "146  147            6.3  ...           1.9  Iris-virginica\n",
            "147  148            6.5  ...           2.0  Iris-virginica\n",
            "148  149            6.2  ...           2.3  Iris-virginica\n",
            "149  150            5.9  ...           1.8  Iris-virginica\n",
            "\n",
            "[150 rows x 6 columns]\n",
            "Index(['Id', 'SepalLengthCm', 'SepalWidthCm', 'PetalLengthCm', 'PetalWidthCm',\n",
            "       'Species'],\n",
            "      dtype='object')\n",
            "{'C': 5, 'kernel': 'rbf'}\n"
          ]
        }
      ]
      
    }
  ]
}
