{
  "nbformat": 4,
  "nbformat_minor": 0,
  "metadata": {
    "colab": {
      "name": "Assignment 4.ipynb",
      "provenance": []
    },
    "kernelspec": {
      "name": "python3",
      "display_name": "Python 3"
    },
    "language_info": {
      "name": "python"
    }
  },
  "cells": [
    {
      "cell_type": "markdown",
      "metadata": {
        "id": "FehsTbDm8ubt"
      },
      "source": [
        "# Assignment 4 - PCA"
      ]
    },
    {
      "cell_type": "markdown",
      "metadata": {
        "id": "-hDJHimwOu3J"
      },
      "source": [
        "Q1: Load the load_digit dataset from sklearn.datasets.\n",
        "\n",
        "This dataset is made up of 1797 8x8 images. Each image is of a hand-written digit. Therefore, each training example has 64 features (8X8) pixel values. Hence, the size of dataset is 1797X64.\n",
        "\n",
        "Implement feature selection technique using Principal Component Analysis (PCA) using step-by-step approach."
      ]
    },
    {
      "cell_type": "code",
      "metadata": {
        "id": "NQE7yPbP9LGb"
      },
      "source": [
        "from sklearn.datasets import load_digits\n",
        "digits=load_digits()['data']\n",
        "digits_target=load_digits()['target']"
      ],
      "execution_count": null,
      "outputs": []
    },
    {
      "cell_type": "markdown",
      "metadata": {
        "id": "sBvGNV1U9N3s"
      },
      "source": [
        "1)STANDARDIZATION"
      ]
    },
    {
      "cell_type": "code",
      "metadata": {
        "colab": {
          "base_uri": "https://localhost:8080/"
        },
        "id": "bTAIQIaI93uV",
        "outputId": "d896fec3-69dc-4a7d-b425-4ca8ad239f9a"
      },
      "source": [
        "from sklearn.preprocessing import StandardScaler\n",
        "X_std=StandardScaler().fit_transform(digits)\n",
        "X_std.shape"
      ],
      "execution_count": null,
      "outputs": [
        {
          "output_type": "execute_result",
          "data": {
            "text/plain": [
              "(1797, 64)"
            ]
          },
          "metadata": {},
          "execution_count": 82
        }
      ]
    },
    {
      "cell_type": "markdown",
      "metadata": {
        "id": "fJLpuApE97IE"
      },
      "source": [
        "2) COVARIANCE MATRIX COMPUTATION"
      ]
    },
    {
      "cell_type": "code",
      "metadata": {
        "colab": {
          "base_uri": "https://localhost:8080/"
        },
        "id": "LJYxWdDG99aq",
        "outputId": "24e2b022-3c89-4842-faa6-be57c6018f94"
      },
      "source": [
        "import numpy as np\n",
        "mean_vec=np.mean(X_std,axis=0)\n",
        "cov_mat=(X_std-mean_vec).T.dot((X_std-mean_vec))/(X_std.shape[0]-1)\n",
        "mean_vect=np.mean(X_std,axis=0)\n",
        "cov_matt=(X_std-mean_vec).T.dot((X_std-mean_vec))/(X_std.shape[0]-1)\n",
        "print(cov_mat)"
      ],
      "execution_count": null,
      "outputs": [
        {
          "output_type": "stream",
          "name": "stdout",
          "text": [
            "[[ 0.          0.          0.         ...  0.          0.\n",
            "   0.        ]\n",
            " [ 0.          1.00055679  0.55692803 ... -0.02988686  0.02656195\n",
            "  -0.04391324]\n",
            " [ 0.          0.55692803  1.00055679 ... -0.04120565  0.07263924\n",
            "   0.08256908]\n",
            " ...\n",
            " [ 0.         -0.02988686 -0.04120565 ...  1.00055679  0.64868875\n",
            "   0.26213704]\n",
            " [ 0.          0.02656195  0.07263924 ...  0.64868875  1.00055679\n",
            "   0.62077355]\n",
            " [ 0.         -0.04391324  0.08256908 ...  0.26213704  0.62077355\n",
            "   1.00055679]]\n"
          ]
        }
      ]
    },
    {
      "cell_type": "markdown",
      "metadata": {
        "id": "g1lZh47y-PD3"
      },
      "source": [
        "3) COMPUTE THE EIGENVECTORS AND EIGENVALUES OF THE COVARIANCE MATRIX TO IDENTIFY THE PRINCIPAL COMPONENTS"
      ]
    },
    {
      "cell_type": "code",
      "metadata": {
        "colab": {
          "base_uri": "https://localhost:8080/",
          "height": 752
        },
        "id": "NSQLKD6w-RkA",
        "outputId": "d6ac3195-12ee-4ffb-864d-d0f8386c6e88"
      },
      "source": [
        "import matplotlib.pyplot as plt\n",
        "cov_mat=np.cov(X_std.T)\n",
        "eig_vals,eig_vecs=np.linalg.eig(cov_mat)\n",
        "cov_matt=np.cov(X_std.T)\n",
        "lam_sum = sum(eig_vals)\n",
        "explained_variance = [(lam_k/lam_sum) for lam_k in sorted(eig_vals, reverse=True)]\n",
        "eig_vals,eig_vecs=np.linalg.eig(cov_mat)\n",
        "print(eig_vals)\n",
        "print(eig_vecs)\n",
        "fig = plt.figure(figsize=(12,12))\n",
        "fig = plt.figure(figsize=(6,4))\n",
        "ax1 = fig.add_subplot(111)\n",
        "ax1.plot(np.cumsum(explained_variance))\n",
        "ax1.set_ylim([0,1.0])\n",
        "ax1.set_xlabel('Number of Principal Components')\n",
        "ax1.set_ylabel('Cumulative explained variance')\n",
        "ax1.set_title('Explained Variance')\n",
        "plt.show()\n",
        "print([(j, np.cumsum(explained_variance)[j]) for j in range(len(explained_variance[:64]))])"
      ],
      "execution_count": null,
      "outputs": [
        {
          "output_type": "stream",
          "name": "stdout",
          "text": [
            "[7.34477606 5.83549054 5.15396118 3.96623597 2.9663452  2.57204442\n",
            " 2.40600941 2.06867355 1.82993314 1.78951739 1.69784616 1.57287889\n",
            " 1.38870781 1.35933609 1.32152536 1.16829176 1.08368678 0.99977862\n",
            " 0.97438293 0.90891242 0.82271926 0.77631014 0.71155675 0.64552365\n",
            " 0.59527399 0.5765018  0.52673155 0.5106363  0.48686381 0.45560107\n",
            " 0.44285155 0.42230086 0.3991063  0.39110111 0.36094517 0.34860306\n",
            " 0.3195963  0.29406627 0.05037444 0.27692285 0.06328961 0.258273\n",
            " 0.24783029 0.2423566  0.07635394 0.08246812 0.09018543 0.09840876\n",
            " 0.10250434 0.11188655 0.11932898 0.12426371 0.13321081 0.14311427\n",
            " 0.217582   0.15818474 0.16875236 0.20799593 0.17612894 0.2000909\n",
            " 0.18983516 0.         0.         0.        ]\n",
            "[[ 0.          0.          0.         ...  1.          0.\n",
            "   0.        ]\n",
            " [ 0.18223392 -0.04702701  0.02358821 ...  0.          0.\n",
            "   0.        ]\n",
            " [ 0.285868   -0.0595648  -0.05679875 ...  0.          0.\n",
            "   0.        ]\n",
            " ...\n",
            " [ 0.103198    0.24261778 -0.02227952 ...  0.          0.\n",
            "   0.        ]\n",
            " [ 0.1198106   0.16508926  0.10036559 ...  0.          0.\n",
            "   0.        ]\n",
            " [ 0.07149362  0.07132924  0.09244589 ...  0.          0.\n",
            "   0.        ]]\n"
          ]
        },
        {
          "output_type": "display_data",
          "data": {
            "text/plain": [
              "<Figure size 864x864 with 0 Axes>"
            ]
          },
          "metadata": {}
        },
        {
          "output_type": "display_data",
          "data": {
            "image/png": "[encoded data removed]",
            "text/plain": [
              "<Figure size 432x288 with 1 Axes>"
            ]
          },
          "metadata": {
            "needs_background": "light"
          }
        },
        {
          "output_type": "stream",
          "name": "stdout",
          "text": [
            "[(0, 0.12033916097734906), (1, 0.2159497050083281), (2, 0.30039385393457346), (3, 0.36537793300981514), (4, 0.4139794817694792), (5, 0.4561206804621987), (6, 0.49554150849787254), (7, 0.5294353177442558), (8, 0.559417527860508), (9, 0.5887375533730302), (10, 0.6165556080085336), (11, 0.6423261589343537), (12, 0.6650791920919963), (13, 0.6873509894871398), (14, 0.7090032838056322), (15, 0.7281449498700535), (16, 0.7459004207217355), (17, 0.7622811134645797), (18, 0.7782457151532031), (19, 0.7931376270240813), (20, 0.8066173226822607), (21, 0.8193366363846083), (22, 0.8309950098905278), (23, 0.841571475875891), (24, 0.8513246353478721), (25, 0.8607702252451921), (26, 0.8694003635148994), (27, 0.8777667920515845), (28, 0.8857437245356969), (29, 0.8932084382449575), (30, 0.9004642597586603), (31, 0.9073833722134721), (32, 0.9139224575691982), (33, 0.920330383307658), (34, 0.9262442244248815), (35, 0.9319558484771168), (36, 0.9371922165112831), (37, 0.9420102923757345), (38, 0.9465474849743191), (39, 0.9507791125066469), (40, 0.9548396432064373), (41, 0.9588104912891956), (42, 0.9623754243206217), (43, 0.9657832961353248), (44, 0.9690616494882043), (45, 0.9721719695616579), (46, 0.9750577225027472), (47, 0.9778226151379827), (48, 0.9804143645467974), (49, 0.9827591946021538), (50, 0.9849417631792738), (51, 0.9869777395245276), (52, 0.9889328637847258), (53, 0.9907660487766976), (54, 0.9924455126516535), (55, 0.9940578732742208), (56, 0.9955355002152817), (57, 0.9968866843286526), (58, 0.9981376917536255), (59, 0.9991746490551827), (60, 1.0000000000000007), (61, 1.0000000000000007), (62, 1.0000000000000007), (63, 1.0000000000000007)]\n"
          ]
        }
      ]
    },
    {
      "cell_type": "markdown",
      "metadata": {
        "id": "Q5g22eVK-Xg6"
      },
      "source": [
        "4) FEATURE VECTOR"
      ]
    },
    {
      "cell_type": "code",
      "metadata": {
        "colab": {
          "base_uri": "https://localhost:8080/"
        },
        "id": "EbkUHaf9-ape",
        "outputId": "548071fe-ab65-4662-ae42-7e505a231af1"
      },
      "source": [
        "feature_vec=[]\n",
        "eigenvals_sorted=sorted(eig_vals,reverse=True)[:30]\n",
        "for val in eigenvals_sorted:\n",
        "  index=(np.where(eig_vals==val))[0][0]\n",
        "  feature_vec.append(eig_vecs[:,index])\n",
        "feature_vec=np.array(feature_vec)\n",
        "feature_vec.shape"
      ],
      "execution_count": null,
      "outputs": [
        {
          "output_type": "execute_result",
          "data": {
            "text/plain": [
              "(30, 64)"
            ]
          },
          "metadata": {},
          "execution_count": 85
        }
      ]
    },
    {
      "cell_type": "markdown",
      "metadata": {
        "id": "8EUVfmha-dCg"
      },
      "source": [
        "5) Recast the data along the principal components axes"
      ]
    },
    {
      "cell_type": "code",
      "metadata": {
        "colab": {
          "base_uri": "https://localhost:8080/",
          "height": 437
        },
        "id": "Qta2fvgM-e-p",
        "outputId": "8ddb9fc3-6347-49fc-e099-7291dd992fa5"
      },
      "source": [
        "import pandas as pd\n",
        "final=np.dot(X_std,np.transpose(feature_vec))\n",
        "projected=pd.DataFrame(final)\n",
        "projected"
      ],
      "execution_count": null,
      "outputs": [
        {
          "output_type": "execute_result",
          "data": {
            "text/html": [
              "<div>\n",
              "<style scoped>\n",
              "    .dataframe tbody tr th:only-of-type {\n",
              "        vertical-align: middle;\n",
              "    }\n",
              "\n",
              "    .dataframe tbody tr th {\n",
              "        vertical-align: top;\n",
              "    }\n",
              "\n",
              "    .dataframe thead th {\n",
              "        text-align: right;\n",
              "    }\n",
              "</style>\n",
              "<table border=\"1\" class=\"dataframe\">\n",
              "  <thead>\n",
              "    <tr style=\"text-align: right;\">\n",
              "      <th></th>\n",
              "      <th>0</th>\n",
              "      <th>1</th>\n",
              "      <th>2</th>\n",
              "      <th>3</th>\n",
              "      <th>4</th>\n",
              "      <th>5</th>\n",
              "      <th>6</th>\n",
              "      <th>7</th>\n",
              "      <th>8</th>\n",
              "      <th>9</th>\n",
              "      <th>10</th>\n",
              "      <th>11</th>\n",
              "      <th>12</th>\n",
              "      <th>13</th>\n",
              "      <th>14</th>\n",
              "      <th>15</th>\n",
              "      <th>16</th>\n",
              "      <th>17</th>\n",
              "      <th>18</th>\n",
              "      <th>19</th>\n",
              "      <th>20</th>\n",
              "      <th>21</th>\n",
              "      <th>22</th>\n",
              "      <th>23</th>\n",
              "      <th>24</th>\n",
              "      <th>25</th>\n",
              "      <th>26</th>\n",
              "      <th>27</th>\n",
              "      <th>28</th>\n",
              "      <th>29</th>\n",
              "    </tr>\n",
              "  </thead>\n",
              "  <tbody>\n",
              "    <tr>\n",
              "      <th>0</th>\n",
              "      <td>-1.914214</td>\n",
              "      <td>0.954502</td>\n",
              "      <td>-3.946035</td>\n",
              "      <td>-2.028723</td>\n",
              "      <td>-0.267173</td>\n",
              "      <td>0.530327</td>\n",
              "      <td>1.415321</td>\n",
              "      <td>-1.496062</td>\n",
              "      <td>-0.124914</td>\n",
              "      <td>-0.822246</td>\n",
              "      <td>-0.499693</td>\n",
              "      <td>0.789466</td>\n",
              "      <td>0.228125</td>\n",
              "      <td>-0.195142</td>\n",
              "      <td>-0.837040</td>\n",
              "      <td>-0.104341</td>\n",
              "      <td>0.185323</td>\n",
              "      <td>0.090057</td>\n",
              "      <td>0.412754</td>\n",
              "      <td>0.430517</td>\n",
              "      <td>0.450994</td>\n",
              "      <td>-0.558703</td>\n",
              "      <td>0.508826</td>\n",
              "      <td>-0.758896</td>\n",
              "      <td>0.464500</td>\n",
              "      <td>-0.732176</td>\n",
              "      <td>-0.327318</td>\n",
              "      <td>0.157022</td>\n",
              "      <td>-0.404918</td>\n",
              "      <td>-0.324594</td>\n",
              "    </tr>\n",
              "    <tr>\n",
              "      <th>1</th>\n",
              "      <td>-0.588980</td>\n",
              "      <td>-0.924636</td>\n",
              "      <td>3.924755</td>\n",
              "      <td>1.779850</td>\n",
              "      <td>-0.993430</td>\n",
              "      <td>-0.675652</td>\n",
              "      <td>-1.878565</td>\n",
              "      <td>-0.556336</td>\n",
              "      <td>-1.079877</td>\n",
              "      <td>0.087451</td>\n",
              "      <td>-0.505000</td>\n",
              "      <td>-0.641593</td>\n",
              "      <td>-0.048361</td>\n",
              "      <td>-0.392054</td>\n",
              "      <td>0.744412</td>\n",
              "      <td>0.214072</td>\n",
              "      <td>-0.101727</td>\n",
              "      <td>0.422000</td>\n",
              "      <td>0.553085</td>\n",
              "      <td>-0.069676</td>\n",
              "      <td>0.909818</td>\n",
              "      <td>0.242434</td>\n",
              "      <td>-0.478472</td>\n",
              "      <td>0.491158</td>\n",
              "      <td>-0.790504</td>\n",
              "      <td>-0.067788</td>\n",
              "      <td>1.525555</td>\n",
              "      <td>-0.742482</td>\n",
              "      <td>0.855856</td>\n",
              "      <td>-0.277084</td>\n",
              "    </tr>\n",
              "    <tr>\n",
              "      <th>2</th>\n",
              "      <td>-1.302039</td>\n",
              "      <td>0.317189</td>\n",
              "      <td>3.023333</td>\n",
              "      <td>2.043376</td>\n",
              "      <td>-2.081155</td>\n",
              "      <td>0.935121</td>\n",
              "      <td>1.296200</td>\n",
              "      <td>-1.156160</td>\n",
              "      <td>-0.785606</td>\n",
              "      <td>-1.099206</td>\n",
              "      <td>2.196453</td>\n",
              "      <td>2.310276</td>\n",
              "      <td>-0.566874</td>\n",
              "      <td>-0.995772</td>\n",
              "      <td>1.170505</td>\n",
              "      <td>-0.399017</td>\n",
              "      <td>-0.240298</td>\n",
              "      <td>0.465223</td>\n",
              "      <td>-1.065556</td>\n",
              "      <td>-1.133454</td>\n",
              "      <td>-0.525917</td>\n",
              "      <td>-0.069262</td>\n",
              "      <td>-1.276142</td>\n",
              "      <td>-0.389437</td>\n",
              "      <td>0.407580</td>\n",
              "      <td>0.121614</td>\n",
              "      <td>-0.373418</td>\n",
              "      <td>0.205099</td>\n",
              "      <td>0.362138</td>\n",
              "      <td>1.181186</td>\n",
              "    </tr>\n",
              "    <tr>\n",
              "      <th>3</th>\n",
              "      <td>3.020770</td>\n",
              "      <td>0.868772</td>\n",
              "      <td>-0.801744</td>\n",
              "      <td>2.187039</td>\n",
              "      <td>-0.556813</td>\n",
              "      <td>0.727124</td>\n",
              "      <td>-0.959766</td>\n",
              "      <td>1.382638</td>\n",
              "      <td>-0.259075</td>\n",
              "      <td>0.744555</td>\n",
              "      <td>-1.065129</td>\n",
              "      <td>-0.491755</td>\n",
              "      <td>-0.166579</td>\n",
              "      <td>1.008790</td>\n",
              "      <td>0.141893</td>\n",
              "      <td>1.000781</td>\n",
              "      <td>-0.950687</td>\n",
              "      <td>0.400034</td>\n",
              "      <td>1.490825</td>\n",
              "      <td>0.308128</td>\n",
              "      <td>0.560421</td>\n",
              "      <td>0.167976</td>\n",
              "      <td>0.573332</td>\n",
              "      <td>-0.532997</td>\n",
              "      <td>0.084318</td>\n",
              "      <td>0.466793</td>\n",
              "      <td>-0.154232</td>\n",
              "      <td>-0.403244</td>\n",
              "      <td>-0.291934</td>\n",
              "      <td>-1.244539</td>\n",
              "    </tr>\n",
              "    <tr>\n",
              "      <th>4</th>\n",
              "      <td>-4.528949</td>\n",
              "      <td>1.093480</td>\n",
              "      <td>0.973121</td>\n",
              "      <td>1.419510</td>\n",
              "      <td>-1.715106</td>\n",
              "      <td>1.431592</td>\n",
              "      <td>-1.073649</td>\n",
              "      <td>0.968240</td>\n",
              "      <td>1.660216</td>\n",
              "      <td>1.174593</td>\n",
              "      <td>-1.017440</td>\n",
              "      <td>1.365994</td>\n",
              "      <td>-0.343716</td>\n",
              "      <td>-0.113469</td>\n",
              "      <td>-0.732635</td>\n",
              "      <td>-0.210692</td>\n",
              "      <td>-0.094411</td>\n",
              "      <td>0.552371</td>\n",
              "      <td>1.613976</td>\n",
              "      <td>1.086368</td>\n",
              "      <td>0.495644</td>\n",
              "      <td>0.185698</td>\n",
              "      <td>0.960864</td>\n",
              "      <td>-0.184642</td>\n",
              "      <td>-0.563999</td>\n",
              "      <td>2.142481</td>\n",
              "      <td>-0.064456</td>\n",
              "      <td>0.746668</td>\n",
              "      <td>-1.076306</td>\n",
              "      <td>0.297665</td>\n",
              "    </tr>\n",
              "    <tr>\n",
              "      <th>...</th>\n",
              "      <td>...</td>\n",
              "      <td>...</td>\n",
              "      <td>...</td>\n",
              "      <td>...</td>\n",
              "      <td>...</td>\n",
              "      <td>...</td>\n",
              "      <td>...</td>\n",
              "      <td>...</td>\n",
              "      <td>...</td>\n",
              "      <td>...</td>\n",
              "      <td>...</td>\n",
              "      <td>...</td>\n",
              "      <td>...</td>\n",
              "      <td>...</td>\n",
              "      <td>...</td>\n",
              "      <td>...</td>\n",
              "      <td>...</td>\n",
              "      <td>...</td>\n",
              "      <td>...</td>\n",
              "      <td>...</td>\n",
              "      <td>...</td>\n",
              "      <td>...</td>\n",
              "      <td>...</td>\n",
              "      <td>...</td>\n",
              "      <td>...</td>\n",
              "      <td>...</td>\n",
              "      <td>...</td>\n",
              "      <td>...</td>\n",
              "      <td>...</td>\n",
              "      <td>...</td>\n",
              "    </tr>\n",
              "    <tr>\n",
              "      <th>1792</th>\n",
              "      <td>-0.104331</td>\n",
              "      <td>-0.255024</td>\n",
              "      <td>-3.765861</td>\n",
              "      <td>1.947006</td>\n",
              "      <td>-0.190094</td>\n",
              "      <td>-0.555760</td>\n",
              "      <td>-0.531222</td>\n",
              "      <td>-0.476475</td>\n",
              "      <td>-1.152430</td>\n",
              "      <td>-0.473054</td>\n",
              "      <td>-0.635879</td>\n",
              "      <td>-0.803622</td>\n",
              "      <td>1.205195</td>\n",
              "      <td>-0.700724</td>\n",
              "      <td>-0.187246</td>\n",
              "      <td>-0.161669</td>\n",
              "      <td>0.504438</td>\n",
              "      <td>-0.357642</td>\n",
              "      <td>-0.956725</td>\n",
              "      <td>0.816109</td>\n",
              "      <td>0.030250</td>\n",
              "      <td>0.783514</td>\n",
              "      <td>-0.676671</td>\n",
              "      <td>-0.042743</td>\n",
              "      <td>0.359572</td>\n",
              "      <td>0.066849</td>\n",
              "      <td>-0.203868</td>\n",
              "      <td>0.058615</td>\n",
              "      <td>-0.979933</td>\n",
              "      <td>-0.122796</td>\n",
              "    </tr>\n",
              "    <tr>\n",
              "      <th>1793</th>\n",
              "      <td>-2.423234</td>\n",
              "      <td>1.429611</td>\n",
              "      <td>-3.045245</td>\n",
              "      <td>-2.632089</td>\n",
              "      <td>-0.822902</td>\n",
              "      <td>0.004061</td>\n",
              "      <td>1.106872</td>\n",
              "      <td>-2.330903</td>\n",
              "      <td>-0.569455</td>\n",
              "      <td>-1.654173</td>\n",
              "      <td>-0.460155</td>\n",
              "      <td>0.530551</td>\n",
              "      <td>0.858305</td>\n",
              "      <td>0.885069</td>\n",
              "      <td>0.702222</td>\n",
              "      <td>-1.098425</td>\n",
              "      <td>0.301699</td>\n",
              "      <td>0.311522</td>\n",
              "      <td>-0.307535</td>\n",
              "      <td>0.110083</td>\n",
              "      <td>-0.957759</td>\n",
              "      <td>0.041950</td>\n",
              "      <td>0.379564</td>\n",
              "      <td>0.082078</td>\n",
              "      <td>-0.213136</td>\n",
              "      <td>0.864603</td>\n",
              "      <td>-0.272784</td>\n",
              "      <td>-0.567033</td>\n",
              "      <td>0.769823</td>\n",
              "      <td>-0.008326</td>\n",
              "    </tr>\n",
              "    <tr>\n",
              "      <th>1794</th>\n",
              "      <td>-1.022596</td>\n",
              "      <td>0.147911</td>\n",
              "      <td>2.469974</td>\n",
              "      <td>0.620307</td>\n",
              "      <td>-0.972043</td>\n",
              "      <td>-0.007377</td>\n",
              "      <td>-0.381115</td>\n",
              "      <td>-0.529064</td>\n",
              "      <td>-2.054709</td>\n",
              "      <td>-2.036838</td>\n",
              "      <td>-0.679554</td>\n",
              "      <td>-0.396803</td>\n",
              "      <td>-0.409313</td>\n",
              "      <td>0.257614</td>\n",
              "      <td>-0.334953</td>\n",
              "      <td>-1.162071</td>\n",
              "      <td>1.124031</td>\n",
              "      <td>-0.669245</td>\n",
              "      <td>-1.612100</td>\n",
              "      <td>0.182303</td>\n",
              "      <td>0.166667</td>\n",
              "      <td>0.237439</td>\n",
              "      <td>0.041549</td>\n",
              "      <td>0.235181</td>\n",
              "      <td>0.261485</td>\n",
              "      <td>1.340361</td>\n",
              "      <td>0.054225</td>\n",
              "      <td>-0.352066</td>\n",
              "      <td>-0.521824</td>\n",
              "      <td>-0.271170</td>\n",
              "    </tr>\n",
              "    <tr>\n",
              "      <th>1795</th>\n",
              "      <td>-1.076055</td>\n",
              "      <td>0.380906</td>\n",
              "      <td>-2.455487</td>\n",
              "      <td>1.312013</td>\n",
              "      <td>0.253533</td>\n",
              "      <td>-0.638322</td>\n",
              "      <td>-1.034470</td>\n",
              "      <td>-0.763325</td>\n",
              "      <td>-1.077474</td>\n",
              "      <td>-0.334527</td>\n",
              "      <td>-0.980131</td>\n",
              "      <td>-0.606451</td>\n",
              "      <td>0.169573</td>\n",
              "      <td>-0.759176</td>\n",
              "      <td>-0.014572</td>\n",
              "      <td>-0.158465</td>\n",
              "      <td>1.686638</td>\n",
              "      <td>-0.811822</td>\n",
              "      <td>-1.769181</td>\n",
              "      <td>0.774718</td>\n",
              "      <td>-0.135668</td>\n",
              "      <td>0.433929</td>\n",
              "      <td>1.111662</td>\n",
              "      <td>0.312411</td>\n",
              "      <td>0.940159</td>\n",
              "      <td>-1.152000</td>\n",
              "      <td>0.662983</td>\n",
              "      <td>0.979041</td>\n",
              "      <td>-0.293561</td>\n",
              "      <td>-0.711736</td>\n",
              "    </tr>\n",
              "    <tr>\n",
              "      <th>1796</th>\n",
              "      <td>1.257702</td>\n",
              "      <td>2.227591</td>\n",
              "      <td>0.283628</td>\n",
              "      <td>0.127073</td>\n",
              "      <td>-1.570173</td>\n",
              "      <td>2.342953</td>\n",
              "      <td>0.383075</td>\n",
              "      <td>1.200566</td>\n",
              "      <td>-0.816831</td>\n",
              "      <td>-1.825428</td>\n",
              "      <td>-0.085511</td>\n",
              "      <td>-0.549436</td>\n",
              "      <td>0.099634</td>\n",
              "      <td>0.757965</td>\n",
              "      <td>-1.825514</td>\n",
              "      <td>-0.248320</td>\n",
              "      <td>0.643783</td>\n",
              "      <td>-1.944213</td>\n",
              "      <td>-2.438979</td>\n",
              "      <td>-1.132762</td>\n",
              "      <td>-1.114587</td>\n",
              "      <td>0.291210</td>\n",
              "      <td>-1.073341</td>\n",
              "      <td>-0.274700</td>\n",
              "      <td>0.909278</td>\n",
              "      <td>0.450495</td>\n",
              "      <td>0.322974</td>\n",
              "      <td>0.916469</td>\n",
              "      <td>-0.629528</td>\n",
              "      <td>0.327032</td>\n",
              "    </tr>\n",
              "  </tbody>\n",
              "</table>\n",
              "<p>1797 rows × 30 columns</p>\n",
              "</div>"
            ],
            "text/plain": [
              "            0         1         2   ...        27        28        29\n",
              "0    -1.914214  0.954502 -3.946035  ...  0.157022 -0.404918 -0.324594\n",
              "1    -0.588980 -0.924636  3.924755  ... -0.742482  0.855856 -0.277084\n",
              "2    -1.302039  0.317189  3.023333  ...  0.205099  0.362138  1.181186\n",
              "3     3.020770  0.868772 -0.801744  ... -0.403244 -0.291934 -1.244539\n",
              "4    -4.528949  1.093480  0.973121  ...  0.746668 -1.076306  0.297665\n",
              "...        ...       ...       ...  ...       ...       ...       ...\n",
              "1792 -0.104331 -0.255024 -3.765861  ...  0.058615 -0.979933 -0.122796\n",
              "1793 -2.423234  1.429611 -3.045245  ... -0.567033  0.769823 -0.008326\n",
              "1794 -1.022596  0.147911  2.469974  ... -0.352066 -0.521824 -0.271170\n",
              "1795 -1.076055  0.380906 -2.455487  ...  0.979041 -0.293561 -0.711736\n",
              "1796  1.257702  2.227591  0.283628  ...  0.916469 -0.629528  0.327032\n",
              "\n",
              "[1797 rows x 30 columns]"
            ]
          },
          "metadata": {},
          "execution_count": 86
        }
      ]
    },
    {
      "cell_type": "code",
      "metadata": {
        "id": "1lSPaRl2-hs5",
        "colab": {
          "base_uri": "https://localhost:8080/",
          "height": 1000
        },
        "outputId": "a6662b69-890d-43eb-b800-6669e89d5990"
      },
      "source": [
        "import seaborn as sns \n",
        "import matplotlib.pyplot as plt\n",
        "plt.figure(figsize=(20,20))\n",
        "sns.heatmap(projected.corr(),linewidths=.5)\n",
        "plt.show()"
      ],
      "execution_count": null,
      "outputs": [
        {
          "output_type": "display_data",
          "data": {
            "image/png": "[encoded data removed]",
            "text/plain": [
              "<Figure size 1440x1440 with 2 Axes>"
            ]
          },
          "metadata": {
            "needs_background": "light"
          }
        }
      ]
      
    }
  ]
}
